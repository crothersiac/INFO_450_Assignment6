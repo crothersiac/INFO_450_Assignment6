{
 "cells": [
  {
   "cell_type": "code",
   "execution_count": 7,
   "id": "d989e2b1",
   "metadata": {},
   "outputs": [],
   "source": [
    "#!pip install pandas\n",
    "#!pip install plotly\n",
    "import pandas as pd\n",
    "import plotly.express as px\n",
    "\n",
    "df = pd.read_csv('evdataset.csv')\n",
    "df.rename(columns={'Electric Range':'Range'}, inplace=True)\n",
    "df['KWH Per Gallon'] = df['Range'] / df['Battery Capacity']"
   ]
  },
  {
   "cell_type": "code",
   "execution_count": null,
   "id": "ab977244",
   "metadata": {},
   "outputs": [],
   "source": [
    "#df.dtypes"
   ]
  },
  {
   "cell_type": "code",
   "execution_count": null,
   "id": "b90bffda",
   "metadata": {
    "scrolled": false
   },
   "outputs": [],
   "source": [
    "#gk = df.groupby('Make')\n",
    "#gk.first()"
   ]
  },
  {
   "cell_type": "code",
   "execution_count": 8,
   "id": "9ba0a385",
   "metadata": {
    "scrolled": false
   },
   "outputs": [
    {
     "data": {
      "application/vnd.plotly.v1+json": {
       "config": {
        "plotlyServerURL": "https://plot.ly"
       },
       "data": [
        {
         "customdata": [
          [
           5.038759689922481
          ],
          [
           4.909560723514211
          ],
          [
           4.715762273901809
          ],
          [
           4.521963824289405
          ]
         ],
         "hovertemplate": "Make=Genesis<br>Range=%{x}<br>Battery Capacity=%{y}<br>KWH Per Gallon=%{customdata[0]}<extra></extra>",
         "legendgroup": "Genesis",
         "marker": {
          "color": "#636efa",
          "symbol": "circle"
         },
         "mode": "markers",
         "name": "Genesis",
         "orientation": "v",
         "showlegend": true,
         "type": "scatter",
         "x": [
          390,
          380,
          365,
          350
         ],
         "xaxis": "x",
         "y": [
          77.4,
          77.4,
          77.4,
          77.4
         ],
         "yaxis": "y"
        },
        {
         "customdata": [
          [
           4.734576757532281
          ],
          [
           4.8
          ],
          [
           5.041666666666667
          ],
          [
           5.0215208034433285
          ],
          [
           5.074424898511501
          ],
          [
           5.0215208034433285
          ],
          [
           4.708333333333333
          ],
          [
           3.05
          ],
          [
           5
          ],
          [
           5.09325681492109
          ],
          [
           5.041666666666667
          ],
          [
           4.352941176470588
          ],
          [
           5
          ],
          [
           4.041666666666667
          ],
          [
           4.125
          ],
          [
           5.15
          ],
          [
           5.25
          ],
          [
           3.05
          ],
          [
           4.85
          ],
          [
           5.15
          ],
          [
           5.333333333333333
          ],
          [
           4.734576757532281
          ],
          [
           4.949784791965566
          ],
          [
           5.125
          ]
         ],
         "hovertemplate": "Make=Mercedes<br>Range=%{x}<br>Battery Capacity=%{y}<br>KWH Per Gallon=%{customdata[0]}<extra></extra>",
         "legendgroup": "Mercedes",
         "marker": {
          "color": "#EF553B",
          "symbol": "circle"
         },
         "mode": "markers",
         "name": "Mercedes",
         "orientation": "v",
         "showlegend": true,
         "type": "scatter",
         "x": [
          330,
          480,
          605,
          350,
          375,
          350,
          565,
          305,
          500,
          355,
          605,
          370,
          500,
          485,
          495,
          515,
          525,
          305,
          485,
          515,
          640,
          330,
          345,
          615
         ],
         "xaxis": "x",
         "y": [
          69.7,
          100,
          120,
          69.7,
          73.9,
          69.7,
          120,
          100,
          100,
          69.7,
          120,
          85,
          100,
          120,
          120,
          100,
          100,
          100,
          100,
          100,
          120,
          69.7,
          69.7,
          120
         ],
         "yaxis": "y"
        },
        {
         "customdata": [
          [
           4.443254817987151
          ],
          [
           4.282655246252676
          ],
          [
           4.3361884368308345
          ],
          [
           4.550321199143469
          ],
          [
           4.6038543897216275
          ],
          [
           4.817987152034261
          ],
          [
           4.987373737373737
          ],
          [
           4.797979797979798
          ],
          [
           4.550321199143469
          ],
          [
           5.1767676767676765
          ],
          [
           4.122055674518201
          ],
          [
           4.229122055674518
          ],
          [
           4.764453961456103
          ],
          [
           4.925053533190578
          ],
          [
           4.550321199143469
          ],
          [
           4.671717171717171
          ],
          [
           5.085653104925053
          ],
          [
           4.282655246252676
          ]
         ],
         "hovertemplate": "Make=Porsche<br>Range=%{x}<br>Battery Capacity=%{y}<br>KWH Per Gallon=%{customdata[0]}<extra></extra>",
         "legendgroup": "Porsche",
         "marker": {
          "color": "#00cc96",
          "symbol": "circle"
         },
         "mode": "markers",
         "name": "Porsche",
         "orientation": "v",
         "showlegend": true,
         "type": "scatter",
         "x": [
          415,
          400,
          405,
          425,
          430,
          450,
          395,
          380,
          425,
          410,
          385,
          395,
          445,
          460,
          425,
          370,
          475,
          400
         ],
         "xaxis": "x",
         "y": [
          93.4,
          93.4,
          93.4,
          93.4,
          93.4,
          93.4,
          79.2,
          79.2,
          93.4,
          79.2,
          93.4,
          93.4,
          93.4,
          93.4,
          93.4,
          79.2,
          93.4,
          93.4
         ],
         "yaxis": "y"
        },
        {
         "customdata": [
          [
           5.601907032181168
          ],
          [
           4.8125
          ],
          [
           5.220588235294118
          ],
          [
           4.349775784753363
          ],
          [
           4.5291479820627805
          ],
          [
           4.699738903394256
          ],
          [
           4.857142857142857
          ],
          [
           5.184743742550655
          ]
         ],
         "hovertemplate": "Make=BMW<br>Range=%{x}<br>Battery Capacity=%{y}<br>KWH Per Gallon=%{customdata[0]}<extra></extra>",
         "legendgroup": "BMW",
         "marker": {
          "color": "#ab63fa",
          "symbol": "circle"
         },
         "mode": "markers",
         "name": "BMW",
         "orientation": "v",
         "showlegend": true,
         "type": "scatter",
         "x": [
          470,
          385,
          355,
          485,
          505,
          360,
          510,
          435
         ],
         "xaxis": "x",
         "y": [
          83.9,
          80,
          68,
          111.5,
          111.5,
          76.6,
          105,
          83.9
         ],
         "yaxis": "y"
        },
        {
         "customdata": [
          [
           5.487804878048781
          ],
          [
           5.181818181818182
          ],
          [
           5
          ],
          [
           5.181818181818182
          ],
          [
           4.024390243902439
          ],
          [
           5.2439024390243905
          ],
          [
           5
          ],
          [
           4.939024390243903
          ],
          [
           4.939024390243903
          ],
          [
           5.645161290322581
          ],
          [
           4.878048780487805
          ],
          [
           5.2439024390243905
          ],
          [
           5.487804878048781
          ]
         ],
         "hovertemplate": "Make=Volkswagen<br>Range=%{x}<br>Battery Capacity=%{y}<br>KWH Per Gallon=%{customdata[0]}<extra></extra>",
         "legendgroup": "Volkswagen",
         "marker": {
          "color": "#FFA15A",
          "symbol": "circle"
         },
         "mode": "markers",
         "name": "Volkswagen",
         "orientation": "v",
         "showlegend": true,
         "type": "scatter",
         "x": [
          450,
          285,
          410,
          285,
          330,
          430,
          410,
          405,
          405,
          350,
          400,
          430,
          450
         ],
         "xaxis": "x",
         "y": [
          82,
          55,
          82,
          55,
          82,
          82,
          82,
          82,
          82,
          62,
          82,
          82,
          82
         ],
         "yaxis": "y"
        },
        {
         "customdata": [
          [
           5
          ],
          [
           5.645161290322581
          ],
          [
           5.487804878048781
          ],
          [
           5.564516129032258
          ]
         ],
         "hovertemplate": "Make=CUPRA<br>Range=%{x}<br>Battery Capacity=%{y}<br>KWH Per Gallon=%{customdata[0]}<extra></extra>",
         "legendgroup": "CUPRA",
         "marker": {
          "color": "#19d3f3",
          "symbol": "circle"
         },
         "mode": "markers",
         "name": "CUPRA",
         "orientation": "v",
         "showlegend": true,
         "type": "scatter",
         "x": [
          275,
          350,
          450,
          345
         ],
         "xaxis": "x",
         "y": [
          55,
          62,
          82,
          62
         ],
         "yaxis": "y"
        },
        {
         "customdata": [
          [
           5.32258064516129
          ],
          [
           4.878048780487805
          ],
          [
           5.121951219512195
          ],
          [
           5.403225806451613
          ],
          [
           5.426829268292683
          ]
         ],
         "hovertemplate": "Make=Skoda<br>Range=%{x}<br>Battery Capacity=%{y}<br>KWH Per Gallon=%{customdata[0]}<extra></extra>",
         "legendgroup": "Skoda",
         "marker": {
          "color": "#FF6692",
          "symbol": "circle"
         },
         "mode": "markers",
         "name": "Skoda",
         "orientation": "v",
         "showlegend": true,
         "type": "scatter",
         "x": [
          330,
          400,
          420,
          335,
          445
         ],
         "xaxis": "x",
         "y": [
          62,
          82,
          82,
          62,
          82
         ],
         "yaxis": "y"
        },
        {
         "customdata": [
          [
           4.721030042918454
          ],
          [
           4.792560801144492
          ],
          [
           5.168986083499006
          ],
          [
           5.703125
          ],
          [
           5.319148936170213
          ],
          [
           5.027548209366391
          ],
          [
           5.882352941176471
          ],
          [
           5.283757338551859
          ]
         ],
         "hovertemplate": "Make=MG<br>Range=%{x}<br>Battery Capacity=%{y}<br>KWH Per Gallon=%{customdata[0]}<extra></extra>",
         "legendgroup": "MG",
         "marker": {
          "color": "#B6E880",
          "symbol": "circle"
         },
         "mode": "markers",
         "name": "MG",
         "orientation": "v",
         "showlegend": true,
         "type": "scatter",
         "x": [
          330,
          335,
          260,
          365,
          325,
          365,
          300,
          270
         ],
         "xaxis": "x",
         "y": [
          69.9,
          69.9,
          50.3,
          64,
          61.1,
          72.6,
          51,
          51.1
         ],
         "yaxis": "y"
        },
        {
         "customdata": [
          [
           4.487179487179487
          ],
          [
           4.358974358974359
          ],
          [
           4.855072463768116
          ],
          [
           4.782608695652174
          ]
         ],
         "hovertemplate": "Make=Volvo<br>Range=%{x}<br>Battery Capacity=%{y}<br>KWH Per Gallon=%{customdata[0]}<extra></extra>",
         "legendgroup": "Volvo",
         "marker": {
          "color": "#FF97FF",
          "symbol": "circle"
         },
         "mode": "markers",
         "name": "Volvo",
         "orientation": "v",
         "showlegend": true,
         "type": "scatter",
         "x": [
          350,
          340,
          335,
          330
         ],
         "xaxis": "x",
         "y": [
          78,
          78,
          69,
          69
         ],
         "yaxis": "y"
        },
        {
         "customdata": [
          [
           5.672268907563025
          ],
          [
           3.6
          ],
          [
           5.595238095238095
          ],
          [
           3.5
          ],
          [
           5.595238095238095
          ],
          [
           5.476190476190476
          ],
          [
           3.466666666666667
          ],
          [
           3.533333333333333
          ]
         ],
         "hovertemplate": "Make=Fiat<br>Range=%{x}<br>Battery Capacity=%{y}<br>KWH Per Gallon=%{customdata[0]}<extra></extra>",
         "legendgroup": "Fiat",
         "marker": {
          "color": "#FECB52",
          "symbol": "circle"
         },
         "mode": "markers",
         "name": "Fiat",
         "orientation": "v",
         "showlegend": true,
         "type": "scatter",
         "x": [
          135,
          180,
          235,
          175,
          235,
          230,
          260,
          265
         ],
         "xaxis": "x",
         "y": [
          23.8,
          50,
          42,
          50,
          42,
          42,
          75,
          75
         ],
         "yaxis": "y"
        },
        {
         "customdata": [
          [
           5.303030303030303
          ],
          [
           5.075757575757576
          ]
         ],
         "hovertemplate": "Make=Smart<br>Range=%{x}<br>Battery Capacity=%{y}<br>KWH Per Gallon=%{customdata[0]}<extra></extra>",
         "legendgroup": "Smart",
         "marker": {
          "color": "#636efa",
          "symbol": "circle"
         },
         "mode": "markers",
         "name": "Smart",
         "orientation": "v",
         "showlegend": true,
         "type": "scatter",
         "x": [
          350,
          335
         ],
         "xaxis": "x",
         "y": [
          66,
          66
         ],
         "yaxis": "y"
        },
        {
         "customdata": [
          [
           5.038759689922481
          ],
          [
           5.851851851851852
          ],
          [
           5.086206896551724
          ],
          [
           5.9523809523809526
          ],
          [
           4.974160206718346
          ]
         ],
         "hovertemplate": "Make=Hyundai<br>Range=%{x}<br>Battery Capacity=%{y}<br>KWH Per Gallon=%{customdata[0]}<extra></extra>",
         "legendgroup": "Hyundai",
         "marker": {
          "color": "#EF553B",
          "symbol": "circle"
         },
         "mode": "markers",
         "name": "Hyundai",
         "orientation": "v",
         "showlegend": true,
         "type": "scatter",
         "x": [
          390,
          395,
          295,
          250,
          385
         ],
         "xaxis": "x",
         "y": [
          77.4,
          67.5,
          58,
          42,
          77.4
         ],
         "yaxis": "y"
        },
        {
         "customdata": [
          [
           4
          ],
          [
           5.1
          ],
          [
           3.6
          ],
          [
           3.6
          ],
          [
           3.466666666666667
          ],
          [
           3.5
          ],
          [
           5.7
          ],
          [
           3.9
          ],
          [
           3.5
          ],
          [
           3.533333333333333
          ],
          [
           3.466666666666667
          ],
          [
           3.533333333333333
          ]
         ],
         "hovertemplate": "Make=Peugeot<br>Range=%{x}<br>Battery Capacity=%{y}<br>KWH Per Gallon=%{customdata[0]}<extra></extra>",
         "legendgroup": "Peugeot",
         "marker": {
          "color": "#00cc96",
          "symbol": "circle"
         },
         "mode": "markers",
         "name": "Peugeot",
         "orientation": "v",
         "showlegend": true,
         "type": "scatter",
         "x": [
          200,
          255,
          180,
          180,
          260,
          175,
          285,
          195,
          175,
          265,
          260,
          265
         ],
         "xaxis": "x",
         "y": [
          50,
          50,
          50,
          50,
          75,
          50,
          50,
          50,
          50,
          75,
          75,
          75
         ],
         "yaxis": "y"
        },
        {
         "customdata": [
          [
           4
          ],
          [
           3.6
          ],
          [
           3.5
          ],
          [
           5.3
          ],
          [
           3.5
          ],
          [
           3.466666666666667
          ],
          [
           3.466666666666667
          ],
          [
           3.6
          ],
          [
           3.533333333333333
          ],
          [
           3.533333333333333
          ],
          [
           3.9
          ]
         ],
         "hovertemplate": "Make=Citroen<br>Range=%{x}<br>Battery Capacity=%{y}<br>KWH Per Gallon=%{customdata[0]}<extra></extra>",
         "legendgroup": "Citroen",
         "marker": {
          "color": "#ab63fa",
          "symbol": "circle"
         },
         "mode": "markers",
         "name": "Citroen",
         "orientation": "v",
         "showlegend": true,
         "type": "scatter",
         "x": [
          200,
          180,
          175,
          265,
          175,
          260,
          260,
          180,
          265,
          265,
          195
         ],
         "xaxis": "x",
         "y": [
          50,
          50,
          50,
          50,
          50,
          75,
          75,
          50,
          75,
          75,
          50
         ],
         "yaxis": "y"
        },
        {
         "customdata": [
          [
           4.939024390243903
          ],
          [
           5.363636363636363
          ],
          [
           3.473684210526316
          ],
          [
           4.695121951219512
          ],
          [
           3.3684210526315788
          ],
          [
           5.181818181818182
          ],
          [
           3.943661971830986
          ],
          [
           4.3361884368308345
          ],
          [
           3.8421052631578947
          ],
          [
           4.878048780487805
          ],
          [
           4.49678800856531
          ],
          [
           4.695121951219512
          ],
          [
           4.154929577464789
          ],
          [
           4
          ],
          [
           5.182926829268292
          ],
          [
           4.878048780487805
          ]
         ],
         "hovertemplate": "Make=Audi<br>Range=%{x}<br>Battery Capacity=%{y}<br>KWH Per Gallon=%{customdata[0]}<extra></extra>",
         "legendgroup": "Audi",
         "marker": {
          "color": "#FFA15A",
          "symbol": "circle"
         },
         "mode": "markers",
         "name": "Audi",
         "orientation": "v",
         "showlegend": true,
         "type": "scatter",
         "x": [
          405,
          295,
          330,
          385,
          320,
          285,
          280,
          405,
          365,
          400,
          420,
          385,
          295,
          380,
          425,
          400
         ],
         "xaxis": "x",
         "y": [
          82,
          55,
          95,
          82,
          95,
          55,
          71,
          93.4,
          95,
          82,
          93.4,
          82,
          71,
          95,
          82,
          82
         ],
         "yaxis": "y"
        },
        {
         "customdata": [
          [
           5.064102564102564
          ],
          [
           5.448717948717949
          ]
         ],
         "hovertemplate": "Make=Polestar<br>Range=%{x}<br>Battery Capacity=%{y}<br>KWH Per Gallon=%{customdata[0]}<extra></extra>",
         "legendgroup": "Polestar",
         "marker": {
          "color": "#19d3f3",
          "symbol": "circle"
         },
         "mode": "markers",
         "name": "Polestar",
         "orientation": "v",
         "showlegend": true,
         "type": "scatter",
         "x": [
          395,
          425
         ],
         "xaxis": "x",
         "y": [
          78,
          78
         ],
         "yaxis": "y"
        },
        {
         "customdata": [
          [
           4.933333333333334
          ],
          [
           3.5
          ],
          [
           3.533333333333333
          ],
          [
           3.466666666666667
          ],
          [
           3.466666666666667
          ],
          [
           3.5
          ],
          [
           3.466666666666667
          ],
          [
           5
          ]
         ],
         "hovertemplate": "Make=Toyota<br>Range=%{x}<br>Battery Capacity=%{y}<br>KWH Per Gallon=%{customdata[0]}<extra></extra>",
         "legendgroup": "Toyota",
         "marker": {
          "color": "#FF6692",
          "symbol": "circle"
         },
         "mode": "markers",
         "name": "Toyota",
         "orientation": "v",
         "showlegend": true,
         "type": "scatter",
         "x": [
          370,
          175,
          265,
          260,
          260,
          175,
          260,
          375
         ],
         "xaxis": "x",
         "y": [
          75,
          50,
          75,
          75,
          75,
          50,
          75,
          75
         ],
         "yaxis": "y"
        },
        {
         "customdata": [
          [
           5.588235294117647
          ],
          [
           4.7803617571059425
          ],
          [
           5.167958656330749
          ],
          [
           5.297157622739018
          ],
          [
           5.476190476190476
          ],
          [
           5.258620689655173
          ]
         ],
         "hovertemplate": "Make=Kia<br>Range=%{x}<br>Battery Capacity=%{y}<br>KWH Per Gallon=%{customdata[0]}<extra></extra>",
         "legendgroup": "Kia",
         "marker": {
          "color": "#B6E880",
          "symbol": "circle"
         },
         "mode": "markers",
         "name": "Kia",
         "orientation": "v",
         "showlegend": true,
         "type": "scatter",
         "x": [
          380,
          370,
          400,
          410,
          230,
          305
         ],
         "xaxis": "x",
         "y": [
          68,
          77.4,
          77.4,
          77.4,
          42,
          58
         ],
         "yaxis": "y"
        },
        {
         "customdata": [
          [
           5.2
          ]
         ],
         "hovertemplate": "Make=DS<br>Range=%{x}<br>Battery Capacity=%{y}<br>KWH Per Gallon=%{customdata[0]}<extra></extra>",
         "legendgroup": "DS",
         "marker": {
          "color": "#FF97FF",
          "symbol": "circle"
         },
         "mode": "markers",
         "name": "DS",
         "orientation": "v",
         "showlegend": true,
         "type": "scatter",
         "x": [
          260
         ],
         "xaxis": "x",
         "y": [
          50
         ],
         "yaxis": "y"
        },
        {
         "customdata": [
          [
           4.305977710233029
          ],
          [
           4.609929078014185
          ],
          [
           4.407294832826747
          ],
          [
           4.4579533941236065
          ],
          [
           4.305977710233029
          ],
          [
           4.6895640686922055
          ],
          [
           4.557463672391017
          ]
         ],
         "hovertemplate": "Make=Ford<br>Range=%{x}<br>Battery Capacity=%{y}<br>KWH Per Gallon=%{customdata[0]}<extra></extra>",
         "legendgroup": "Ford",
         "marker": {
          "color": "#FECB52",
          "symbol": "circle"
         },
         "mode": "markers",
         "name": "Ford",
         "orientation": "v",
         "showlegend": true,
         "type": "scatter",
         "x": [
          425,
          455,
          435,
          440,
          425,
          355,
          345
         ],
         "xaxis": "x",
         "y": [
          98.7,
          98.7,
          98.7,
          98.7,
          98.7,
          75.7,
          75.7
         ],
         "yaxis": "y"
        },
        {
         "customdata": [
          [
           4.788732394366197
          ],
          [
           4.788732394366197
          ]
         ],
         "hovertemplate": "Make=Honda<br>Range=%{x}<br>Battery Capacity=%{y}<br>KWH Per Gallon=%{customdata[0]}<extra></extra>",
         "legendgroup": "Honda",
         "marker": {
          "color": "#636efa",
          "symbol": "circle"
         },
         "mode": "markers",
         "name": "Honda",
         "orientation": "v",
         "showlegend": true,
         "type": "scatter",
         "x": [
          170,
          170
         ],
         "xaxis": "x",
         "y": [
          35.5,
          35.5
         ],
         "yaxis": "y"
        },
        {
         "customdata": [
          [
           5.172413793103448
          ]
         ],
         "hovertemplate": "Make=JAC<br>Range=%{x}<br>Battery Capacity=%{y}<br>KWH Per Gallon=%{customdata[0]}<extra></extra>",
         "legendgroup": "JAC",
         "marker": {
          "color": "#EF553B",
          "symbol": "circle"
         },
         "mode": "markers",
         "name": "JAC",
         "orientation": "v",
         "showlegend": true,
         "type": "scatter",
         "x": [
          225
         ],
         "xaxis": "x",
         "y": [
          43.5
         ],
         "yaxis": "y"
        },
        {
         "customdata": [
          [
           5.483870967741935
          ]
         ],
         "hovertemplate": "Make=Nissan<br>Range=%{x}<br>Battery Capacity=%{y}<br>KWH Per Gallon=%{customdata[0]}<extra></extra>",
         "legendgroup": "Nissan",
         "marker": {
          "color": "#00cc96",
          "symbol": "circle"
         },
         "mode": "markers",
         "name": "Nissan",
         "orientation": "v",
         "showlegend": true,
         "type": "scatter",
         "x": [
          340
         ],
         "xaxis": "x",
         "y": [
          62
         ],
         "yaxis": "y"
        },
        {
         "customdata": [
          [
           6.083333333333333
          ],
          [
           6.25
          ],
          [
           5.7586837294332724
          ],
          [
           6
          ],
          [
           5.667276051188299
          ]
         ],
         "hovertemplate": "Make=Renault<br>Range=%{x}<br>Battery Capacity=%{y}<br>KWH Per Gallon=%{customdata[0]}<extra></extra>",
         "legendgroup": "Renault",
         "marker": {
          "color": "#ab63fa",
          "symbol": "circle"
         },
         "mode": "markers",
         "name": "Renault",
         "orientation": "v",
         "showlegend": true,
         "type": "scatter",
         "x": [
          365,
          250,
          315,
          360,
          310
         ],
         "xaxis": "x",
         "y": [
          60,
          40,
          54.7,
          60,
          54.7
         ],
         "yaxis": "y"
        },
        {
         "customdata": [
          [
           3.533333333333333
          ],
          [
           3.5
          ],
          [
           5.1
          ],
          [
           3.6
          ],
          [
           5.7
          ],
          [
           3.466666666666667
          ]
         ],
         "hovertemplate": "Make=Opel<br>Range=%{x}<br>Battery Capacity=%{y}<br>KWH Per Gallon=%{customdata[0]}<extra></extra>",
         "legendgroup": "Opel",
         "marker": {
          "color": "#FFA15A",
          "symbol": "circle"
         },
         "mode": "markers",
         "name": "Opel",
         "orientation": "v",
         "showlegend": true,
         "type": "scatter",
         "x": [
          265,
          175,
          255,
          180,
          285,
          260
         ],
         "xaxis": "x",
         "y": [
          75,
          50,
          50,
          50,
          50,
          75
         ],
         "yaxis": "y"
        },
        {
         "customdata": [
          [
           3.585858585858586
          ],
          [
           3.630952380952381
          ]
         ],
         "hovertemplate": "Make=Hongqi<br>Range=%{x}<br>Battery Capacity=%{y}<br>KWH Per Gallon=%{customdata[0]}<extra></extra>",
         "legendgroup": "Hongqi",
         "marker": {
          "color": "#19d3f3",
          "symbol": "circle"
         },
         "mode": "markers",
         "name": "Hongqi",
         "orientation": "v",
         "showlegend": true,
         "type": "scatter",
         "x": [
          355,
          305
         ],
         "xaxis": "x",
         "y": [
          99,
          84
         ],
         "yaxis": "y"
        },
        {
         "customdata": [
          [
           4.327808471454881
          ]
         ],
         "hovertemplate": "Make=Lexus<br>Range=%{x}<br>Battery Capacity=%{y}<br>KWH Per Gallon=%{customdata[0]}<extra></extra>",
         "legendgroup": "Lexus",
         "marker": {
          "color": "#FF6692",
          "symbol": "circle"
         },
         "mode": "markers",
         "name": "Lexus",
         "orientation": "v",
         "showlegend": true,
         "type": "scatter",
         "x": [
          235
         ],
         "xaxis": "x",
         "y": [
          54.3
         ],
         "yaxis": "y"
        },
        {
         "customdata": [
          [
           5.7835820895522385
          ]
         ],
         "hovertemplate": "Make=Dacia<br>Range=%{x}<br>Battery Capacity=%{y}<br>KWH Per Gallon=%{customdata[0]}<extra></extra>",
         "legendgroup": "Dacia",
         "marker": {
          "color": "#B6E880",
          "symbol": "circle"
         },
         "mode": "markers",
         "name": "Dacia",
         "orientation": "v",
         "showlegend": true,
         "type": "scatter",
         "x": [
          155
         ],
         "xaxis": "x",
         "y": [
          26.8
         ],
         "yaxis": "y"
        },
        {
         "customdata": [
          [
           4.788732394366197
          ]
         ],
         "hovertemplate": "Make=Mazda<br>Range=%{x}<br>Battery Capacity=%{y}<br>KWH Per Gallon=%{customdata[0]}<extra></extra>",
         "legendgroup": "Mazda",
         "marker": {
          "color": "#FF97FF",
          "symbol": "circle"
         },
         "mode": "markers",
         "name": "Mazda",
         "orientation": "v",
         "showlegend": true,
         "type": "scatter",
         "x": [
          170
         ],
         "xaxis": "x",
         "y": [
          35.5
         ],
         "yaxis": "y"
        },
        {
         "customdata": [
          [
           5.1923076923076925
          ]
         ],
         "hovertemplate": "Make=Seres<br>Range=%{x}<br>Battery Capacity=%{y}<br>KWH Per Gallon=%{customdata[0]}<extra></extra>",
         "legendgroup": "Seres",
         "marker": {
          "color": "#FECB52",
          "symbol": "circle"
         },
         "mode": "markers",
         "name": "Seres",
         "orientation": "v",
         "showlegend": true,
         "type": "scatter",
         "x": [
          270
         ],
         "xaxis": "x",
         "y": [
          52
         ],
         "yaxis": "y"
        },
        {
         "customdata": [
          [
           5.914634146341464
          ],
          [
           5.304878048780488
          ],
          [
           5.060975609756097
          ],
          [
           5.609756097560975
          ]
         ],
         "hovertemplate": "Make=Tesla<br>Range=%{x}<br>Battery Capacity=%{y}<br>KWH Per Gallon=%{customdata[0]}<extra></extra>",
         "legendgroup": "Tesla",
         "marker": {
          "color": "#636efa",
          "symbol": "circle"
         },
         "mode": "markers",
         "name": "Tesla",
         "orientation": "v",
         "showlegend": true,
         "type": "scatter",
         "x": [
          485,
          435,
          415,
          460
         ],
         "xaxis": "x",
         "y": [
          82,
          82,
          82,
          82
         ],
         "yaxis": "y"
        },
        {
         "customdata": [
          [
           4.222222222222222
          ]
         ],
         "hovertemplate": "Make=Jaguar<br>Range=%{x}<br>Battery Capacity=%{y}<br>KWH Per Gallon=%{customdata[0]}<extra></extra>",
         "legendgroup": "Jaguar",
         "marker": {
          "color": "#EF553B",
          "symbol": "circle"
         },
         "mode": "markers",
         "name": "Jaguar",
         "orientation": "v",
         "showlegend": true,
         "type": "scatter",
         "x": [
          380
         ],
         "xaxis": "x",
         "y": [
          90
         ],
         "yaxis": "y"
        },
        {
         "customdata": [
          [
           5.521472392638037
          ]
         ],
         "hovertemplate": "Make=Mini<br>Range=%{x}<br>Battery Capacity=%{y}<br>KWH Per Gallon=%{customdata[0]}<extra></extra>",
         "legendgroup": "Mini",
         "marker": {
          "color": "#00cc96",
          "symbol": "circle"
         },
         "mode": "markers",
         "name": "Mini",
         "orientation": "v",
         "showlegend": true,
         "type": "scatter",
         "x": [
          180
         ],
         "xaxis": "x",
         "y": [
          32.6
         ],
         "yaxis": "y"
        },
        {
         "customdata": [
          [
           4.733333333333333
          ]
         ],
         "hovertemplate": "Make=Subaru<br>Range=%{x}<br>Battery Capacity=%{y}<br>KWH Per Gallon=%{customdata[0]}<extra></extra>",
         "legendgroup": "Subaru",
         "marker": {
          "color": "#ab63fa",
          "symbol": "circle"
         },
         "mode": "markers",
         "name": "Subaru",
         "orientation": "v",
         "showlegend": true,
         "type": "scatter",
         "x": [
          355
         ],
         "xaxis": "x",
         "y": [
          75
         ],
         "yaxis": "y"
        }
       ],
       "layout": {
        "legend": {
         "title": {
          "text": "Make"
         },
         "tracegroupgap": 0
        },
        "template": {
         "data": {
          "bar": [
           {
            "error_x": {
             "color": "#2a3f5f"
            },
            "error_y": {
             "color": "#2a3f5f"
            },
            "marker": {
             "line": {
              "color": "#E5ECF6",
              "width": 0.5
             },
             "pattern": {
              "fillmode": "overlay",
              "size": 10,
              "solidity": 0.2
             }
            },
            "type": "bar"
           }
          ],
          "barpolar": [
           {
            "marker": {
             "line": {
              "color": "#E5ECF6",
              "width": 0.5
             },
             "pattern": {
              "fillmode": "overlay",
              "size": 10,
              "solidity": 0.2
             }
            },
            "type": "barpolar"
           }
          ],
          "carpet": [
           {
            "aaxis": {
             "endlinecolor": "#2a3f5f",
             "gridcolor": "white",
             "linecolor": "white",
             "minorgridcolor": "white",
             "startlinecolor": "#2a3f5f"
            },
            "baxis": {
             "endlinecolor": "#2a3f5f",
             "gridcolor": "white",
             "linecolor": "white",
             "minorgridcolor": "white",
             "startlinecolor": "#2a3f5f"
            },
            "type": "carpet"
           }
          ],
          "choropleth": [
           {
            "colorbar": {
             "outlinewidth": 0,
             "ticks": ""
            },
            "type": "choropleth"
           }
          ],
          "contour": [
           {
            "colorbar": {
             "outlinewidth": 0,
             "ticks": ""
            },
            "colorscale": [
             [
              0,
              "#0d0887"
             ],
             [
              0.1111111111111111,
              "#46039f"
             ],
             [
              0.2222222222222222,
              "#7201a8"
             ],
             [
              0.3333333333333333,
              "#9c179e"
             ],
             [
              0.4444444444444444,
              "#bd3786"
             ],
             [
              0.5555555555555556,
              "#d8576b"
             ],
             [
              0.6666666666666666,
              "#ed7953"
             ],
             [
              0.7777777777777778,
              "#fb9f3a"
             ],
             [
              0.8888888888888888,
              "#fdca26"
             ],
             [
              1,
              "#f0f921"
             ]
            ],
            "type": "contour"
           }
          ],
          "contourcarpet": [
           {
            "colorbar": {
             "outlinewidth": 0,
             "ticks": ""
            },
            "type": "contourcarpet"
           }
          ],
          "heatmap": [
           {
            "colorbar": {
             "outlinewidth": 0,
             "ticks": ""
            },
            "colorscale": [
             [
              0,
              "#0d0887"
             ],
             [
              0.1111111111111111,
              "#46039f"
             ],
             [
              0.2222222222222222,
              "#7201a8"
             ],
             [
              0.3333333333333333,
              "#9c179e"
             ],
             [
              0.4444444444444444,
              "#bd3786"
             ],
             [
              0.5555555555555556,
              "#d8576b"
             ],
             [
              0.6666666666666666,
              "#ed7953"
             ],
             [
              0.7777777777777778,
              "#fb9f3a"
             ],
             [
              0.8888888888888888,
              "#fdca26"
             ],
             [
              1,
              "#f0f921"
             ]
            ],
            "type": "heatmap"
           }
          ],
          "heatmapgl": [
           {
            "colorbar": {
             "outlinewidth": 0,
             "ticks": ""
            },
            "colorscale": [
             [
              0,
              "#0d0887"
             ],
             [
              0.1111111111111111,
              "#46039f"
             ],
             [
              0.2222222222222222,
              "#7201a8"
             ],
             [
              0.3333333333333333,
              "#9c179e"
             ],
             [
              0.4444444444444444,
              "#bd3786"
             ],
             [
              0.5555555555555556,
              "#d8576b"
             ],
             [
              0.6666666666666666,
              "#ed7953"
             ],
             [
              0.7777777777777778,
              "#fb9f3a"
             ],
             [
              0.8888888888888888,
              "#fdca26"
             ],
             [
              1,
              "#f0f921"
             ]
            ],
            "type": "heatmapgl"
           }
          ],
          "histogram": [
           {
            "marker": {
             "pattern": {
              "fillmode": "overlay",
              "size": 10,
              "solidity": 0.2
             }
            },
            "type": "histogram"
           }
          ],
          "histogram2d": [
           {
            "colorbar": {
             "outlinewidth": 0,
             "ticks": ""
            },
            "colorscale": [
             [
              0,
              "#0d0887"
             ],
             [
              0.1111111111111111,
              "#46039f"
             ],
             [
              0.2222222222222222,
              "#7201a8"
             ],
             [
              0.3333333333333333,
              "#9c179e"
             ],
             [
              0.4444444444444444,
              "#bd3786"
             ],
             [
              0.5555555555555556,
              "#d8576b"
             ],
             [
              0.6666666666666666,
              "#ed7953"
             ],
             [
              0.7777777777777778,
              "#fb9f3a"
             ],
             [
              0.8888888888888888,
              "#fdca26"
             ],
             [
              1,
              "#f0f921"
             ]
            ],
            "type": "histogram2d"
           }
          ],
          "histogram2dcontour": [
           {
            "colorbar": {
             "outlinewidth": 0,
             "ticks": ""
            },
            "colorscale": [
             [
              0,
              "#0d0887"
             ],
             [
              0.1111111111111111,
              "#46039f"
             ],
             [
              0.2222222222222222,
              "#7201a8"
             ],
             [
              0.3333333333333333,
              "#9c179e"
             ],
             [
              0.4444444444444444,
              "#bd3786"
             ],
             [
              0.5555555555555556,
              "#d8576b"
             ],
             [
              0.6666666666666666,
              "#ed7953"
             ],
             [
              0.7777777777777778,
              "#fb9f3a"
             ],
             [
              0.8888888888888888,
              "#fdca26"
             ],
             [
              1,
              "#f0f921"
             ]
            ],
            "type": "histogram2dcontour"
           }
          ],
          "mesh3d": [
           {
            "colorbar": {
             "outlinewidth": 0,
             "ticks": ""
            },
            "type": "mesh3d"
           }
          ],
          "parcoords": [
           {
            "line": {
             "colorbar": {
              "outlinewidth": 0,
              "ticks": ""
             }
            },
            "type": "parcoords"
           }
          ],
          "pie": [
           {
            "automargin": true,
            "type": "pie"
           }
          ],
          "scatter": [
           {
            "marker": {
             "colorbar": {
              "outlinewidth": 0,
              "ticks": ""
             }
            },
            "type": "scatter"
           }
          ],
          "scatter3d": [
           {
            "line": {
             "colorbar": {
              "outlinewidth": 0,
              "ticks": ""
             }
            },
            "marker": {
             "colorbar": {
              "outlinewidth": 0,
              "ticks": ""
             }
            },
            "type": "scatter3d"
           }
          ],
          "scattercarpet": [
           {
            "marker": {
             "colorbar": {
              "outlinewidth": 0,
              "ticks": ""
             }
            },
            "type": "scattercarpet"
           }
          ],
          "scattergeo": [
           {
            "marker": {
             "colorbar": {
              "outlinewidth": 0,
              "ticks": ""
             }
            },
            "type": "scattergeo"
           }
          ],
          "scattergl": [
           {
            "marker": {
             "colorbar": {
              "outlinewidth": 0,
              "ticks": ""
             }
            },
            "type": "scattergl"
           }
          ],
          "scattermapbox": [
           {
            "marker": {
             "colorbar": {
              "outlinewidth": 0,
              "ticks": ""
             }
            },
            "type": "scattermapbox"
           }
          ],
          "scatterpolar": [
           {
            "marker": {
             "colorbar": {
              "outlinewidth": 0,
              "ticks": ""
             }
            },
            "type": "scatterpolar"
           }
          ],
          "scatterpolargl": [
           {
            "marker": {
             "colorbar": {
              "outlinewidth": 0,
              "ticks": ""
             }
            },
            "type": "scatterpolargl"
           }
          ],
          "scatterternary": [
           {
            "marker": {
             "colorbar": {
              "outlinewidth": 0,
              "ticks": ""
             }
            },
            "type": "scatterternary"
           }
          ],
          "surface": [
           {
            "colorbar": {
             "outlinewidth": 0,
             "ticks": ""
            },
            "colorscale": [
             [
              0,
              "#0d0887"
             ],
             [
              0.1111111111111111,
              "#46039f"
             ],
             [
              0.2222222222222222,
              "#7201a8"
             ],
             [
              0.3333333333333333,
              "#9c179e"
             ],
             [
              0.4444444444444444,
              "#bd3786"
             ],
             [
              0.5555555555555556,
              "#d8576b"
             ],
             [
              0.6666666666666666,
              "#ed7953"
             ],
             [
              0.7777777777777778,
              "#fb9f3a"
             ],
             [
              0.8888888888888888,
              "#fdca26"
             ],
             [
              1,
              "#f0f921"
             ]
            ],
            "type": "surface"
           }
          ],
          "table": [
           {
            "cells": {
             "fill": {
              "color": "#EBF0F8"
             },
             "line": {
              "color": "white"
             }
            },
            "header": {
             "fill": {
              "color": "#C8D4E3"
             },
             "line": {
              "color": "white"
             }
            },
            "type": "table"
           }
          ]
         },
         "layout": {
          "annotationdefaults": {
           "arrowcolor": "#2a3f5f",
           "arrowhead": 0,
           "arrowwidth": 1
          },
          "autotypenumbers": "strict",
          "coloraxis": {
           "colorbar": {
            "outlinewidth": 0,
            "ticks": ""
           }
          },
          "colorscale": {
           "diverging": [
            [
             0,
             "#8e0152"
            ],
            [
             0.1,
             "#c51b7d"
            ],
            [
             0.2,
             "#de77ae"
            ],
            [
             0.3,
             "#f1b6da"
            ],
            [
             0.4,
             "#fde0ef"
            ],
            [
             0.5,
             "#f7f7f7"
            ],
            [
             0.6,
             "#e6f5d0"
            ],
            [
             0.7,
             "#b8e186"
            ],
            [
             0.8,
             "#7fbc41"
            ],
            [
             0.9,
             "#4d9221"
            ],
            [
             1,
             "#276419"
            ]
           ],
           "sequential": [
            [
             0,
             "#0d0887"
            ],
            [
             0.1111111111111111,
             "#46039f"
            ],
            [
             0.2222222222222222,
             "#7201a8"
            ],
            [
             0.3333333333333333,
             "#9c179e"
            ],
            [
             0.4444444444444444,
             "#bd3786"
            ],
            [
             0.5555555555555556,
             "#d8576b"
            ],
            [
             0.6666666666666666,
             "#ed7953"
            ],
            [
             0.7777777777777778,
             "#fb9f3a"
            ],
            [
             0.8888888888888888,
             "#fdca26"
            ],
            [
             1,
             "#f0f921"
            ]
           ],
           "sequentialminus": [
            [
             0,
             "#0d0887"
            ],
            [
             0.1111111111111111,
             "#46039f"
            ],
            [
             0.2222222222222222,
             "#7201a8"
            ],
            [
             0.3333333333333333,
             "#9c179e"
            ],
            [
             0.4444444444444444,
             "#bd3786"
            ],
            [
             0.5555555555555556,
             "#d8576b"
            ],
            [
             0.6666666666666666,
             "#ed7953"
            ],
            [
             0.7777777777777778,
             "#fb9f3a"
            ],
            [
             0.8888888888888888,
             "#fdca26"
            ],
            [
             1,
             "#f0f921"
            ]
           ]
          },
          "colorway": [
           "#636efa",
           "#EF553B",
           "#00cc96",
           "#ab63fa",
           "#FFA15A",
           "#19d3f3",
           "#FF6692",
           "#B6E880",
           "#FF97FF",
           "#FECB52"
          ],
          "font": {
           "color": "#2a3f5f"
          },
          "geo": {
           "bgcolor": "white",
           "lakecolor": "white",
           "landcolor": "#E5ECF6",
           "showlakes": true,
           "showland": true,
           "subunitcolor": "white"
          },
          "hoverlabel": {
           "align": "left"
          },
          "hovermode": "closest",
          "mapbox": {
           "style": "light"
          },
          "paper_bgcolor": "white",
          "plot_bgcolor": "#E5ECF6",
          "polar": {
           "angularaxis": {
            "gridcolor": "white",
            "linecolor": "white",
            "ticks": ""
           },
           "bgcolor": "#E5ECF6",
           "radialaxis": {
            "gridcolor": "white",
            "linecolor": "white",
            "ticks": ""
           }
          },
          "scene": {
           "xaxis": {
            "backgroundcolor": "#E5ECF6",
            "gridcolor": "white",
            "gridwidth": 2,
            "linecolor": "white",
            "showbackground": true,
            "ticks": "",
            "zerolinecolor": "white"
           },
           "yaxis": {
            "backgroundcolor": "#E5ECF6",
            "gridcolor": "white",
            "gridwidth": 2,
            "linecolor": "white",
            "showbackground": true,
            "ticks": "",
            "zerolinecolor": "white"
           },
           "zaxis": {
            "backgroundcolor": "#E5ECF6",
            "gridcolor": "white",
            "gridwidth": 2,
            "linecolor": "white",
            "showbackground": true,
            "ticks": "",
            "zerolinecolor": "white"
           }
          },
          "shapedefaults": {
           "line": {
            "color": "#2a3f5f"
           }
          },
          "ternary": {
           "aaxis": {
            "gridcolor": "white",
            "linecolor": "white",
            "ticks": ""
           },
           "baxis": {
            "gridcolor": "white",
            "linecolor": "white",
            "ticks": ""
           },
           "bgcolor": "#E5ECF6",
           "caxis": {
            "gridcolor": "white",
            "linecolor": "white",
            "ticks": ""
           }
          },
          "title": {
           "x": 0.05
          },
          "xaxis": {
           "automargin": true,
           "gridcolor": "white",
           "linecolor": "white",
           "ticks": "",
           "title": {
            "standoff": 15
           },
           "zerolinecolor": "white",
           "zerolinewidth": 2
          },
          "yaxis": {
           "automargin": true,
           "gridcolor": "white",
           "linecolor": "white",
           "ticks": "",
           "title": {
            "standoff": 15
           },
           "zerolinecolor": "white",
           "zerolinewidth": 2
          }
         }
        },
        "title": {
         "text": "Battery Ability by Make"
        },
        "xaxis": {
         "anchor": "y",
         "domain": [
          0,
          1
         ],
         "title": {
          "text": "Range"
         }
        },
        "yaxis": {
         "anchor": "x",
         "domain": [
          0,
          1
         ],
         "title": {
          "text": "Battery Capacity"
         }
        }
       }
      },
      "text/html": [
       "<div>                            <div id=\"02d55955-eae4-4119-a9eb-b140d2118db7\" class=\"plotly-graph-div\" style=\"height:525px; width:100%;\"></div>            <script type=\"text/javascript\">                require([\"plotly\"], function(Plotly) {                    window.PLOTLYENV=window.PLOTLYENV || {};                                    if (document.getElementById(\"02d55955-eae4-4119-a9eb-b140d2118db7\")) {                    Plotly.newPlot(                        \"02d55955-eae4-4119-a9eb-b140d2118db7\",                        [{\"customdata\":[[5.038759689922481],[4.909560723514211],[4.715762273901809],[4.521963824289405]],\"hovertemplate\":\"Make=Genesis<br>Range=%{x}<br>Battery Capacity=%{y}<br>KWH Per Gallon=%{customdata[0]}<extra></extra>\",\"legendgroup\":\"Genesis\",\"marker\":{\"color\":\"#636efa\",\"symbol\":\"circle\"},\"mode\":\"markers\",\"name\":\"Genesis\",\"orientation\":\"v\",\"showlegend\":true,\"x\":[390,380,365,350],\"xaxis\":\"x\",\"y\":[77.4,77.4,77.4,77.4],\"yaxis\":\"y\",\"type\":\"scatter\"},{\"customdata\":[[4.734576757532281],[4.8],[5.041666666666667],[5.0215208034433285],[5.074424898511501],[5.0215208034433285],[4.708333333333333],[3.05],[5.0],[5.09325681492109],[5.041666666666667],[4.352941176470588],[5.0],[4.041666666666667],[4.125],[5.15],[5.25],[3.05],[4.85],[5.15],[5.333333333333333],[4.734576757532281],[4.949784791965566],[5.125]],\"hovertemplate\":\"Make=Mercedes<br>Range=%{x}<br>Battery Capacity=%{y}<br>KWH Per Gallon=%{customdata[0]}<extra></extra>\",\"legendgroup\":\"Mercedes\",\"marker\":{\"color\":\"#EF553B\",\"symbol\":\"circle\"},\"mode\":\"markers\",\"name\":\"Mercedes\",\"orientation\":\"v\",\"showlegend\":true,\"x\":[330,480,605,350,375,350,565,305,500,355,605,370,500,485,495,515,525,305,485,515,640,330,345,615],\"xaxis\":\"x\",\"y\":[69.7,100.0,120.0,69.7,73.9,69.7,120.0,100.0,100.0,69.7,120.0,85.0,100.0,120.0,120.0,100.0,100.0,100.0,100.0,100.0,120.0,69.7,69.7,120.0],\"yaxis\":\"y\",\"type\":\"scatter\"},{\"customdata\":[[4.443254817987151],[4.282655246252676],[4.3361884368308345],[4.550321199143469],[4.6038543897216275],[4.817987152034261],[4.987373737373737],[4.797979797979798],[4.550321199143469],[5.1767676767676765],[4.122055674518201],[4.229122055674518],[4.764453961456103],[4.925053533190578],[4.550321199143469],[4.671717171717171],[5.085653104925053],[4.282655246252676]],\"hovertemplate\":\"Make=Porsche<br>Range=%{x}<br>Battery Capacity=%{y}<br>KWH Per Gallon=%{customdata[0]}<extra></extra>\",\"legendgroup\":\"Porsche\",\"marker\":{\"color\":\"#00cc96\",\"symbol\":\"circle\"},\"mode\":\"markers\",\"name\":\"Porsche\",\"orientation\":\"v\",\"showlegend\":true,\"x\":[415,400,405,425,430,450,395,380,425,410,385,395,445,460,425,370,475,400],\"xaxis\":\"x\",\"y\":[93.4,93.4,93.4,93.4,93.4,93.4,79.2,79.2,93.4,79.2,93.4,93.4,93.4,93.4,93.4,79.2,93.4,93.4],\"yaxis\":\"y\",\"type\":\"scatter\"},{\"customdata\":[[5.601907032181168],[4.8125],[5.220588235294118],[4.349775784753363],[4.5291479820627805],[4.699738903394256],[4.857142857142857],[5.184743742550655]],\"hovertemplate\":\"Make=BMW<br>Range=%{x}<br>Battery Capacity=%{y}<br>KWH Per Gallon=%{customdata[0]}<extra></extra>\",\"legendgroup\":\"BMW\",\"marker\":{\"color\":\"#ab63fa\",\"symbol\":\"circle\"},\"mode\":\"markers\",\"name\":\"BMW\",\"orientation\":\"v\",\"showlegend\":true,\"x\":[470,385,355,485,505,360,510,435],\"xaxis\":\"x\",\"y\":[83.9,80.0,68.0,111.5,111.5,76.6,105.0,83.9],\"yaxis\":\"y\",\"type\":\"scatter\"},{\"customdata\":[[5.487804878048781],[5.181818181818182],[5.0],[5.181818181818182],[4.024390243902439],[5.2439024390243905],[5.0],[4.939024390243903],[4.939024390243903],[5.645161290322581],[4.878048780487805],[5.2439024390243905],[5.487804878048781]],\"hovertemplate\":\"Make=Volkswagen<br>Range=%{x}<br>Battery Capacity=%{y}<br>KWH Per Gallon=%{customdata[0]}<extra></extra>\",\"legendgroup\":\"Volkswagen\",\"marker\":{\"color\":\"#FFA15A\",\"symbol\":\"circle\"},\"mode\":\"markers\",\"name\":\"Volkswagen\",\"orientation\":\"v\",\"showlegend\":true,\"x\":[450,285,410,285,330,430,410,405,405,350,400,430,450],\"xaxis\":\"x\",\"y\":[82.0,55.0,82.0,55.0,82.0,82.0,82.0,82.0,82.0,62.0,82.0,82.0,82.0],\"yaxis\":\"y\",\"type\":\"scatter\"},{\"customdata\":[[5.0],[5.645161290322581],[5.487804878048781],[5.564516129032258]],\"hovertemplate\":\"Make=CUPRA<br>Range=%{x}<br>Battery Capacity=%{y}<br>KWH Per Gallon=%{customdata[0]}<extra></extra>\",\"legendgroup\":\"CUPRA\",\"marker\":{\"color\":\"#19d3f3\",\"symbol\":\"circle\"},\"mode\":\"markers\",\"name\":\"CUPRA\",\"orientation\":\"v\",\"showlegend\":true,\"x\":[275,350,450,345],\"xaxis\":\"x\",\"y\":[55.0,62.0,82.0,62.0],\"yaxis\":\"y\",\"type\":\"scatter\"},{\"customdata\":[[5.32258064516129],[4.878048780487805],[5.121951219512195],[5.403225806451613],[5.426829268292683]],\"hovertemplate\":\"Make=Skoda<br>Range=%{x}<br>Battery Capacity=%{y}<br>KWH Per Gallon=%{customdata[0]}<extra></extra>\",\"legendgroup\":\"Skoda\",\"marker\":{\"color\":\"#FF6692\",\"symbol\":\"circle\"},\"mode\":\"markers\",\"name\":\"Skoda\",\"orientation\":\"v\",\"showlegend\":true,\"x\":[330,400,420,335,445],\"xaxis\":\"x\",\"y\":[62.0,82.0,82.0,62.0,82.0],\"yaxis\":\"y\",\"type\":\"scatter\"},{\"customdata\":[[4.721030042918454],[4.792560801144492],[5.168986083499006],[5.703125],[5.319148936170213],[5.027548209366391],[5.882352941176471],[5.283757338551859]],\"hovertemplate\":\"Make=MG<br>Range=%{x}<br>Battery Capacity=%{y}<br>KWH Per Gallon=%{customdata[0]}<extra></extra>\",\"legendgroup\":\"MG\",\"marker\":{\"color\":\"#B6E880\",\"symbol\":\"circle\"},\"mode\":\"markers\",\"name\":\"MG\",\"orientation\":\"v\",\"showlegend\":true,\"x\":[330,335,260,365,325,365,300,270],\"xaxis\":\"x\",\"y\":[69.9,69.9,50.3,64.0,61.1,72.6,51.0,51.1],\"yaxis\":\"y\",\"type\":\"scatter\"},{\"customdata\":[[4.487179487179487],[4.358974358974359],[4.855072463768116],[4.782608695652174]],\"hovertemplate\":\"Make=Volvo<br>Range=%{x}<br>Battery Capacity=%{y}<br>KWH Per Gallon=%{customdata[0]}<extra></extra>\",\"legendgroup\":\"Volvo\",\"marker\":{\"color\":\"#FF97FF\",\"symbol\":\"circle\"},\"mode\":\"markers\",\"name\":\"Volvo\",\"orientation\":\"v\",\"showlegend\":true,\"x\":[350,340,335,330],\"xaxis\":\"x\",\"y\":[78.0,78.0,69.0,69.0],\"yaxis\":\"y\",\"type\":\"scatter\"},{\"customdata\":[[5.672268907563025],[3.6],[5.595238095238095],[3.5],[5.595238095238095],[5.476190476190476],[3.466666666666667],[3.533333333333333]],\"hovertemplate\":\"Make=Fiat<br>Range=%{x}<br>Battery Capacity=%{y}<br>KWH Per Gallon=%{customdata[0]}<extra></extra>\",\"legendgroup\":\"Fiat\",\"marker\":{\"color\":\"#FECB52\",\"symbol\":\"circle\"},\"mode\":\"markers\",\"name\":\"Fiat\",\"orientation\":\"v\",\"showlegend\":true,\"x\":[135,180,235,175,235,230,260,265],\"xaxis\":\"x\",\"y\":[23.8,50.0,42.0,50.0,42.0,42.0,75.0,75.0],\"yaxis\":\"y\",\"type\":\"scatter\"},{\"customdata\":[[5.303030303030303],[5.075757575757576]],\"hovertemplate\":\"Make=Smart<br>Range=%{x}<br>Battery Capacity=%{y}<br>KWH Per Gallon=%{customdata[0]}<extra></extra>\",\"legendgroup\":\"Smart\",\"marker\":{\"color\":\"#636efa\",\"symbol\":\"circle\"},\"mode\":\"markers\",\"name\":\"Smart\",\"orientation\":\"v\",\"showlegend\":true,\"x\":[350,335],\"xaxis\":\"x\",\"y\":[66.0,66.0],\"yaxis\":\"y\",\"type\":\"scatter\"},{\"customdata\":[[5.038759689922481],[5.851851851851852],[5.086206896551724],[5.9523809523809526],[4.974160206718346]],\"hovertemplate\":\"Make=Hyundai<br>Range=%{x}<br>Battery Capacity=%{y}<br>KWH Per Gallon=%{customdata[0]}<extra></extra>\",\"legendgroup\":\"Hyundai\",\"marker\":{\"color\":\"#EF553B\",\"symbol\":\"circle\"},\"mode\":\"markers\",\"name\":\"Hyundai\",\"orientation\":\"v\",\"showlegend\":true,\"x\":[390,395,295,250,385],\"xaxis\":\"x\",\"y\":[77.4,67.5,58.0,42.0,77.4],\"yaxis\":\"y\",\"type\":\"scatter\"},{\"customdata\":[[4.0],[5.1],[3.6],[3.6],[3.466666666666667],[3.5],[5.7],[3.9],[3.5],[3.533333333333333],[3.466666666666667],[3.533333333333333]],\"hovertemplate\":\"Make=Peugeot<br>Range=%{x}<br>Battery Capacity=%{y}<br>KWH Per Gallon=%{customdata[0]}<extra></extra>\",\"legendgroup\":\"Peugeot\",\"marker\":{\"color\":\"#00cc96\",\"symbol\":\"circle\"},\"mode\":\"markers\",\"name\":\"Peugeot\",\"orientation\":\"v\",\"showlegend\":true,\"x\":[200,255,180,180,260,175,285,195,175,265,260,265],\"xaxis\":\"x\",\"y\":[50.0,50.0,50.0,50.0,75.0,50.0,50.0,50.0,50.0,75.0,75.0,75.0],\"yaxis\":\"y\",\"type\":\"scatter\"},{\"customdata\":[[4.0],[3.6],[3.5],[5.3],[3.5],[3.466666666666667],[3.466666666666667],[3.6],[3.533333333333333],[3.533333333333333],[3.9]],\"hovertemplate\":\"Make=Citroen<br>Range=%{x}<br>Battery Capacity=%{y}<br>KWH Per Gallon=%{customdata[0]}<extra></extra>\",\"legendgroup\":\"Citroen\",\"marker\":{\"color\":\"#ab63fa\",\"symbol\":\"circle\"},\"mode\":\"markers\",\"name\":\"Citroen\",\"orientation\":\"v\",\"showlegend\":true,\"x\":[200,180,175,265,175,260,260,180,265,265,195],\"xaxis\":\"x\",\"y\":[50.0,50.0,50.0,50.0,50.0,75.0,75.0,50.0,75.0,75.0,50.0],\"yaxis\":\"y\",\"type\":\"scatter\"},{\"customdata\":[[4.939024390243903],[5.363636363636363],[3.473684210526316],[4.695121951219512],[3.3684210526315788],[5.181818181818182],[3.943661971830986],[4.3361884368308345],[3.8421052631578947],[4.878048780487805],[4.49678800856531],[4.695121951219512],[4.154929577464789],[4.0],[5.182926829268292],[4.878048780487805]],\"hovertemplate\":\"Make=Audi<br>Range=%{x}<br>Battery Capacity=%{y}<br>KWH Per Gallon=%{customdata[0]}<extra></extra>\",\"legendgroup\":\"Audi\",\"marker\":{\"color\":\"#FFA15A\",\"symbol\":\"circle\"},\"mode\":\"markers\",\"name\":\"Audi\",\"orientation\":\"v\",\"showlegend\":true,\"x\":[405,295,330,385,320,285,280,405,365,400,420,385,295,380,425,400],\"xaxis\":\"x\",\"y\":[82.0,55.0,95.0,82.0,95.0,55.0,71.0,93.4,95.0,82.0,93.4,82.0,71.0,95.0,82.0,82.0],\"yaxis\":\"y\",\"type\":\"scatter\"},{\"customdata\":[[5.064102564102564],[5.448717948717949]],\"hovertemplate\":\"Make=Polestar<br>Range=%{x}<br>Battery Capacity=%{y}<br>KWH Per Gallon=%{customdata[0]}<extra></extra>\",\"legendgroup\":\"Polestar\",\"marker\":{\"color\":\"#19d3f3\",\"symbol\":\"circle\"},\"mode\":\"markers\",\"name\":\"Polestar\",\"orientation\":\"v\",\"showlegend\":true,\"x\":[395,425],\"xaxis\":\"x\",\"y\":[78.0,78.0],\"yaxis\":\"y\",\"type\":\"scatter\"},{\"customdata\":[[4.933333333333334],[3.5],[3.533333333333333],[3.466666666666667],[3.466666666666667],[3.5],[3.466666666666667],[5.0]],\"hovertemplate\":\"Make=Toyota<br>Range=%{x}<br>Battery Capacity=%{y}<br>KWH Per Gallon=%{customdata[0]}<extra></extra>\",\"legendgroup\":\"Toyota\",\"marker\":{\"color\":\"#FF6692\",\"symbol\":\"circle\"},\"mode\":\"markers\",\"name\":\"Toyota\",\"orientation\":\"v\",\"showlegend\":true,\"x\":[370,175,265,260,260,175,260,375],\"xaxis\":\"x\",\"y\":[75.0,50.0,75.0,75.0,75.0,50.0,75.0,75.0],\"yaxis\":\"y\",\"type\":\"scatter\"},{\"customdata\":[[5.588235294117647],[4.7803617571059425],[5.167958656330749],[5.297157622739018],[5.476190476190476],[5.258620689655173]],\"hovertemplate\":\"Make=Kia<br>Range=%{x}<br>Battery Capacity=%{y}<br>KWH Per Gallon=%{customdata[0]}<extra></extra>\",\"legendgroup\":\"Kia\",\"marker\":{\"color\":\"#B6E880\",\"symbol\":\"circle\"},\"mode\":\"markers\",\"name\":\"Kia\",\"orientation\":\"v\",\"showlegend\":true,\"x\":[380,370,400,410,230,305],\"xaxis\":\"x\",\"y\":[68.0,77.4,77.4,77.4,42.0,58.0],\"yaxis\":\"y\",\"type\":\"scatter\"},{\"customdata\":[[5.2]],\"hovertemplate\":\"Make=DS<br>Range=%{x}<br>Battery Capacity=%{y}<br>KWH Per Gallon=%{customdata[0]}<extra></extra>\",\"legendgroup\":\"DS\",\"marker\":{\"color\":\"#FF97FF\",\"symbol\":\"circle\"},\"mode\":\"markers\",\"name\":\"DS\",\"orientation\":\"v\",\"showlegend\":true,\"x\":[260],\"xaxis\":\"x\",\"y\":[50.0],\"yaxis\":\"y\",\"type\":\"scatter\"},{\"customdata\":[[4.305977710233029],[4.609929078014185],[4.407294832826747],[4.4579533941236065],[4.305977710233029],[4.6895640686922055],[4.557463672391017]],\"hovertemplate\":\"Make=Ford<br>Range=%{x}<br>Battery Capacity=%{y}<br>KWH Per Gallon=%{customdata[0]}<extra></extra>\",\"legendgroup\":\"Ford\",\"marker\":{\"color\":\"#FECB52\",\"symbol\":\"circle\"},\"mode\":\"markers\",\"name\":\"Ford\",\"orientation\":\"v\",\"showlegend\":true,\"x\":[425,455,435,440,425,355,345],\"xaxis\":\"x\",\"y\":[98.7,98.7,98.7,98.7,98.7,75.7,75.7],\"yaxis\":\"y\",\"type\":\"scatter\"},{\"customdata\":[[4.788732394366197],[4.788732394366197]],\"hovertemplate\":\"Make=Honda<br>Range=%{x}<br>Battery Capacity=%{y}<br>KWH Per Gallon=%{customdata[0]}<extra></extra>\",\"legendgroup\":\"Honda\",\"marker\":{\"color\":\"#636efa\",\"symbol\":\"circle\"},\"mode\":\"markers\",\"name\":\"Honda\",\"orientation\":\"v\",\"showlegend\":true,\"x\":[170,170],\"xaxis\":\"x\",\"y\":[35.5,35.5],\"yaxis\":\"y\",\"type\":\"scatter\"},{\"customdata\":[[5.172413793103448]],\"hovertemplate\":\"Make=JAC<br>Range=%{x}<br>Battery Capacity=%{y}<br>KWH Per Gallon=%{customdata[0]}<extra></extra>\",\"legendgroup\":\"JAC\",\"marker\":{\"color\":\"#EF553B\",\"symbol\":\"circle\"},\"mode\":\"markers\",\"name\":\"JAC\",\"orientation\":\"v\",\"showlegend\":true,\"x\":[225],\"xaxis\":\"x\",\"y\":[43.5],\"yaxis\":\"y\",\"type\":\"scatter\"},{\"customdata\":[[5.483870967741935]],\"hovertemplate\":\"Make=Nissan<br>Range=%{x}<br>Battery Capacity=%{y}<br>KWH Per Gallon=%{customdata[0]}<extra></extra>\",\"legendgroup\":\"Nissan\",\"marker\":{\"color\":\"#00cc96\",\"symbol\":\"circle\"},\"mode\":\"markers\",\"name\":\"Nissan\",\"orientation\":\"v\",\"showlegend\":true,\"x\":[340],\"xaxis\":\"x\",\"y\":[62.0],\"yaxis\":\"y\",\"type\":\"scatter\"},{\"customdata\":[[6.083333333333333],[6.25],[5.7586837294332724],[6.0],[5.667276051188299]],\"hovertemplate\":\"Make=Renault<br>Range=%{x}<br>Battery Capacity=%{y}<br>KWH Per Gallon=%{customdata[0]}<extra></extra>\",\"legendgroup\":\"Renault\",\"marker\":{\"color\":\"#ab63fa\",\"symbol\":\"circle\"},\"mode\":\"markers\",\"name\":\"Renault\",\"orientation\":\"v\",\"showlegend\":true,\"x\":[365,250,315,360,310],\"xaxis\":\"x\",\"y\":[60.0,40.0,54.7,60.0,54.7],\"yaxis\":\"y\",\"type\":\"scatter\"},{\"customdata\":[[3.533333333333333],[3.5],[5.1],[3.6],[5.7],[3.466666666666667]],\"hovertemplate\":\"Make=Opel<br>Range=%{x}<br>Battery Capacity=%{y}<br>KWH Per Gallon=%{customdata[0]}<extra></extra>\",\"legendgroup\":\"Opel\",\"marker\":{\"color\":\"#FFA15A\",\"symbol\":\"circle\"},\"mode\":\"markers\",\"name\":\"Opel\",\"orientation\":\"v\",\"showlegend\":true,\"x\":[265,175,255,180,285,260],\"xaxis\":\"x\",\"y\":[75.0,50.0,50.0,50.0,50.0,75.0],\"yaxis\":\"y\",\"type\":\"scatter\"},{\"customdata\":[[3.585858585858586],[3.630952380952381]],\"hovertemplate\":\"Make=Hongqi<br>Range=%{x}<br>Battery Capacity=%{y}<br>KWH Per Gallon=%{customdata[0]}<extra></extra>\",\"legendgroup\":\"Hongqi\",\"marker\":{\"color\":\"#19d3f3\",\"symbol\":\"circle\"},\"mode\":\"markers\",\"name\":\"Hongqi\",\"orientation\":\"v\",\"showlegend\":true,\"x\":[355,305],\"xaxis\":\"x\",\"y\":[99.0,84.0],\"yaxis\":\"y\",\"type\":\"scatter\"},{\"customdata\":[[4.327808471454881]],\"hovertemplate\":\"Make=Lexus<br>Range=%{x}<br>Battery Capacity=%{y}<br>KWH Per Gallon=%{customdata[0]}<extra></extra>\",\"legendgroup\":\"Lexus\",\"marker\":{\"color\":\"#FF6692\",\"symbol\":\"circle\"},\"mode\":\"markers\",\"name\":\"Lexus\",\"orientation\":\"v\",\"showlegend\":true,\"x\":[235],\"xaxis\":\"x\",\"y\":[54.3],\"yaxis\":\"y\",\"type\":\"scatter\"},{\"customdata\":[[5.7835820895522385]],\"hovertemplate\":\"Make=Dacia<br>Range=%{x}<br>Battery Capacity=%{y}<br>KWH Per Gallon=%{customdata[0]}<extra></extra>\",\"legendgroup\":\"Dacia\",\"marker\":{\"color\":\"#B6E880\",\"symbol\":\"circle\"},\"mode\":\"markers\",\"name\":\"Dacia\",\"orientation\":\"v\",\"showlegend\":true,\"x\":[155],\"xaxis\":\"x\",\"y\":[26.8],\"yaxis\":\"y\",\"type\":\"scatter\"},{\"customdata\":[[4.788732394366197]],\"hovertemplate\":\"Make=Mazda<br>Range=%{x}<br>Battery Capacity=%{y}<br>KWH Per Gallon=%{customdata[0]}<extra></extra>\",\"legendgroup\":\"Mazda\",\"marker\":{\"color\":\"#FF97FF\",\"symbol\":\"circle\"},\"mode\":\"markers\",\"name\":\"Mazda\",\"orientation\":\"v\",\"showlegend\":true,\"x\":[170],\"xaxis\":\"x\",\"y\":[35.5],\"yaxis\":\"y\",\"type\":\"scatter\"},{\"customdata\":[[5.1923076923076925]],\"hovertemplate\":\"Make=Seres<br>Range=%{x}<br>Battery Capacity=%{y}<br>KWH Per Gallon=%{customdata[0]}<extra></extra>\",\"legendgroup\":\"Seres\",\"marker\":{\"color\":\"#FECB52\",\"symbol\":\"circle\"},\"mode\":\"markers\",\"name\":\"Seres\",\"orientation\":\"v\",\"showlegend\":true,\"x\":[270],\"xaxis\":\"x\",\"y\":[52.0],\"yaxis\":\"y\",\"type\":\"scatter\"},{\"customdata\":[[5.914634146341464],[5.304878048780488],[5.060975609756097],[5.609756097560975]],\"hovertemplate\":\"Make=Tesla<br>Range=%{x}<br>Battery Capacity=%{y}<br>KWH Per Gallon=%{customdata[0]}<extra></extra>\",\"legendgroup\":\"Tesla\",\"marker\":{\"color\":\"#636efa\",\"symbol\":\"circle\"},\"mode\":\"markers\",\"name\":\"Tesla\",\"orientation\":\"v\",\"showlegend\":true,\"x\":[485,435,415,460],\"xaxis\":\"x\",\"y\":[82.0,82.0,82.0,82.0],\"yaxis\":\"y\",\"type\":\"scatter\"},{\"customdata\":[[4.222222222222222]],\"hovertemplate\":\"Make=Jaguar<br>Range=%{x}<br>Battery Capacity=%{y}<br>KWH Per Gallon=%{customdata[0]}<extra></extra>\",\"legendgroup\":\"Jaguar\",\"marker\":{\"color\":\"#EF553B\",\"symbol\":\"circle\"},\"mode\":\"markers\",\"name\":\"Jaguar\",\"orientation\":\"v\",\"showlegend\":true,\"x\":[380],\"xaxis\":\"x\",\"y\":[90.0],\"yaxis\":\"y\",\"type\":\"scatter\"},{\"customdata\":[[5.521472392638037]],\"hovertemplate\":\"Make=Mini<br>Range=%{x}<br>Battery Capacity=%{y}<br>KWH Per Gallon=%{customdata[0]}<extra></extra>\",\"legendgroup\":\"Mini\",\"marker\":{\"color\":\"#00cc96\",\"symbol\":\"circle\"},\"mode\":\"markers\",\"name\":\"Mini\",\"orientation\":\"v\",\"showlegend\":true,\"x\":[180],\"xaxis\":\"x\",\"y\":[32.6],\"yaxis\":\"y\",\"type\":\"scatter\"},{\"customdata\":[[4.733333333333333]],\"hovertemplate\":\"Make=Subaru<br>Range=%{x}<br>Battery Capacity=%{y}<br>KWH Per Gallon=%{customdata[0]}<extra></extra>\",\"legendgroup\":\"Subaru\",\"marker\":{\"color\":\"#ab63fa\",\"symbol\":\"circle\"},\"mode\":\"markers\",\"name\":\"Subaru\",\"orientation\":\"v\",\"showlegend\":true,\"x\":[355],\"xaxis\":\"x\",\"y\":[75.0],\"yaxis\":\"y\",\"type\":\"scatter\"}],                        {\"template\":{\"data\":{\"bar\":[{\"error_x\":{\"color\":\"#2a3f5f\"},\"error_y\":{\"color\":\"#2a3f5f\"},\"marker\":{\"line\":{\"color\":\"#E5ECF6\",\"width\":0.5},\"pattern\":{\"fillmode\":\"overlay\",\"size\":10,\"solidity\":0.2}},\"type\":\"bar\"}],\"barpolar\":[{\"marker\":{\"line\":{\"color\":\"#E5ECF6\",\"width\":0.5},\"pattern\":{\"fillmode\":\"overlay\",\"size\":10,\"solidity\":0.2}},\"type\":\"barpolar\"}],\"carpet\":[{\"aaxis\":{\"endlinecolor\":\"#2a3f5f\",\"gridcolor\":\"white\",\"linecolor\":\"white\",\"minorgridcolor\":\"white\",\"startlinecolor\":\"#2a3f5f\"},\"baxis\":{\"endlinecolor\":\"#2a3f5f\",\"gridcolor\":\"white\",\"linecolor\":\"white\",\"minorgridcolor\":\"white\",\"startlinecolor\":\"#2a3f5f\"},\"type\":\"carpet\"}],\"choropleth\":[{\"colorbar\":{\"outlinewidth\":0,\"ticks\":\"\"},\"type\":\"choropleth\"}],\"contour\":[{\"colorbar\":{\"outlinewidth\":0,\"ticks\":\"\"},\"colorscale\":[[0.0,\"#0d0887\"],[0.1111111111111111,\"#46039f\"],[0.2222222222222222,\"#7201a8\"],[0.3333333333333333,\"#9c179e\"],[0.4444444444444444,\"#bd3786\"],[0.5555555555555556,\"#d8576b\"],[0.6666666666666666,\"#ed7953\"],[0.7777777777777778,\"#fb9f3a\"],[0.8888888888888888,\"#fdca26\"],[1.0,\"#f0f921\"]],\"type\":\"contour\"}],\"contourcarpet\":[{\"colorbar\":{\"outlinewidth\":0,\"ticks\":\"\"},\"type\":\"contourcarpet\"}],\"heatmap\":[{\"colorbar\":{\"outlinewidth\":0,\"ticks\":\"\"},\"colorscale\":[[0.0,\"#0d0887\"],[0.1111111111111111,\"#46039f\"],[0.2222222222222222,\"#7201a8\"],[0.3333333333333333,\"#9c179e\"],[0.4444444444444444,\"#bd3786\"],[0.5555555555555556,\"#d8576b\"],[0.6666666666666666,\"#ed7953\"],[0.7777777777777778,\"#fb9f3a\"],[0.8888888888888888,\"#fdca26\"],[1.0,\"#f0f921\"]],\"type\":\"heatmap\"}],\"heatmapgl\":[{\"colorbar\":{\"outlinewidth\":0,\"ticks\":\"\"},\"colorscale\":[[0.0,\"#0d0887\"],[0.1111111111111111,\"#46039f\"],[0.2222222222222222,\"#7201a8\"],[0.3333333333333333,\"#9c179e\"],[0.4444444444444444,\"#bd3786\"],[0.5555555555555556,\"#d8576b\"],[0.6666666666666666,\"#ed7953\"],[0.7777777777777778,\"#fb9f3a\"],[0.8888888888888888,\"#fdca26\"],[1.0,\"#f0f921\"]],\"type\":\"heatmapgl\"}],\"histogram\":[{\"marker\":{\"pattern\":{\"fillmode\":\"overlay\",\"size\":10,\"solidity\":0.2}},\"type\":\"histogram\"}],\"histogram2d\":[{\"colorbar\":{\"outlinewidth\":0,\"ticks\":\"\"},\"colorscale\":[[0.0,\"#0d0887\"],[0.1111111111111111,\"#46039f\"],[0.2222222222222222,\"#7201a8\"],[0.3333333333333333,\"#9c179e\"],[0.4444444444444444,\"#bd3786\"],[0.5555555555555556,\"#d8576b\"],[0.6666666666666666,\"#ed7953\"],[0.7777777777777778,\"#fb9f3a\"],[0.8888888888888888,\"#fdca26\"],[1.0,\"#f0f921\"]],\"type\":\"histogram2d\"}],\"histogram2dcontour\":[{\"colorbar\":{\"outlinewidth\":0,\"ticks\":\"\"},\"colorscale\":[[0.0,\"#0d0887\"],[0.1111111111111111,\"#46039f\"],[0.2222222222222222,\"#7201a8\"],[0.3333333333333333,\"#9c179e\"],[0.4444444444444444,\"#bd3786\"],[0.5555555555555556,\"#d8576b\"],[0.6666666666666666,\"#ed7953\"],[0.7777777777777778,\"#fb9f3a\"],[0.8888888888888888,\"#fdca26\"],[1.0,\"#f0f921\"]],\"type\":\"histogram2dcontour\"}],\"mesh3d\":[{\"colorbar\":{\"outlinewidth\":0,\"ticks\":\"\"},\"type\":\"mesh3d\"}],\"parcoords\":[{\"line\":{\"colorbar\":{\"outlinewidth\":0,\"ticks\":\"\"}},\"type\":\"parcoords\"}],\"pie\":[{\"automargin\":true,\"type\":\"pie\"}],\"scatter\":[{\"marker\":{\"colorbar\":{\"outlinewidth\":0,\"ticks\":\"\"}},\"type\":\"scatter\"}],\"scatter3d\":[{\"line\":{\"colorbar\":{\"outlinewidth\":0,\"ticks\":\"\"}},\"marker\":{\"colorbar\":{\"outlinewidth\":0,\"ticks\":\"\"}},\"type\":\"scatter3d\"}],\"scattercarpet\":[{\"marker\":{\"colorbar\":{\"outlinewidth\":0,\"ticks\":\"\"}},\"type\":\"scattercarpet\"}],\"scattergeo\":[{\"marker\":{\"colorbar\":{\"outlinewidth\":0,\"ticks\":\"\"}},\"type\":\"scattergeo\"}],\"scattergl\":[{\"marker\":{\"colorbar\":{\"outlinewidth\":0,\"ticks\":\"\"}},\"type\":\"scattergl\"}],\"scattermapbox\":[{\"marker\":{\"colorbar\":{\"outlinewidth\":0,\"ticks\":\"\"}},\"type\":\"scattermapbox\"}],\"scatterpolar\":[{\"marker\":{\"colorbar\":{\"outlinewidth\":0,\"ticks\":\"\"}},\"type\":\"scatterpolar\"}],\"scatterpolargl\":[{\"marker\":{\"colorbar\":{\"outlinewidth\":0,\"ticks\":\"\"}},\"type\":\"scatterpolargl\"}],\"scatterternary\":[{\"marker\":{\"colorbar\":{\"outlinewidth\":0,\"ticks\":\"\"}},\"type\":\"scatterternary\"}],\"surface\":[{\"colorbar\":{\"outlinewidth\":0,\"ticks\":\"\"},\"colorscale\":[[0.0,\"#0d0887\"],[0.1111111111111111,\"#46039f\"],[0.2222222222222222,\"#7201a8\"],[0.3333333333333333,\"#9c179e\"],[0.4444444444444444,\"#bd3786\"],[0.5555555555555556,\"#d8576b\"],[0.6666666666666666,\"#ed7953\"],[0.7777777777777778,\"#fb9f3a\"],[0.8888888888888888,\"#fdca26\"],[1.0,\"#f0f921\"]],\"type\":\"surface\"}],\"table\":[{\"cells\":{\"fill\":{\"color\":\"#EBF0F8\"},\"line\":{\"color\":\"white\"}},\"header\":{\"fill\":{\"color\":\"#C8D4E3\"},\"line\":{\"color\":\"white\"}},\"type\":\"table\"}]},\"layout\":{\"annotationdefaults\":{\"arrowcolor\":\"#2a3f5f\",\"arrowhead\":0,\"arrowwidth\":1},\"autotypenumbers\":\"strict\",\"coloraxis\":{\"colorbar\":{\"outlinewidth\":0,\"ticks\":\"\"}},\"colorscale\":{\"diverging\":[[0,\"#8e0152\"],[0.1,\"#c51b7d\"],[0.2,\"#de77ae\"],[0.3,\"#f1b6da\"],[0.4,\"#fde0ef\"],[0.5,\"#f7f7f7\"],[0.6,\"#e6f5d0\"],[0.7,\"#b8e186\"],[0.8,\"#7fbc41\"],[0.9,\"#4d9221\"],[1,\"#276419\"]],\"sequential\":[[0.0,\"#0d0887\"],[0.1111111111111111,\"#46039f\"],[0.2222222222222222,\"#7201a8\"],[0.3333333333333333,\"#9c179e\"],[0.4444444444444444,\"#bd3786\"],[0.5555555555555556,\"#d8576b\"],[0.6666666666666666,\"#ed7953\"],[0.7777777777777778,\"#fb9f3a\"],[0.8888888888888888,\"#fdca26\"],[1.0,\"#f0f921\"]],\"sequentialminus\":[[0.0,\"#0d0887\"],[0.1111111111111111,\"#46039f\"],[0.2222222222222222,\"#7201a8\"],[0.3333333333333333,\"#9c179e\"],[0.4444444444444444,\"#bd3786\"],[0.5555555555555556,\"#d8576b\"],[0.6666666666666666,\"#ed7953\"],[0.7777777777777778,\"#fb9f3a\"],[0.8888888888888888,\"#fdca26\"],[1.0,\"#f0f921\"]]},\"colorway\":[\"#636efa\",\"#EF553B\",\"#00cc96\",\"#ab63fa\",\"#FFA15A\",\"#19d3f3\",\"#FF6692\",\"#B6E880\",\"#FF97FF\",\"#FECB52\"],\"font\":{\"color\":\"#2a3f5f\"},\"geo\":{\"bgcolor\":\"white\",\"lakecolor\":\"white\",\"landcolor\":\"#E5ECF6\",\"showlakes\":true,\"showland\":true,\"subunitcolor\":\"white\"},\"hoverlabel\":{\"align\":\"left\"},\"hovermode\":\"closest\",\"mapbox\":{\"style\":\"light\"},\"paper_bgcolor\":\"white\",\"plot_bgcolor\":\"#E5ECF6\",\"polar\":{\"angularaxis\":{\"gridcolor\":\"white\",\"linecolor\":\"white\",\"ticks\":\"\"},\"bgcolor\":\"#E5ECF6\",\"radialaxis\":{\"gridcolor\":\"white\",\"linecolor\":\"white\",\"ticks\":\"\"}},\"scene\":{\"xaxis\":{\"backgroundcolor\":\"#E5ECF6\",\"gridcolor\":\"white\",\"gridwidth\":2,\"linecolor\":\"white\",\"showbackground\":true,\"ticks\":\"\",\"zerolinecolor\":\"white\"},\"yaxis\":{\"backgroundcolor\":\"#E5ECF6\",\"gridcolor\":\"white\",\"gridwidth\":2,\"linecolor\":\"white\",\"showbackground\":true,\"ticks\":\"\",\"zerolinecolor\":\"white\"},\"zaxis\":{\"backgroundcolor\":\"#E5ECF6\",\"gridcolor\":\"white\",\"gridwidth\":2,\"linecolor\":\"white\",\"showbackground\":true,\"ticks\":\"\",\"zerolinecolor\":\"white\"}},\"shapedefaults\":{\"line\":{\"color\":\"#2a3f5f\"}},\"ternary\":{\"aaxis\":{\"gridcolor\":\"white\",\"linecolor\":\"white\",\"ticks\":\"\"},\"baxis\":{\"gridcolor\":\"white\",\"linecolor\":\"white\",\"ticks\":\"\"},\"bgcolor\":\"#E5ECF6\",\"caxis\":{\"gridcolor\":\"white\",\"linecolor\":\"white\",\"ticks\":\"\"}},\"title\":{\"x\":0.05},\"xaxis\":{\"automargin\":true,\"gridcolor\":\"white\",\"linecolor\":\"white\",\"ticks\":\"\",\"title\":{\"standoff\":15},\"zerolinecolor\":\"white\",\"zerolinewidth\":2},\"yaxis\":{\"automargin\":true,\"gridcolor\":\"white\",\"linecolor\":\"white\",\"ticks\":\"\",\"title\":{\"standoff\":15},\"zerolinecolor\":\"white\",\"zerolinewidth\":2}}},\"xaxis\":{\"anchor\":\"y\",\"domain\":[0.0,1.0],\"title\":{\"text\":\"Range\"}},\"yaxis\":{\"anchor\":\"x\",\"domain\":[0.0,1.0],\"title\":{\"text\":\"Battery Capacity\"}},\"legend\":{\"title\":{\"text\":\"Make\"},\"tracegroupgap\":0},\"title\":{\"text\":\"Battery Ability by Make\"}},                        {\"responsive\": true}                    ).then(function(){\n",
       "                            \n",
       "var gd = document.getElementById('02d55955-eae4-4119-a9eb-b140d2118db7');\n",
       "var x = new MutationObserver(function (mutations, observer) {{\n",
       "        var display = window.getComputedStyle(gd).display;\n",
       "        if (!display || display === 'none') {{\n",
       "            console.log([gd, 'removed!']);\n",
       "            Plotly.purge(gd);\n",
       "            observer.disconnect();\n",
       "        }}\n",
       "}});\n",
       "\n",
       "// Listen for the removal of the full notebook cells\n",
       "var notebookContainer = gd.closest('#notebook-container');\n",
       "if (notebookContainer) {{\n",
       "    x.observe(notebookContainer, {childList: true});\n",
       "}}\n",
       "\n",
       "// Listen for the clearing of the current output cell\n",
       "var outputEl = gd.closest('.output');\n",
       "if (outputEl) {{\n",
       "    x.observe(outputEl, {childList: true});\n",
       "}}\n",
       "\n",
       "                        })                };                });            </script>        </div>"
      ]
     },
     "metadata": {},
     "output_type": "display_data"
    }
   ],
   "source": [
    "fig = px.scatter(df,title=\"Battery Ability by Make\", x='Range', y='Battery Capacity', color = 'Make', hover_data=['KWH Per Gallon'])\n",
    "fig.show()"
   ]
  },
  {
   "cell_type": "code",
   "execution_count": 9,
   "id": "6d295496",
   "metadata": {},
   "outputs": [
    {
     "data": {
      "application/vnd.plotly.v1+json": {
       "config": {
        "plotlyServerURL": "https://plot.ly"
       },
       "data": [
        {
         "hovertemplate": "Make=%{x}<br>Top Speed=%{marker.color}<extra></extra>",
         "legendgroup": "",
         "marker": {
          "color": [
           185,
           160,
           260,
           190,
           160,
           160,
           160,
           250,
           160,
           260,
           160,
           200,
           180,
           135,
           180,
           185,
           135,
           135,
           220,
           220,
           200,
           250,
           160,
           130,
           180,
           160,
           180,
           205,
           160,
           160,
           167,
           150,
           210,
           130,
           200,
           130,
           160,
           160,
           160,
           150,
           160,
           150,
           130,
           260,
           160,
           130,
           200,
           185,
           160,
           235,
           250,
           167,
           235,
           160,
           180,
           180,
           185,
           210,
           160,
           145,
           130,
           250,
           130,
           180,
           210,
           160,
           130,
           180,
           210,
           160,
           155,
           150,
           130,
           132,
           157,
           160,
           185,
           145,
           250,
           180,
           130,
           175,
           160,
           250,
           210,
           150,
           130,
           210,
           160,
           175,
           185,
           185,
           150,
           210,
           210,
           130,
           160,
           160,
           150,
           210,
           190,
           157,
           130,
           130,
           185,
           180,
           200,
           250,
           210,
           200,
           130,
           160,
           160,
           230,
           160,
           135,
           240,
           230,
           185,
           135,
           160,
           125,
           250,
           130,
           160,
           210,
           140,
           150,
           155,
           233,
           200,
           260,
           180,
           200,
           245,
           130,
           180,
           130,
           217,
           130,
           230,
           180,
           150,
           180,
           160,
           210,
           150,
           160,
           200,
           180,
           130,
           250,
           130,
           160,
           190,
           210,
           130,
           250,
           130,
           140,
           150,
           130,
           130,
           250,
           160,
           240,
           130,
           160,
           200,
           130,
           160,
           180,
           250,
           160,
           160,
           200,
           150,
           261,
           210,
           130,
           200,
           180,
           225,
           130,
           160,
           180,
           145,
           230,
           160,
           260,
           160,
           135,
           180,
           130
          ],
          "coloraxis": "coloraxis",
          "symbol": "circle"
         },
         "mode": "markers",
         "name": "",
         "orientation": "v",
         "showlegend": false,
         "type": "scatter",
         "x": [
          "Genesis",
          "Mercedes",
          "Porsche",
          "BMW",
          "Volkswagen",
          "CUPRA",
          "Skoda",
          "Porsche",
          "Skoda",
          "Porsche",
          "Skoda",
          "MG",
          "Volvo",
          "Fiat",
          "Smart",
          "Hyundai",
          "Peugeot",
          "Citroen",
          "Mercedes",
          "Porsche",
          "Genesis",
          "Porsche",
          "Audi",
          "Fiat",
          "Volvo",
          "Volkswagen",
          "BMW",
          "Polestar",
          "Toyota",
          "Audi",
          "Kia",
          "DS",
          "Mercedes",
          "Citroen",
          "MG",
          "Citroen",
          "Volkswagen",
          "Volvo",
          "CUPRA",
          "Peugeot",
          "Mercedes",
          "Citroen",
          "Toyota",
          "Kia",
          "Mercedes",
          "Peugeot",
          "Ford",
          "MG",
          "Mercedes",
          "Genesis",
          "Mercedes",
          "Hyundai",
          "Genesis",
          "MG",
          "Smart",
          "Ford",
          "Hyundai",
          "Audi",
          "Mercedes",
          "Honda",
          "Citroen",
          "Porsche",
          "Peugeot",
          "Audi",
          "Mercedes",
          "Mercedes",
          "Peugeot",
          "BMW",
          "Mercedes",
          "Volkswagen",
          "Hyundai",
          "Fiat",
          "Peugeot",
          "JAC",
          "Nissan",
          "Skoda",
          "MG",
          "Volkswagen",
          "BMW",
          "Mercedes",
          "Toyota",
          "MG",
          "Volvo",
          "Porsche",
          "Mercedes",
          "Renault",
          "Fiat",
          "Audi",
          "MG",
          "MG",
          "Kia",
          "Kia",
          "Peugeot",
          "Mercedes",
          "Mercedes",
          "Opel",
          "Audi",
          "Volkswagen",
          "Renault",
          "Mercedes",
          "Audi",
          "Kia",
          "Toyota",
          "Toyota",
          "Kia",
          "Ford",
          "BMW",
          "Audi",
          "Mercedes",
          "Hongqi",
          "Toyota",
          "Volkswagen",
          "CUPRA",
          "Porsche",
          "Lexus",
          "Renault",
          "Porsche",
          "Porsche",
          "Hyundai",
          "Peugeot",
          "Mercedes",
          "Dacia",
          "Porsche",
          "Toyota",
          "Skoda",
          "Mercedes",
          "Mazda",
          "Fiat",
          "Seres",
          "Tesla",
          "Audi",
          "Porsche",
          "Audi",
          "BMW",
          "Audi",
          "Peugeot",
          "Volkswagen",
          "Opel",
          "Tesla",
          "Peugeot",
          "Porsche",
          "Volkswagen",
          "Fiat",
          "Audi",
          "Volkswagen",
          "Mercedes",
          "Opel",
          "Renault",
          "Jaguar",
          "Ford",
          "Citroen",
          "Tesla",
          "Citroen",
          "Toyota",
          "Audi",
          "Mercedes",
          "Peugeot",
          "Porsche",
          "Opel",
          "Renault",
          "Opel",
          "Citroen",
          "Fiat",
          "Porsche",
          "CUPRA",
          "BMW",
          "Citroen",
          "Polestar",
          "Audi",
          "Fiat",
          "Audi",
          "Volkswagen",
          "Porsche",
          "Mercedes",
          "Mercedes",
          "Ford",
          "Mini",
          "Tesla",
          "Mercedes",
          "Citroen",
          "Hongqi",
          "Ford",
          "BMW",
          "Opel",
          "Subaru",
          "Ford",
          "Honda",
          "Porsche",
          "Volkswagen",
          "Porsche",
          "Volkswagen",
          "Citroen",
          "Audi",
          "Peugeot"
         ],
         "xaxis": "x",
         "y": [
          185,
          160,
          260,
          190,
          160,
          160,
          160,
          250,
          160,
          260,
          160,
          200,
          180,
          135,
          180,
          185,
          135,
          135,
          220,
          220,
          200,
          250,
          160,
          130,
          180,
          160,
          180,
          205,
          160,
          160,
          167,
          150,
          210,
          130,
          200,
          130,
          160,
          160,
          160,
          150,
          160,
          150,
          130,
          260,
          160,
          130,
          200,
          185,
          160,
          235,
          250,
          167,
          235,
          160,
          180,
          180,
          185,
          210,
          160,
          145,
          130,
          250,
          130,
          180,
          210,
          160,
          130,
          180,
          210,
          160,
          155,
          150,
          130,
          132,
          157,
          160,
          185,
          145,
          250,
          180,
          130,
          175,
          160,
          250,
          210,
          150,
          130,
          210,
          160,
          175,
          185,
          185,
          150,
          210,
          210,
          130,
          160,
          160,
          150,
          210,
          190,
          157,
          130,
          130,
          185,
          180,
          200,
          250,
          210,
          200,
          130,
          160,
          160,
          230,
          160,
          135,
          240,
          230,
          185,
          135,
          160,
          125,
          250,
          130,
          160,
          210,
          140,
          150,
          155,
          233,
          200,
          260,
          180,
          200,
          245,
          130,
          180,
          130,
          217,
          130,
          230,
          180,
          150,
          180,
          160,
          210,
          150,
          160,
          200,
          180,
          130,
          250,
          130,
          160,
          190,
          210,
          130,
          250,
          130,
          140,
          150,
          130,
          130,
          250,
          160,
          240,
          130,
          160,
          200,
          130,
          160,
          180,
          250,
          160,
          160,
          200,
          150,
          261,
          210,
          130,
          200,
          180,
          225,
          130,
          160,
          180,
          145,
          230,
          160,
          260,
          160,
          135,
          180,
          130
         ],
         "yaxis": "y"
        }
       ],
       "layout": {
        "coloraxis": {
         "colorbar": {
          "title": {
           "text": "Top Speed"
          }
         },
         "colorscale": [
          [
           0,
           "#0d0887"
          ],
          [
           0.1111111111111111,
           "#46039f"
          ],
          [
           0.2222222222222222,
           "#7201a8"
          ],
          [
           0.3333333333333333,
           "#9c179e"
          ],
          [
           0.4444444444444444,
           "#bd3786"
          ],
          [
           0.5555555555555556,
           "#d8576b"
          ],
          [
           0.6666666666666666,
           "#ed7953"
          ],
          [
           0.7777777777777778,
           "#fb9f3a"
          ],
          [
           0.8888888888888888,
           "#fdca26"
          ],
          [
           1,
           "#f0f921"
          ]
         ]
        },
        "legend": {
         "tracegroupgap": 0
        },
        "template": {
         "data": {
          "bar": [
           {
            "error_x": {
             "color": "#2a3f5f"
            },
            "error_y": {
             "color": "#2a3f5f"
            },
            "marker": {
             "line": {
              "color": "#E5ECF6",
              "width": 0.5
             },
             "pattern": {
              "fillmode": "overlay",
              "size": 10,
              "solidity": 0.2
             }
            },
            "type": "bar"
           }
          ],
          "barpolar": [
           {
            "marker": {
             "line": {
              "color": "#E5ECF6",
              "width": 0.5
             },
             "pattern": {
              "fillmode": "overlay",
              "size": 10,
              "solidity": 0.2
             }
            },
            "type": "barpolar"
           }
          ],
          "carpet": [
           {
            "aaxis": {
             "endlinecolor": "#2a3f5f",
             "gridcolor": "white",
             "linecolor": "white",
             "minorgridcolor": "white",
             "startlinecolor": "#2a3f5f"
            },
            "baxis": {
             "endlinecolor": "#2a3f5f",
             "gridcolor": "white",
             "linecolor": "white",
             "minorgridcolor": "white",
             "startlinecolor": "#2a3f5f"
            },
            "type": "carpet"
           }
          ],
          "choropleth": [
           {
            "colorbar": {
             "outlinewidth": 0,
             "ticks": ""
            },
            "type": "choropleth"
           }
          ],
          "contour": [
           {
            "colorbar": {
             "outlinewidth": 0,
             "ticks": ""
            },
            "colorscale": [
             [
              0,
              "#0d0887"
             ],
             [
              0.1111111111111111,
              "#46039f"
             ],
             [
              0.2222222222222222,
              "#7201a8"
             ],
             [
              0.3333333333333333,
              "#9c179e"
             ],
             [
              0.4444444444444444,
              "#bd3786"
             ],
             [
              0.5555555555555556,
              "#d8576b"
             ],
             [
              0.6666666666666666,
              "#ed7953"
             ],
             [
              0.7777777777777778,
              "#fb9f3a"
             ],
             [
              0.8888888888888888,
              "#fdca26"
             ],
             [
              1,
              "#f0f921"
             ]
            ],
            "type": "contour"
           }
          ],
          "contourcarpet": [
           {
            "colorbar": {
             "outlinewidth": 0,
             "ticks": ""
            },
            "type": "contourcarpet"
           }
          ],
          "heatmap": [
           {
            "colorbar": {
             "outlinewidth": 0,
             "ticks": ""
            },
            "colorscale": [
             [
              0,
              "#0d0887"
             ],
             [
              0.1111111111111111,
              "#46039f"
             ],
             [
              0.2222222222222222,
              "#7201a8"
             ],
             [
              0.3333333333333333,
              "#9c179e"
             ],
             [
              0.4444444444444444,
              "#bd3786"
             ],
             [
              0.5555555555555556,
              "#d8576b"
             ],
             [
              0.6666666666666666,
              "#ed7953"
             ],
             [
              0.7777777777777778,
              "#fb9f3a"
             ],
             [
              0.8888888888888888,
              "#fdca26"
             ],
             [
              1,
              "#f0f921"
             ]
            ],
            "type": "heatmap"
           }
          ],
          "heatmapgl": [
           {
            "colorbar": {
             "outlinewidth": 0,
             "ticks": ""
            },
            "colorscale": [
             [
              0,
              "#0d0887"
             ],
             [
              0.1111111111111111,
              "#46039f"
             ],
             [
              0.2222222222222222,
              "#7201a8"
             ],
             [
              0.3333333333333333,
              "#9c179e"
             ],
             [
              0.4444444444444444,
              "#bd3786"
             ],
             [
              0.5555555555555556,
              "#d8576b"
             ],
             [
              0.6666666666666666,
              "#ed7953"
             ],
             [
              0.7777777777777778,
              "#fb9f3a"
             ],
             [
              0.8888888888888888,
              "#fdca26"
             ],
             [
              1,
              "#f0f921"
             ]
            ],
            "type": "heatmapgl"
           }
          ],
          "histogram": [
           {
            "marker": {
             "pattern": {
              "fillmode": "overlay",
              "size": 10,
              "solidity": 0.2
             }
            },
            "type": "histogram"
           }
          ],
          "histogram2d": [
           {
            "colorbar": {
             "outlinewidth": 0,
             "ticks": ""
            },
            "colorscale": [
             [
              0,
              "#0d0887"
             ],
             [
              0.1111111111111111,
              "#46039f"
             ],
             [
              0.2222222222222222,
              "#7201a8"
             ],
             [
              0.3333333333333333,
              "#9c179e"
             ],
             [
              0.4444444444444444,
              "#bd3786"
             ],
             [
              0.5555555555555556,
              "#d8576b"
             ],
             [
              0.6666666666666666,
              "#ed7953"
             ],
             [
              0.7777777777777778,
              "#fb9f3a"
             ],
             [
              0.8888888888888888,
              "#fdca26"
             ],
             [
              1,
              "#f0f921"
             ]
            ],
            "type": "histogram2d"
           }
          ],
          "histogram2dcontour": [
           {
            "colorbar": {
             "outlinewidth": 0,
             "ticks": ""
            },
            "colorscale": [
             [
              0,
              "#0d0887"
             ],
             [
              0.1111111111111111,
              "#46039f"
             ],
             [
              0.2222222222222222,
              "#7201a8"
             ],
             [
              0.3333333333333333,
              "#9c179e"
             ],
             [
              0.4444444444444444,
              "#bd3786"
             ],
             [
              0.5555555555555556,
              "#d8576b"
             ],
             [
              0.6666666666666666,
              "#ed7953"
             ],
             [
              0.7777777777777778,
              "#fb9f3a"
             ],
             [
              0.8888888888888888,
              "#fdca26"
             ],
             [
              1,
              "#f0f921"
             ]
            ],
            "type": "histogram2dcontour"
           }
          ],
          "mesh3d": [
           {
            "colorbar": {
             "outlinewidth": 0,
             "ticks": ""
            },
            "type": "mesh3d"
           }
          ],
          "parcoords": [
           {
            "line": {
             "colorbar": {
              "outlinewidth": 0,
              "ticks": ""
             }
            },
            "type": "parcoords"
           }
          ],
          "pie": [
           {
            "automargin": true,
            "type": "pie"
           }
          ],
          "scatter": [
           {
            "marker": {
             "colorbar": {
              "outlinewidth": 0,
              "ticks": ""
             }
            },
            "type": "scatter"
           }
          ],
          "scatter3d": [
           {
            "line": {
             "colorbar": {
              "outlinewidth": 0,
              "ticks": ""
             }
            },
            "marker": {
             "colorbar": {
              "outlinewidth": 0,
              "ticks": ""
             }
            },
            "type": "scatter3d"
           }
          ],
          "scattercarpet": [
           {
            "marker": {
             "colorbar": {
              "outlinewidth": 0,
              "ticks": ""
             }
            },
            "type": "scattercarpet"
           }
          ],
          "scattergeo": [
           {
            "marker": {
             "colorbar": {
              "outlinewidth": 0,
              "ticks": ""
             }
            },
            "type": "scattergeo"
           }
          ],
          "scattergl": [
           {
            "marker": {
             "colorbar": {
              "outlinewidth": 0,
              "ticks": ""
             }
            },
            "type": "scattergl"
           }
          ],
          "scattermapbox": [
           {
            "marker": {
             "colorbar": {
              "outlinewidth": 0,
              "ticks": ""
             }
            },
            "type": "scattermapbox"
           }
          ],
          "scatterpolar": [
           {
            "marker": {
             "colorbar": {
              "outlinewidth": 0,
              "ticks": ""
             }
            },
            "type": "scatterpolar"
           }
          ],
          "scatterpolargl": [
           {
            "marker": {
             "colorbar": {
              "outlinewidth": 0,
              "ticks": ""
             }
            },
            "type": "scatterpolargl"
           }
          ],
          "scatterternary": [
           {
            "marker": {
             "colorbar": {
              "outlinewidth": 0,
              "ticks": ""
             }
            },
            "type": "scatterternary"
           }
          ],
          "surface": [
           {
            "colorbar": {
             "outlinewidth": 0,
             "ticks": ""
            },
            "colorscale": [
             [
              0,
              "#0d0887"
             ],
             [
              0.1111111111111111,
              "#46039f"
             ],
             [
              0.2222222222222222,
              "#7201a8"
             ],
             [
              0.3333333333333333,
              "#9c179e"
             ],
             [
              0.4444444444444444,
              "#bd3786"
             ],
             [
              0.5555555555555556,
              "#d8576b"
             ],
             [
              0.6666666666666666,
              "#ed7953"
             ],
             [
              0.7777777777777778,
              "#fb9f3a"
             ],
             [
              0.8888888888888888,
              "#fdca26"
             ],
             [
              1,
              "#f0f921"
             ]
            ],
            "type": "surface"
           }
          ],
          "table": [
           {
            "cells": {
             "fill": {
              "color": "#EBF0F8"
             },
             "line": {
              "color": "white"
             }
            },
            "header": {
             "fill": {
              "color": "#C8D4E3"
             },
             "line": {
              "color": "white"
             }
            },
            "type": "table"
           }
          ]
         },
         "layout": {
          "annotationdefaults": {
           "arrowcolor": "#2a3f5f",
           "arrowhead": 0,
           "arrowwidth": 1
          },
          "autotypenumbers": "strict",
          "coloraxis": {
           "colorbar": {
            "outlinewidth": 0,
            "ticks": ""
           }
          },
          "colorscale": {
           "diverging": [
            [
             0,
             "#8e0152"
            ],
            [
             0.1,
             "#c51b7d"
            ],
            [
             0.2,
             "#de77ae"
            ],
            [
             0.3,
             "#f1b6da"
            ],
            [
             0.4,
             "#fde0ef"
            ],
            [
             0.5,
             "#f7f7f7"
            ],
            [
             0.6,
             "#e6f5d0"
            ],
            [
             0.7,
             "#b8e186"
            ],
            [
             0.8,
             "#7fbc41"
            ],
            [
             0.9,
             "#4d9221"
            ],
            [
             1,
             "#276419"
            ]
           ],
           "sequential": [
            [
             0,
             "#0d0887"
            ],
            [
             0.1111111111111111,
             "#46039f"
            ],
            [
             0.2222222222222222,
             "#7201a8"
            ],
            [
             0.3333333333333333,
             "#9c179e"
            ],
            [
             0.4444444444444444,
             "#bd3786"
            ],
            [
             0.5555555555555556,
             "#d8576b"
            ],
            [
             0.6666666666666666,
             "#ed7953"
            ],
            [
             0.7777777777777778,
             "#fb9f3a"
            ],
            [
             0.8888888888888888,
             "#fdca26"
            ],
            [
             1,
             "#f0f921"
            ]
           ],
           "sequentialminus": [
            [
             0,
             "#0d0887"
            ],
            [
             0.1111111111111111,
             "#46039f"
            ],
            [
             0.2222222222222222,
             "#7201a8"
            ],
            [
             0.3333333333333333,
             "#9c179e"
            ],
            [
             0.4444444444444444,
             "#bd3786"
            ],
            [
             0.5555555555555556,
             "#d8576b"
            ],
            [
             0.6666666666666666,
             "#ed7953"
            ],
            [
             0.7777777777777778,
             "#fb9f3a"
            ],
            [
             0.8888888888888888,
             "#fdca26"
            ],
            [
             1,
             "#f0f921"
            ]
           ]
          },
          "colorway": [
           "#636efa",
           "#EF553B",
           "#00cc96",
           "#ab63fa",
           "#FFA15A",
           "#19d3f3",
           "#FF6692",
           "#B6E880",
           "#FF97FF",
           "#FECB52"
          ],
          "font": {
           "color": "#2a3f5f"
          },
          "geo": {
           "bgcolor": "white",
           "lakecolor": "white",
           "landcolor": "#E5ECF6",
           "showlakes": true,
           "showland": true,
           "subunitcolor": "white"
          },
          "hoverlabel": {
           "align": "left"
          },
          "hovermode": "closest",
          "mapbox": {
           "style": "light"
          },
          "paper_bgcolor": "white",
          "plot_bgcolor": "#E5ECF6",
          "polar": {
           "angularaxis": {
            "gridcolor": "white",
            "linecolor": "white",
            "ticks": ""
           },
           "bgcolor": "#E5ECF6",
           "radialaxis": {
            "gridcolor": "white",
            "linecolor": "white",
            "ticks": ""
           }
          },
          "scene": {
           "xaxis": {
            "backgroundcolor": "#E5ECF6",
            "gridcolor": "white",
            "gridwidth": 2,
            "linecolor": "white",
            "showbackground": true,
            "ticks": "",
            "zerolinecolor": "white"
           },
           "yaxis": {
            "backgroundcolor": "#E5ECF6",
            "gridcolor": "white",
            "gridwidth": 2,
            "linecolor": "white",
            "showbackground": true,
            "ticks": "",
            "zerolinecolor": "white"
           },
           "zaxis": {
            "backgroundcolor": "#E5ECF6",
            "gridcolor": "white",
            "gridwidth": 2,
            "linecolor": "white",
            "showbackground": true,
            "ticks": "",
            "zerolinecolor": "white"
           }
          },
          "shapedefaults": {
           "line": {
            "color": "#2a3f5f"
           }
          },
          "ternary": {
           "aaxis": {
            "gridcolor": "white",
            "linecolor": "white",
            "ticks": ""
           },
           "baxis": {
            "gridcolor": "white",
            "linecolor": "white",
            "ticks": ""
           },
           "bgcolor": "#E5ECF6",
           "caxis": {
            "gridcolor": "white",
            "linecolor": "white",
            "ticks": ""
           }
          },
          "title": {
           "x": 0.05
          },
          "xaxis": {
           "automargin": true,
           "gridcolor": "white",
           "linecolor": "white",
           "ticks": "",
           "title": {
            "standoff": 15
           },
           "zerolinecolor": "white",
           "zerolinewidth": 2
          },
          "yaxis": {
           "automargin": true,
           "gridcolor": "white",
           "linecolor": "white",
           "ticks": "",
           "title": {
            "standoff": 15
           },
           "zerolinecolor": "white",
           "zerolinewidth": 2
          }
         }
        },
        "title": {
         "text": "Top Speed v. Make"
        },
        "xaxis": {
         "anchor": "y",
         "domain": [
          0,
          1
         ],
         "title": {
          "text": "Make"
         }
        },
        "yaxis": {
         "anchor": "x",
         "domain": [
          0,
          1
         ],
         "title": {
          "text": "Top Speed"
         }
        }
       }
      },
      "text/html": [
       "<div>                            <div id=\"a0fbe3a1-160e-472b-a441-23dcd3b37ccf\" class=\"plotly-graph-div\" style=\"height:525px; width:100%;\"></div>            <script type=\"text/javascript\">                require([\"plotly\"], function(Plotly) {                    window.PLOTLYENV=window.PLOTLYENV || {};                                    if (document.getElementById(\"a0fbe3a1-160e-472b-a441-23dcd3b37ccf\")) {                    Plotly.newPlot(                        \"a0fbe3a1-160e-472b-a441-23dcd3b37ccf\",                        [{\"hovertemplate\":\"Make=%{x}<br>Top Speed=%{marker.color}<extra></extra>\",\"legendgroup\":\"\",\"marker\":{\"color\":[185,160,260,190,160,160,160,250,160,260,160,200,180,135,180,185,135,135,220,220,200,250,160,130,180,160,180,205,160,160,167,150,210,130,200,130,160,160,160,150,160,150,130,260,160,130,200,185,160,235,250,167,235,160,180,180,185,210,160,145,130,250,130,180,210,160,130,180,210,160,155,150,130,132,157,160,185,145,250,180,130,175,160,250,210,150,130,210,160,175,185,185,150,210,210,130,160,160,150,210,190,157,130,130,185,180,200,250,210,200,130,160,160,230,160,135,240,230,185,135,160,125,250,130,160,210,140,150,155,233,200,260,180,200,245,130,180,130,217,130,230,180,150,180,160,210,150,160,200,180,130,250,130,160,190,210,130,250,130,140,150,130,130,250,160,240,130,160,200,130,160,180,250,160,160,200,150,261,210,130,200,180,225,130,160,180,145,230,160,260,160,135,180,130],\"coloraxis\":\"coloraxis\",\"symbol\":\"circle\"},\"mode\":\"markers\",\"name\":\"\",\"orientation\":\"v\",\"showlegend\":false,\"x\":[\"Genesis\",\"Mercedes\",\"Porsche\",\"BMW\",\"Volkswagen\",\"CUPRA\",\"Skoda\",\"Porsche\",\"Skoda\",\"Porsche\",\"Skoda\",\"MG\",\"Volvo\",\"Fiat\",\"Smart\",\"Hyundai\",\"Peugeot\",\"Citroen\",\"Mercedes\",\"Porsche\",\"Genesis\",\"Porsche\",\"Audi\",\"Fiat\",\"Volvo\",\"Volkswagen\",\"BMW\",\"Polestar\",\"Toyota\",\"Audi\",\"Kia\",\"DS\",\"Mercedes\",\"Citroen\",\"MG\",\"Citroen\",\"Volkswagen\",\"Volvo\",\"CUPRA\",\"Peugeot\",\"Mercedes\",\"Citroen\",\"Toyota\",\"Kia\",\"Mercedes\",\"Peugeot\",\"Ford\",\"MG\",\"Mercedes\",\"Genesis\",\"Mercedes\",\"Hyundai\",\"Genesis\",\"MG\",\"Smart\",\"Ford\",\"Hyundai\",\"Audi\",\"Mercedes\",\"Honda\",\"Citroen\",\"Porsche\",\"Peugeot\",\"Audi\",\"Mercedes\",\"Mercedes\",\"Peugeot\",\"BMW\",\"Mercedes\",\"Volkswagen\",\"Hyundai\",\"Fiat\",\"Peugeot\",\"JAC\",\"Nissan\",\"Skoda\",\"MG\",\"Volkswagen\",\"BMW\",\"Mercedes\",\"Toyota\",\"MG\",\"Volvo\",\"Porsche\",\"Mercedes\",\"Renault\",\"Fiat\",\"Audi\",\"MG\",\"MG\",\"Kia\",\"Kia\",\"Peugeot\",\"Mercedes\",\"Mercedes\",\"Opel\",\"Audi\",\"Volkswagen\",\"Renault\",\"Mercedes\",\"Audi\",\"Kia\",\"Toyota\",\"Toyota\",\"Kia\",\"Ford\",\"BMW\",\"Audi\",\"Mercedes\",\"Hongqi\",\"Toyota\",\"Volkswagen\",\"CUPRA\",\"Porsche\",\"Lexus\",\"Renault\",\"Porsche\",\"Porsche\",\"Hyundai\",\"Peugeot\",\"Mercedes\",\"Dacia\",\"Porsche\",\"Toyota\",\"Skoda\",\"Mercedes\",\"Mazda\",\"Fiat\",\"Seres\",\"Tesla\",\"Audi\",\"Porsche\",\"Audi\",\"BMW\",\"Audi\",\"Peugeot\",\"Volkswagen\",\"Opel\",\"Tesla\",\"Peugeot\",\"Porsche\",\"Volkswagen\",\"Fiat\",\"Audi\",\"Volkswagen\",\"Mercedes\",\"Opel\",\"Renault\",\"Jaguar\",\"Ford\",\"Citroen\",\"Tesla\",\"Citroen\",\"Toyota\",\"Audi\",\"Mercedes\",\"Peugeot\",\"Porsche\",\"Opel\",\"Renault\",\"Opel\",\"Citroen\",\"Fiat\",\"Porsche\",\"CUPRA\",\"BMW\",\"Citroen\",\"Polestar\",\"Audi\",\"Fiat\",\"Audi\",\"Volkswagen\",\"Porsche\",\"Mercedes\",\"Mercedes\",\"Ford\",\"Mini\",\"Tesla\",\"Mercedes\",\"Citroen\",\"Hongqi\",\"Ford\",\"BMW\",\"Opel\",\"Subaru\",\"Ford\",\"Honda\",\"Porsche\",\"Volkswagen\",\"Porsche\",\"Volkswagen\",\"Citroen\",\"Audi\",\"Peugeot\"],\"xaxis\":\"x\",\"y\":[185,160,260,190,160,160,160,250,160,260,160,200,180,135,180,185,135,135,220,220,200,250,160,130,180,160,180,205,160,160,167,150,210,130,200,130,160,160,160,150,160,150,130,260,160,130,200,185,160,235,250,167,235,160,180,180,185,210,160,145,130,250,130,180,210,160,130,180,210,160,155,150,130,132,157,160,185,145,250,180,130,175,160,250,210,150,130,210,160,175,185,185,150,210,210,130,160,160,150,210,190,157,130,130,185,180,200,250,210,200,130,160,160,230,160,135,240,230,185,135,160,125,250,130,160,210,140,150,155,233,200,260,180,200,245,130,180,130,217,130,230,180,150,180,160,210,150,160,200,180,130,250,130,160,190,210,130,250,130,140,150,130,130,250,160,240,130,160,200,130,160,180,250,160,160,200,150,261,210,130,200,180,225,130,160,180,145,230,160,260,160,135,180,130],\"yaxis\":\"y\",\"type\":\"scatter\"}],                        {\"template\":{\"data\":{\"bar\":[{\"error_x\":{\"color\":\"#2a3f5f\"},\"error_y\":{\"color\":\"#2a3f5f\"},\"marker\":{\"line\":{\"color\":\"#E5ECF6\",\"width\":0.5},\"pattern\":{\"fillmode\":\"overlay\",\"size\":10,\"solidity\":0.2}},\"type\":\"bar\"}],\"barpolar\":[{\"marker\":{\"line\":{\"color\":\"#E5ECF6\",\"width\":0.5},\"pattern\":{\"fillmode\":\"overlay\",\"size\":10,\"solidity\":0.2}},\"type\":\"barpolar\"}],\"carpet\":[{\"aaxis\":{\"endlinecolor\":\"#2a3f5f\",\"gridcolor\":\"white\",\"linecolor\":\"white\",\"minorgridcolor\":\"white\",\"startlinecolor\":\"#2a3f5f\"},\"baxis\":{\"endlinecolor\":\"#2a3f5f\",\"gridcolor\":\"white\",\"linecolor\":\"white\",\"minorgridcolor\":\"white\",\"startlinecolor\":\"#2a3f5f\"},\"type\":\"carpet\"}],\"choropleth\":[{\"colorbar\":{\"outlinewidth\":0,\"ticks\":\"\"},\"type\":\"choropleth\"}],\"contour\":[{\"colorbar\":{\"outlinewidth\":0,\"ticks\":\"\"},\"colorscale\":[[0.0,\"#0d0887\"],[0.1111111111111111,\"#46039f\"],[0.2222222222222222,\"#7201a8\"],[0.3333333333333333,\"#9c179e\"],[0.4444444444444444,\"#bd3786\"],[0.5555555555555556,\"#d8576b\"],[0.6666666666666666,\"#ed7953\"],[0.7777777777777778,\"#fb9f3a\"],[0.8888888888888888,\"#fdca26\"],[1.0,\"#f0f921\"]],\"type\":\"contour\"}],\"contourcarpet\":[{\"colorbar\":{\"outlinewidth\":0,\"ticks\":\"\"},\"type\":\"contourcarpet\"}],\"heatmap\":[{\"colorbar\":{\"outlinewidth\":0,\"ticks\":\"\"},\"colorscale\":[[0.0,\"#0d0887\"],[0.1111111111111111,\"#46039f\"],[0.2222222222222222,\"#7201a8\"],[0.3333333333333333,\"#9c179e\"],[0.4444444444444444,\"#bd3786\"],[0.5555555555555556,\"#d8576b\"],[0.6666666666666666,\"#ed7953\"],[0.7777777777777778,\"#fb9f3a\"],[0.8888888888888888,\"#fdca26\"],[1.0,\"#f0f921\"]],\"type\":\"heatmap\"}],\"heatmapgl\":[{\"colorbar\":{\"outlinewidth\":0,\"ticks\":\"\"},\"colorscale\":[[0.0,\"#0d0887\"],[0.1111111111111111,\"#46039f\"],[0.2222222222222222,\"#7201a8\"],[0.3333333333333333,\"#9c179e\"],[0.4444444444444444,\"#bd3786\"],[0.5555555555555556,\"#d8576b\"],[0.6666666666666666,\"#ed7953\"],[0.7777777777777778,\"#fb9f3a\"],[0.8888888888888888,\"#fdca26\"],[1.0,\"#f0f921\"]],\"type\":\"heatmapgl\"}],\"histogram\":[{\"marker\":{\"pattern\":{\"fillmode\":\"overlay\",\"size\":10,\"solidity\":0.2}},\"type\":\"histogram\"}],\"histogram2d\":[{\"colorbar\":{\"outlinewidth\":0,\"ticks\":\"\"},\"colorscale\":[[0.0,\"#0d0887\"],[0.1111111111111111,\"#46039f\"],[0.2222222222222222,\"#7201a8\"],[0.3333333333333333,\"#9c179e\"],[0.4444444444444444,\"#bd3786\"],[0.5555555555555556,\"#d8576b\"],[0.6666666666666666,\"#ed7953\"],[0.7777777777777778,\"#fb9f3a\"],[0.8888888888888888,\"#fdca26\"],[1.0,\"#f0f921\"]],\"type\":\"histogram2d\"}],\"histogram2dcontour\":[{\"colorbar\":{\"outlinewidth\":0,\"ticks\":\"\"},\"colorscale\":[[0.0,\"#0d0887\"],[0.1111111111111111,\"#46039f\"],[0.2222222222222222,\"#7201a8\"],[0.3333333333333333,\"#9c179e\"],[0.4444444444444444,\"#bd3786\"],[0.5555555555555556,\"#d8576b\"],[0.6666666666666666,\"#ed7953\"],[0.7777777777777778,\"#fb9f3a\"],[0.8888888888888888,\"#fdca26\"],[1.0,\"#f0f921\"]],\"type\":\"histogram2dcontour\"}],\"mesh3d\":[{\"colorbar\":{\"outlinewidth\":0,\"ticks\":\"\"},\"type\":\"mesh3d\"}],\"parcoords\":[{\"line\":{\"colorbar\":{\"outlinewidth\":0,\"ticks\":\"\"}},\"type\":\"parcoords\"}],\"pie\":[{\"automargin\":true,\"type\":\"pie\"}],\"scatter\":[{\"marker\":{\"colorbar\":{\"outlinewidth\":0,\"ticks\":\"\"}},\"type\":\"scatter\"}],\"scatter3d\":[{\"line\":{\"colorbar\":{\"outlinewidth\":0,\"ticks\":\"\"}},\"marker\":{\"colorbar\":{\"outlinewidth\":0,\"ticks\":\"\"}},\"type\":\"scatter3d\"}],\"scattercarpet\":[{\"marker\":{\"colorbar\":{\"outlinewidth\":0,\"ticks\":\"\"}},\"type\":\"scattercarpet\"}],\"scattergeo\":[{\"marker\":{\"colorbar\":{\"outlinewidth\":0,\"ticks\":\"\"}},\"type\":\"scattergeo\"}],\"scattergl\":[{\"marker\":{\"colorbar\":{\"outlinewidth\":0,\"ticks\":\"\"}},\"type\":\"scattergl\"}],\"scattermapbox\":[{\"marker\":{\"colorbar\":{\"outlinewidth\":0,\"ticks\":\"\"}},\"type\":\"scattermapbox\"}],\"scatterpolar\":[{\"marker\":{\"colorbar\":{\"outlinewidth\":0,\"ticks\":\"\"}},\"type\":\"scatterpolar\"}],\"scatterpolargl\":[{\"marker\":{\"colorbar\":{\"outlinewidth\":0,\"ticks\":\"\"}},\"type\":\"scatterpolargl\"}],\"scatterternary\":[{\"marker\":{\"colorbar\":{\"outlinewidth\":0,\"ticks\":\"\"}},\"type\":\"scatterternary\"}],\"surface\":[{\"colorbar\":{\"outlinewidth\":0,\"ticks\":\"\"},\"colorscale\":[[0.0,\"#0d0887\"],[0.1111111111111111,\"#46039f\"],[0.2222222222222222,\"#7201a8\"],[0.3333333333333333,\"#9c179e\"],[0.4444444444444444,\"#bd3786\"],[0.5555555555555556,\"#d8576b\"],[0.6666666666666666,\"#ed7953\"],[0.7777777777777778,\"#fb9f3a\"],[0.8888888888888888,\"#fdca26\"],[1.0,\"#f0f921\"]],\"type\":\"surface\"}],\"table\":[{\"cells\":{\"fill\":{\"color\":\"#EBF0F8\"},\"line\":{\"color\":\"white\"}},\"header\":{\"fill\":{\"color\":\"#C8D4E3\"},\"line\":{\"color\":\"white\"}},\"type\":\"table\"}]},\"layout\":{\"annotationdefaults\":{\"arrowcolor\":\"#2a3f5f\",\"arrowhead\":0,\"arrowwidth\":1},\"autotypenumbers\":\"strict\",\"coloraxis\":{\"colorbar\":{\"outlinewidth\":0,\"ticks\":\"\"}},\"colorscale\":{\"diverging\":[[0,\"#8e0152\"],[0.1,\"#c51b7d\"],[0.2,\"#de77ae\"],[0.3,\"#f1b6da\"],[0.4,\"#fde0ef\"],[0.5,\"#f7f7f7\"],[0.6,\"#e6f5d0\"],[0.7,\"#b8e186\"],[0.8,\"#7fbc41\"],[0.9,\"#4d9221\"],[1,\"#276419\"]],\"sequential\":[[0.0,\"#0d0887\"],[0.1111111111111111,\"#46039f\"],[0.2222222222222222,\"#7201a8\"],[0.3333333333333333,\"#9c179e\"],[0.4444444444444444,\"#bd3786\"],[0.5555555555555556,\"#d8576b\"],[0.6666666666666666,\"#ed7953\"],[0.7777777777777778,\"#fb9f3a\"],[0.8888888888888888,\"#fdca26\"],[1.0,\"#f0f921\"]],\"sequentialminus\":[[0.0,\"#0d0887\"],[0.1111111111111111,\"#46039f\"],[0.2222222222222222,\"#7201a8\"],[0.3333333333333333,\"#9c179e\"],[0.4444444444444444,\"#bd3786\"],[0.5555555555555556,\"#d8576b\"],[0.6666666666666666,\"#ed7953\"],[0.7777777777777778,\"#fb9f3a\"],[0.8888888888888888,\"#fdca26\"],[1.0,\"#f0f921\"]]},\"colorway\":[\"#636efa\",\"#EF553B\",\"#00cc96\",\"#ab63fa\",\"#FFA15A\",\"#19d3f3\",\"#FF6692\",\"#B6E880\",\"#FF97FF\",\"#FECB52\"],\"font\":{\"color\":\"#2a3f5f\"},\"geo\":{\"bgcolor\":\"white\",\"lakecolor\":\"white\",\"landcolor\":\"#E5ECF6\",\"showlakes\":true,\"showland\":true,\"subunitcolor\":\"white\"},\"hoverlabel\":{\"align\":\"left\"},\"hovermode\":\"closest\",\"mapbox\":{\"style\":\"light\"},\"paper_bgcolor\":\"white\",\"plot_bgcolor\":\"#E5ECF6\",\"polar\":{\"angularaxis\":{\"gridcolor\":\"white\",\"linecolor\":\"white\",\"ticks\":\"\"},\"bgcolor\":\"#E5ECF6\",\"radialaxis\":{\"gridcolor\":\"white\",\"linecolor\":\"white\",\"ticks\":\"\"}},\"scene\":{\"xaxis\":{\"backgroundcolor\":\"#E5ECF6\",\"gridcolor\":\"white\",\"gridwidth\":2,\"linecolor\":\"white\",\"showbackground\":true,\"ticks\":\"\",\"zerolinecolor\":\"white\"},\"yaxis\":{\"backgroundcolor\":\"#E5ECF6\",\"gridcolor\":\"white\",\"gridwidth\":2,\"linecolor\":\"white\",\"showbackground\":true,\"ticks\":\"\",\"zerolinecolor\":\"white\"},\"zaxis\":{\"backgroundcolor\":\"#E5ECF6\",\"gridcolor\":\"white\",\"gridwidth\":2,\"linecolor\":\"white\",\"showbackground\":true,\"ticks\":\"\",\"zerolinecolor\":\"white\"}},\"shapedefaults\":{\"line\":{\"color\":\"#2a3f5f\"}},\"ternary\":{\"aaxis\":{\"gridcolor\":\"white\",\"linecolor\":\"white\",\"ticks\":\"\"},\"baxis\":{\"gridcolor\":\"white\",\"linecolor\":\"white\",\"ticks\":\"\"},\"bgcolor\":\"#E5ECF6\",\"caxis\":{\"gridcolor\":\"white\",\"linecolor\":\"white\",\"ticks\":\"\"}},\"title\":{\"x\":0.05},\"xaxis\":{\"automargin\":true,\"gridcolor\":\"white\",\"linecolor\":\"white\",\"ticks\":\"\",\"title\":{\"standoff\":15},\"zerolinecolor\":\"white\",\"zerolinewidth\":2},\"yaxis\":{\"automargin\":true,\"gridcolor\":\"white\",\"linecolor\":\"white\",\"ticks\":\"\",\"title\":{\"standoff\":15},\"zerolinecolor\":\"white\",\"zerolinewidth\":2}}},\"xaxis\":{\"anchor\":\"y\",\"domain\":[0.0,1.0],\"title\":{\"text\":\"Make\"}},\"yaxis\":{\"anchor\":\"x\",\"domain\":[0.0,1.0],\"title\":{\"text\":\"Top Speed\"}},\"coloraxis\":{\"colorbar\":{\"title\":{\"text\":\"Top Speed\"}},\"colorscale\":[[0.0,\"#0d0887\"],[0.1111111111111111,\"#46039f\"],[0.2222222222222222,\"#7201a8\"],[0.3333333333333333,\"#9c179e\"],[0.4444444444444444,\"#bd3786\"],[0.5555555555555556,\"#d8576b\"],[0.6666666666666666,\"#ed7953\"],[0.7777777777777778,\"#fb9f3a\"],[0.8888888888888888,\"#fdca26\"],[1.0,\"#f0f921\"]]},\"legend\":{\"tracegroupgap\":0},\"title\":{\"text\":\"Top Speed v. Make\"}},                        {\"responsive\": true}                    ).then(function(){\n",
       "                            \n",
       "var gd = document.getElementById('a0fbe3a1-160e-472b-a441-23dcd3b37ccf');\n",
       "var x = new MutationObserver(function (mutations, observer) {{\n",
       "        var display = window.getComputedStyle(gd).display;\n",
       "        if (!display || display === 'none') {{\n",
       "            console.log([gd, 'removed!']);\n",
       "            Plotly.purge(gd);\n",
       "            observer.disconnect();\n",
       "        }}\n",
       "}});\n",
       "\n",
       "// Listen for the removal of the full notebook cells\n",
       "var notebookContainer = gd.closest('#notebook-container');\n",
       "if (notebookContainer) {{\n",
       "    x.observe(notebookContainer, {childList: true});\n",
       "}}\n",
       "\n",
       "// Listen for the clearing of the current output cell\n",
       "var outputEl = gd.closest('.output');\n",
       "if (outputEl) {{\n",
       "    x.observe(outputEl, {childList: true});\n",
       "}}\n",
       "\n",
       "                        })                };                });            </script>        </div>"
      ]
     },
     "metadata": {},
     "output_type": "display_data"
    }
   ],
   "source": [
    "fig = px.scatter(df,title='Top Speed v. Make', y= 'Top Speed', x='Make', color = 'Top Speed', hover_data=['Make'])\n",
    "fig.show()"
   ]
  },
  {
   "cell_type": "code",
   "execution_count": 10,
   "id": "161f5e3e",
   "metadata": {},
   "outputs": [
    {
     "data": {
      "application/vnd.plotly.v1+json": {
       "config": {
        "plotlyServerURL": "https://plot.ly"
       },
       "data": [
        {
         "hovertemplate": "Make=%{x}<br>KWH Per Gallon=%{y}<br>Charge Speed=%{marker.color}<extra></extra>",
         "legendgroup": "",
         "marker": {
          "color": [
           49,
           46,
           46,
           54,
           55,
           38,
           53,
           45,
           49,
           45,
           51,
           47,
           44,
           59,
           34,
           49,
           28,
           28,
           50,
           47,
           48,
           48,
           49,
           25,
           42,
           34,
           49,
           49,
           29,
           35,
           55,
           36,
           52,
           25,
           48,
           24,
           50,
           47,
           56,
           36,
           49,
           37,
           24,
           47,
           50,
           25,
           44,
           53,
           49,
           46,
           49,
           58,
           44,
           55,
           98,
           47,
           51,
           36,
           32,
           33,
           24,
           50,
           25,
           47,
           52,
           50,
           24,
           51,
           52,
           34,
           39,
           59,
           24,
           32,
           32,
           54,
           53,
           40,
           43,
           43,
           25,
           34,
           46,
           52,
           52,
           110,
           24,
           35,
           33,
           31,
           51,
           52,
           40,
           42,
           43,
           25,
           34,
           52,
           110,
           54,
           40,
           36,
           24,
           24,
           53,
           45,
           45,
           45,
           54,
           37,
           24,
           50,
           55,
           50,
           29,
           110,
           47,
           54,
           49,
           27,
           32,
           35,
           43,
           24,
           54,
           50,
           53,
           59,
           29,
           60,
           39,
           44,
           49,
           47,
           46,
           24,
           49,
           24,
           54,
           25,
           50,
           49,
           58,
           47,
           56,
           54,
           36,
           110,
           42,
           45,
           24,
           52,
           24,
           29,
           43,
           56,
           24,
           51,
           25,
           110,
           40,
           25,
           24,
           47,
           56,
           47,
           25,
           53,
           41,
           25,
           52,
           49,
           49,
           46,
           49,
           44,
           58,
           57,
           53,
           25,
           37,
           47,
           50,
           24,
           28,
           46,
           33,
           53,
           52,
           45,
           55,
           27,
           49,
           25
          ],
          "coloraxis": "coloraxis",
          "symbol": "circle"
         },
         "mode": "markers",
         "name": "",
         "orientation": "v",
         "showlegend": false,
         "type": "scatter",
         "x": [
          "Genesis",
          "Mercedes",
          "Porsche",
          "BMW",
          "Volkswagen",
          "CUPRA",
          "Skoda",
          "Porsche",
          "Skoda",
          "Porsche",
          "Skoda",
          "MG",
          "Volvo",
          "Fiat",
          "Smart",
          "Hyundai",
          "Peugeot",
          "Citroen",
          "Mercedes",
          "Porsche",
          "Genesis",
          "Porsche",
          "Audi",
          "Fiat",
          "Volvo",
          "Volkswagen",
          "BMW",
          "Polestar",
          "Toyota",
          "Audi",
          "Kia",
          "DS",
          "Mercedes",
          "Citroen",
          "MG",
          "Citroen",
          "Volkswagen",
          "Volvo",
          "CUPRA",
          "Peugeot",
          "Mercedes",
          "Citroen",
          "Toyota",
          "Kia",
          "Mercedes",
          "Peugeot",
          "Ford",
          "MG",
          "Mercedes",
          "Genesis",
          "Mercedes",
          "Hyundai",
          "Genesis",
          "MG",
          "Smart",
          "Ford",
          "Hyundai",
          "Audi",
          "Mercedes",
          "Honda",
          "Citroen",
          "Porsche",
          "Peugeot",
          "Audi",
          "Mercedes",
          "Mercedes",
          "Peugeot",
          "BMW",
          "Mercedes",
          "Volkswagen",
          "Hyundai",
          "Fiat",
          "Peugeot",
          "JAC",
          "Nissan",
          "Skoda",
          "MG",
          "Volkswagen",
          "BMW",
          "Mercedes",
          "Toyota",
          "MG",
          "Volvo",
          "Porsche",
          "Mercedes",
          "Renault",
          "Fiat",
          "Audi",
          "MG",
          "MG",
          "Kia",
          "Kia",
          "Peugeot",
          "Mercedes",
          "Mercedes",
          "Opel",
          "Audi",
          "Volkswagen",
          "Renault",
          "Mercedes",
          "Audi",
          "Kia",
          "Toyota",
          "Toyota",
          "Kia",
          "Ford",
          "BMW",
          "Audi",
          "Mercedes",
          "Hongqi",
          "Toyota",
          "Volkswagen",
          "CUPRA",
          "Porsche",
          "Lexus",
          "Renault",
          "Porsche",
          "Porsche",
          "Hyundai",
          "Peugeot",
          "Mercedes",
          "Dacia",
          "Porsche",
          "Toyota",
          "Skoda",
          "Mercedes",
          "Mazda",
          "Fiat",
          "Seres",
          "Tesla",
          "Audi",
          "Porsche",
          "Audi",
          "BMW",
          "Audi",
          "Peugeot",
          "Volkswagen",
          "Opel",
          "Tesla",
          "Peugeot",
          "Porsche",
          "Volkswagen",
          "Fiat",
          "Audi",
          "Volkswagen",
          "Mercedes",
          "Opel",
          "Renault",
          "Jaguar",
          "Ford",
          "Citroen",
          "Tesla",
          "Citroen",
          "Toyota",
          "Audi",
          "Mercedes",
          "Peugeot",
          "Porsche",
          "Opel",
          "Renault",
          "Opel",
          "Citroen",
          "Fiat",
          "Porsche",
          "CUPRA",
          "BMW",
          "Citroen",
          "Polestar",
          "Audi",
          "Fiat",
          "Audi",
          "Volkswagen",
          "Porsche",
          "Mercedes",
          "Mercedes",
          "Ford",
          "Mini",
          "Tesla",
          "Mercedes",
          "Citroen",
          "Hongqi",
          "Ford",
          "BMW",
          "Opel",
          "Subaru",
          "Ford",
          "Honda",
          "Porsche",
          "Volkswagen",
          "Porsche",
          "Volkswagen",
          "Citroen",
          "Audi",
          "Peugeot"
         ],
         "xaxis": "x",
         "y": [
          5.038759689922481,
          4.734576757532281,
          4.443254817987151,
          5.601907032181168,
          5.487804878048781,
          5,
          5.32258064516129,
          4.282655246252676,
          4.878048780487805,
          4.3361884368308345,
          5.121951219512195,
          4.721030042918454,
          4.487179487179487,
          5.672268907563025,
          5.303030303030303,
          5.038759689922481,
          4,
          4,
          4.8,
          4.550321199143469,
          4.909560723514211,
          4.6038543897216275,
          4.939024390243903,
          3.6,
          4.358974358974359,
          5.181818181818182,
          4.8125,
          5.064102564102564,
          4.933333333333334,
          5.363636363636363,
          5.588235294117647,
          5.2,
          5.041666666666667,
          3.6,
          4.792560801144492,
          3.5,
          5,
          4.855072463768116,
          5.645161290322581,
          5.1,
          5.0215208034433285,
          5.3,
          3.5,
          4.7803617571059425,
          5.074424898511501,
          3.6,
          4.305977710233029,
          5.168986083499006,
          5.0215208034433285,
          4.715762273901809,
          4.708333333333333,
          5.851851851851852,
          4.521963824289405,
          5.703125,
          5.075757575757576,
          4.609929078014185,
          5.086206896551724,
          3.473684210526316,
          3.05,
          4.788732394366197,
          3.5,
          4.817987152034261,
          3.6,
          4.695121951219512,
          5,
          5.09325681492109,
          3.466666666666667,
          5.220588235294118,
          5.041666666666667,
          5.181818181818182,
          5.9523809523809526,
          5.595238095238095,
          3.5,
          5.172413793103448,
          5.483870967741935,
          5.403225806451613,
          5.319148936170213,
          4.024390243902439,
          4.349775784753363,
          4.352941176470588,
          3.533333333333333,
          5.027548209366391,
          4.782608695652174,
          4.987373737373737,
          5,
          6.083333333333333,
          3.5,
          3.3684210526315788,
          5.882352941176471,
          5.283757338551859,
          5.167958656330749,
          5.297157622739018,
          5.7,
          4.041666666666667,
          4.125,
          3.533333333333333,
          5.181818181818182,
          5.2439024390243905,
          6.25,
          5.15,
          3.943661971830986,
          5.476190476190476,
          3.466666666666667,
          3.466666666666667,
          5.258620689655173,
          4.407294832826747,
          4.5291479820627805,
          4.3361884368308345,
          5.25,
          3.585858585858586,
          3.5,
          5,
          5.487804878048781,
          4.797979797979798,
          4.327808471454881,
          5.7586837294332724,
          4.550321199143469,
          5.1767676767676765,
          4.974160206718346,
          3.9,
          3.05,
          5.7835820895522385,
          4.122055674518201,
          3.466666666666667,
          5.426829268292683,
          4.85,
          4.788732394366197,
          5.595238095238095,
          5.1923076923076925,
          5.914634146341464,
          3.8421052631578947,
          4.229122055674518,
          4.878048780487805,
          4.699738903394256,
          4.49678800856531,
          3.5,
          4.939024390243903,
          3.5,
          5.304878048780488,
          3.533333333333333,
          4.764453961456103,
          4.939024390243903,
          5.476190476190476,
          4.695121951219512,
          5.645161290322581,
          5.15,
          5.1,
          6,
          4.222222222222222,
          4.4579533941236065,
          3.466666666666667,
          5.060975609756097,
          3.466666666666667,
          5,
          4.154929577464789,
          5.333333333333333,
          3.466666666666667,
          4.925053533190578,
          3.6,
          5.667276051188299,
          5.7,
          3.6,
          3.466666666666667,
          4.550321199143469,
          5.564516129032258,
          4.857142857142857,
          3.533333333333333,
          5.448717948717949,
          4,
          3.533333333333333,
          5.182926829268292,
          4.878048780487805,
          4.671717171717171,
          4.734576757532281,
          4.949784791965566,
          4.305977710233029,
          5.521472392638037,
          5.609756097560975,
          5.125,
          3.533333333333333,
          3.630952380952381,
          4.6895640686922055,
          5.184743742550655,
          3.466666666666667,
          4.733333333333333,
          4.557463672391017,
          4.788732394366197,
          5.085653104925053,
          5.2439024390243905,
          4.282655246252676,
          5.487804878048781,
          3.9,
          4.878048780487805,
          3.533333333333333
         ],
         "yaxis": "y"
        }
       ],
       "layout": {
        "coloraxis": {
         "colorbar": {
          "title": {
           "text": "Charge Speed"
          }
         },
         "colorscale": [
          [
           0,
           "#0d0887"
          ],
          [
           0.1111111111111111,
           "#46039f"
          ],
          [
           0.2222222222222222,
           "#7201a8"
          ],
          [
           0.3333333333333333,
           "#9c179e"
          ],
          [
           0.4444444444444444,
           "#bd3786"
          ],
          [
           0.5555555555555556,
           "#d8576b"
          ],
          [
           0.6666666666666666,
           "#ed7953"
          ],
          [
           0.7777777777777778,
           "#fb9f3a"
          ],
          [
           0.8888888888888888,
           "#fdca26"
          ],
          [
           1,
           "#f0f921"
          ]
         ]
        },
        "legend": {
         "tracegroupgap": 0
        },
        "template": {
         "data": {
          "bar": [
           {
            "error_x": {
             "color": "#2a3f5f"
            },
            "error_y": {
             "color": "#2a3f5f"
            },
            "marker": {
             "line": {
              "color": "#E5ECF6",
              "width": 0.5
             },
             "pattern": {
              "fillmode": "overlay",
              "size": 10,
              "solidity": 0.2
             }
            },
            "type": "bar"
           }
          ],
          "barpolar": [
           {
            "marker": {
             "line": {
              "color": "#E5ECF6",
              "width": 0.5
             },
             "pattern": {
              "fillmode": "overlay",
              "size": 10,
              "solidity": 0.2
             }
            },
            "type": "barpolar"
           }
          ],
          "carpet": [
           {
            "aaxis": {
             "endlinecolor": "#2a3f5f",
             "gridcolor": "white",
             "linecolor": "white",
             "minorgridcolor": "white",
             "startlinecolor": "#2a3f5f"
            },
            "baxis": {
             "endlinecolor": "#2a3f5f",
             "gridcolor": "white",
             "linecolor": "white",
             "minorgridcolor": "white",
             "startlinecolor": "#2a3f5f"
            },
            "type": "carpet"
           }
          ],
          "choropleth": [
           {
            "colorbar": {
             "outlinewidth": 0,
             "ticks": ""
            },
            "type": "choropleth"
           }
          ],
          "contour": [
           {
            "colorbar": {
             "outlinewidth": 0,
             "ticks": ""
            },
            "colorscale": [
             [
              0,
              "#0d0887"
             ],
             [
              0.1111111111111111,
              "#46039f"
             ],
             [
              0.2222222222222222,
              "#7201a8"
             ],
             [
              0.3333333333333333,
              "#9c179e"
             ],
             [
              0.4444444444444444,
              "#bd3786"
             ],
             [
              0.5555555555555556,
              "#d8576b"
             ],
             [
              0.6666666666666666,
              "#ed7953"
             ],
             [
              0.7777777777777778,
              "#fb9f3a"
             ],
             [
              0.8888888888888888,
              "#fdca26"
             ],
             [
              1,
              "#f0f921"
             ]
            ],
            "type": "contour"
           }
          ],
          "contourcarpet": [
           {
            "colorbar": {
             "outlinewidth": 0,
             "ticks": ""
            },
            "type": "contourcarpet"
           }
          ],
          "heatmap": [
           {
            "colorbar": {
             "outlinewidth": 0,
             "ticks": ""
            },
            "colorscale": [
             [
              0,
              "#0d0887"
             ],
             [
              0.1111111111111111,
              "#46039f"
             ],
             [
              0.2222222222222222,
              "#7201a8"
             ],
             [
              0.3333333333333333,
              "#9c179e"
             ],
             [
              0.4444444444444444,
              "#bd3786"
             ],
             [
              0.5555555555555556,
              "#d8576b"
             ],
             [
              0.6666666666666666,
              "#ed7953"
             ],
             [
              0.7777777777777778,
              "#fb9f3a"
             ],
             [
              0.8888888888888888,
              "#fdca26"
             ],
             [
              1,
              "#f0f921"
             ]
            ],
            "type": "heatmap"
           }
          ],
          "heatmapgl": [
           {
            "colorbar": {
             "outlinewidth": 0,
             "ticks": ""
            },
            "colorscale": [
             [
              0,
              "#0d0887"
             ],
             [
              0.1111111111111111,
              "#46039f"
             ],
             [
              0.2222222222222222,
              "#7201a8"
             ],
             [
              0.3333333333333333,
              "#9c179e"
             ],
             [
              0.4444444444444444,
              "#bd3786"
             ],
             [
              0.5555555555555556,
              "#d8576b"
             ],
             [
              0.6666666666666666,
              "#ed7953"
             ],
             [
              0.7777777777777778,
              "#fb9f3a"
             ],
             [
              0.8888888888888888,
              "#fdca26"
             ],
             [
              1,
              "#f0f921"
             ]
            ],
            "type": "heatmapgl"
           }
          ],
          "histogram": [
           {
            "marker": {
             "pattern": {
              "fillmode": "overlay",
              "size": 10,
              "solidity": 0.2
             }
            },
            "type": "histogram"
           }
          ],
          "histogram2d": [
           {
            "colorbar": {
             "outlinewidth": 0,
             "ticks": ""
            },
            "colorscale": [
             [
              0,
              "#0d0887"
             ],
             [
              0.1111111111111111,
              "#46039f"
             ],
             [
              0.2222222222222222,
              "#7201a8"
             ],
             [
              0.3333333333333333,
              "#9c179e"
             ],
             [
              0.4444444444444444,
              "#bd3786"
             ],
             [
              0.5555555555555556,
              "#d8576b"
             ],
             [
              0.6666666666666666,
              "#ed7953"
             ],
             [
              0.7777777777777778,
              "#fb9f3a"
             ],
             [
              0.8888888888888888,
              "#fdca26"
             ],
             [
              1,
              "#f0f921"
             ]
            ],
            "type": "histogram2d"
           }
          ],
          "histogram2dcontour": [
           {
            "colorbar": {
             "outlinewidth": 0,
             "ticks": ""
            },
            "colorscale": [
             [
              0,
              "#0d0887"
             ],
             [
              0.1111111111111111,
              "#46039f"
             ],
             [
              0.2222222222222222,
              "#7201a8"
             ],
             [
              0.3333333333333333,
              "#9c179e"
             ],
             [
              0.4444444444444444,
              "#bd3786"
             ],
             [
              0.5555555555555556,
              "#d8576b"
             ],
             [
              0.6666666666666666,
              "#ed7953"
             ],
             [
              0.7777777777777778,
              "#fb9f3a"
             ],
             [
              0.8888888888888888,
              "#fdca26"
             ],
             [
              1,
              "#f0f921"
             ]
            ],
            "type": "histogram2dcontour"
           }
          ],
          "mesh3d": [
           {
            "colorbar": {
             "outlinewidth": 0,
             "ticks": ""
            },
            "type": "mesh3d"
           }
          ],
          "parcoords": [
           {
            "line": {
             "colorbar": {
              "outlinewidth": 0,
              "ticks": ""
             }
            },
            "type": "parcoords"
           }
          ],
          "pie": [
           {
            "automargin": true,
            "type": "pie"
           }
          ],
          "scatter": [
           {
            "marker": {
             "colorbar": {
              "outlinewidth": 0,
              "ticks": ""
             }
            },
            "type": "scatter"
           }
          ],
          "scatter3d": [
           {
            "line": {
             "colorbar": {
              "outlinewidth": 0,
              "ticks": ""
             }
            },
            "marker": {
             "colorbar": {
              "outlinewidth": 0,
              "ticks": ""
             }
            },
            "type": "scatter3d"
           }
          ],
          "scattercarpet": [
           {
            "marker": {
             "colorbar": {
              "outlinewidth": 0,
              "ticks": ""
             }
            },
            "type": "scattercarpet"
           }
          ],
          "scattergeo": [
           {
            "marker": {
             "colorbar": {
              "outlinewidth": 0,
              "ticks": ""
             }
            },
            "type": "scattergeo"
           }
          ],
          "scattergl": [
           {
            "marker": {
             "colorbar": {
              "outlinewidth": 0,
              "ticks": ""
             }
            },
            "type": "scattergl"
           }
          ],
          "scattermapbox": [
           {
            "marker": {
             "colorbar": {
              "outlinewidth": 0,
              "ticks": ""
             }
            },
            "type": "scattermapbox"
           }
          ],
          "scatterpolar": [
           {
            "marker": {
             "colorbar": {
              "outlinewidth": 0,
              "ticks": ""
             }
            },
            "type": "scatterpolar"
           }
          ],
          "scatterpolargl": [
           {
            "marker": {
             "colorbar": {
              "outlinewidth": 0,
              "ticks": ""
             }
            },
            "type": "scatterpolargl"
           }
          ],
          "scatterternary": [
           {
            "marker": {
             "colorbar": {
              "outlinewidth": 0,
              "ticks": ""
             }
            },
            "type": "scatterternary"
           }
          ],
          "surface": [
           {
            "colorbar": {
             "outlinewidth": 0,
             "ticks": ""
            },
            "colorscale": [
             [
              0,
              "#0d0887"
             ],
             [
              0.1111111111111111,
              "#46039f"
             ],
             [
              0.2222222222222222,
              "#7201a8"
             ],
             [
              0.3333333333333333,
              "#9c179e"
             ],
             [
              0.4444444444444444,
              "#bd3786"
             ],
             [
              0.5555555555555556,
              "#d8576b"
             ],
             [
              0.6666666666666666,
              "#ed7953"
             ],
             [
              0.7777777777777778,
              "#fb9f3a"
             ],
             [
              0.8888888888888888,
              "#fdca26"
             ],
             [
              1,
              "#f0f921"
             ]
            ],
            "type": "surface"
           }
          ],
          "table": [
           {
            "cells": {
             "fill": {
              "color": "#EBF0F8"
             },
             "line": {
              "color": "white"
             }
            },
            "header": {
             "fill": {
              "color": "#C8D4E3"
             },
             "line": {
              "color": "white"
             }
            },
            "type": "table"
           }
          ]
         },
         "layout": {
          "annotationdefaults": {
           "arrowcolor": "#2a3f5f",
           "arrowhead": 0,
           "arrowwidth": 1
          },
          "autotypenumbers": "strict",
          "coloraxis": {
           "colorbar": {
            "outlinewidth": 0,
            "ticks": ""
           }
          },
          "colorscale": {
           "diverging": [
            [
             0,
             "#8e0152"
            ],
            [
             0.1,
             "#c51b7d"
            ],
            [
             0.2,
             "#de77ae"
            ],
            [
             0.3,
             "#f1b6da"
            ],
            [
             0.4,
             "#fde0ef"
            ],
            [
             0.5,
             "#f7f7f7"
            ],
            [
             0.6,
             "#e6f5d0"
            ],
            [
             0.7,
             "#b8e186"
            ],
            [
             0.8,
             "#7fbc41"
            ],
            [
             0.9,
             "#4d9221"
            ],
            [
             1,
             "#276419"
            ]
           ],
           "sequential": [
            [
             0,
             "#0d0887"
            ],
            [
             0.1111111111111111,
             "#46039f"
            ],
            [
             0.2222222222222222,
             "#7201a8"
            ],
            [
             0.3333333333333333,
             "#9c179e"
            ],
            [
             0.4444444444444444,
             "#bd3786"
            ],
            [
             0.5555555555555556,
             "#d8576b"
            ],
            [
             0.6666666666666666,
             "#ed7953"
            ],
            [
             0.7777777777777778,
             "#fb9f3a"
            ],
            [
             0.8888888888888888,
             "#fdca26"
            ],
            [
             1,
             "#f0f921"
            ]
           ],
           "sequentialminus": [
            [
             0,
             "#0d0887"
            ],
            [
             0.1111111111111111,
             "#46039f"
            ],
            [
             0.2222222222222222,
             "#7201a8"
            ],
            [
             0.3333333333333333,
             "#9c179e"
            ],
            [
             0.4444444444444444,
             "#bd3786"
            ],
            [
             0.5555555555555556,
             "#d8576b"
            ],
            [
             0.6666666666666666,
             "#ed7953"
            ],
            [
             0.7777777777777778,
             "#fb9f3a"
            ],
            [
             0.8888888888888888,
             "#fdca26"
            ],
            [
             1,
             "#f0f921"
            ]
           ]
          },
          "colorway": [
           "#636efa",
           "#EF553B",
           "#00cc96",
           "#ab63fa",
           "#FFA15A",
           "#19d3f3",
           "#FF6692",
           "#B6E880",
           "#FF97FF",
           "#FECB52"
          ],
          "font": {
           "color": "#2a3f5f"
          },
          "geo": {
           "bgcolor": "white",
           "lakecolor": "white",
           "landcolor": "#E5ECF6",
           "showlakes": true,
           "showland": true,
           "subunitcolor": "white"
          },
          "hoverlabel": {
           "align": "left"
          },
          "hovermode": "closest",
          "mapbox": {
           "style": "light"
          },
          "paper_bgcolor": "white",
          "plot_bgcolor": "#E5ECF6",
          "polar": {
           "angularaxis": {
            "gridcolor": "white",
            "linecolor": "white",
            "ticks": ""
           },
           "bgcolor": "#E5ECF6",
           "radialaxis": {
            "gridcolor": "white",
            "linecolor": "white",
            "ticks": ""
           }
          },
          "scene": {
           "xaxis": {
            "backgroundcolor": "#E5ECF6",
            "gridcolor": "white",
            "gridwidth": 2,
            "linecolor": "white",
            "showbackground": true,
            "ticks": "",
            "zerolinecolor": "white"
           },
           "yaxis": {
            "backgroundcolor": "#E5ECF6",
            "gridcolor": "white",
            "gridwidth": 2,
            "linecolor": "white",
            "showbackground": true,
            "ticks": "",
            "zerolinecolor": "white"
           },
           "zaxis": {
            "backgroundcolor": "#E5ECF6",
            "gridcolor": "white",
            "gridwidth": 2,
            "linecolor": "white",
            "showbackground": true,
            "ticks": "",
            "zerolinecolor": "white"
           }
          },
          "shapedefaults": {
           "line": {
            "color": "#2a3f5f"
           }
          },
          "ternary": {
           "aaxis": {
            "gridcolor": "white",
            "linecolor": "white",
            "ticks": ""
           },
           "baxis": {
            "gridcolor": "white",
            "linecolor": "white",
            "ticks": ""
           },
           "bgcolor": "#E5ECF6",
           "caxis": {
            "gridcolor": "white",
            "linecolor": "white",
            "ticks": ""
           }
          },
          "title": {
           "x": 0.05
          },
          "xaxis": {
           "automargin": true,
           "gridcolor": "white",
           "linecolor": "white",
           "ticks": "",
           "title": {
            "standoff": 15
           },
           "zerolinecolor": "white",
           "zerolinewidth": 2
          },
          "yaxis": {
           "automargin": true,
           "gridcolor": "white",
           "linecolor": "white",
           "ticks": "",
           "title": {
            "standoff": 15
           },
           "zerolinecolor": "white",
           "zerolinewidth": 2
          }
         }
        },
        "title": {
         "text": "KWH v. Charge Speed by Make"
        },
        "xaxis": {
         "anchor": "y",
         "domain": [
          0,
          1
         ],
         "title": {
          "text": "Make"
         }
        },
        "yaxis": {
         "anchor": "x",
         "domain": [
          0,
          1
         ],
         "title": {
          "text": "KWH Per Gallon"
         }
        }
       }
      },
      "text/html": [
       "<div>                            <div id=\"13a6469a-5130-47d7-b934-cd6e18c4fdfe\" class=\"plotly-graph-div\" style=\"height:525px; width:100%;\"></div>            <script type=\"text/javascript\">                require([\"plotly\"], function(Plotly) {                    window.PLOTLYENV=window.PLOTLYENV || {};                                    if (document.getElementById(\"13a6469a-5130-47d7-b934-cd6e18c4fdfe\")) {                    Plotly.newPlot(                        \"13a6469a-5130-47d7-b934-cd6e18c4fdfe\",                        [{\"hovertemplate\":\"Make=%{x}<br>KWH Per Gallon=%{y}<br>Charge Speed=%{marker.color}<extra></extra>\",\"legendgroup\":\"\",\"marker\":{\"color\":[49,46,46,54,55,38,53,45,49,45,51,47,44,59,34,49,28,28,50,47,48,48,49,25,42,34,49,49,29,35,55,36,52,25,48,24,50,47,56,36,49,37,24,47,50,25,44,53,49,46,49,58,44,55,98,47,51,36,32,33,24,50,25,47,52,50,24,51,52,34,39,59,24,32,32,54,53,40,43,43,25,34,46,52,52,110,24,35,33,31,51,52,40,42,43,25,34,52,110,54,40,36,24,24,53,45,45,45,54,37,24,50,55,50,29,110,47,54,49,27,32,35,43,24,54,50,53,59,29,60,39,44,49,47,46,24,49,24,54,25,50,49,58,47,56,54,36,110,42,45,24,52,24,29,43,56,24,51,25,110,40,25,24,47,56,47,25,53,41,25,52,49,49,46,49,44,58,57,53,25,37,47,50,24,28,46,33,53,52,45,55,27,49,25],\"coloraxis\":\"coloraxis\",\"symbol\":\"circle\"},\"mode\":\"markers\",\"name\":\"\",\"orientation\":\"v\",\"showlegend\":false,\"x\":[\"Genesis\",\"Mercedes\",\"Porsche\",\"BMW\",\"Volkswagen\",\"CUPRA\",\"Skoda\",\"Porsche\",\"Skoda\",\"Porsche\",\"Skoda\",\"MG\",\"Volvo\",\"Fiat\",\"Smart\",\"Hyundai\",\"Peugeot\",\"Citroen\",\"Mercedes\",\"Porsche\",\"Genesis\",\"Porsche\",\"Audi\",\"Fiat\",\"Volvo\",\"Volkswagen\",\"BMW\",\"Polestar\",\"Toyota\",\"Audi\",\"Kia\",\"DS\",\"Mercedes\",\"Citroen\",\"MG\",\"Citroen\",\"Volkswagen\",\"Volvo\",\"CUPRA\",\"Peugeot\",\"Mercedes\",\"Citroen\",\"Toyota\",\"Kia\",\"Mercedes\",\"Peugeot\",\"Ford\",\"MG\",\"Mercedes\",\"Genesis\",\"Mercedes\",\"Hyundai\",\"Genesis\",\"MG\",\"Smart\",\"Ford\",\"Hyundai\",\"Audi\",\"Mercedes\",\"Honda\",\"Citroen\",\"Porsche\",\"Peugeot\",\"Audi\",\"Mercedes\",\"Mercedes\",\"Peugeot\",\"BMW\",\"Mercedes\",\"Volkswagen\",\"Hyundai\",\"Fiat\",\"Peugeot\",\"JAC\",\"Nissan\",\"Skoda\",\"MG\",\"Volkswagen\",\"BMW\",\"Mercedes\",\"Toyota\",\"MG\",\"Volvo\",\"Porsche\",\"Mercedes\",\"Renault\",\"Fiat\",\"Audi\",\"MG\",\"MG\",\"Kia\",\"Kia\",\"Peugeot\",\"Mercedes\",\"Mercedes\",\"Opel\",\"Audi\",\"Volkswagen\",\"Renault\",\"Mercedes\",\"Audi\",\"Kia\",\"Toyota\",\"Toyota\",\"Kia\",\"Ford\",\"BMW\",\"Audi\",\"Mercedes\",\"Hongqi\",\"Toyota\",\"Volkswagen\",\"CUPRA\",\"Porsche\",\"Lexus\",\"Renault\",\"Porsche\",\"Porsche\",\"Hyundai\",\"Peugeot\",\"Mercedes\",\"Dacia\",\"Porsche\",\"Toyota\",\"Skoda\",\"Mercedes\",\"Mazda\",\"Fiat\",\"Seres\",\"Tesla\",\"Audi\",\"Porsche\",\"Audi\",\"BMW\",\"Audi\",\"Peugeot\",\"Volkswagen\",\"Opel\",\"Tesla\",\"Peugeot\",\"Porsche\",\"Volkswagen\",\"Fiat\",\"Audi\",\"Volkswagen\",\"Mercedes\",\"Opel\",\"Renault\",\"Jaguar\",\"Ford\",\"Citroen\",\"Tesla\",\"Citroen\",\"Toyota\",\"Audi\",\"Mercedes\",\"Peugeot\",\"Porsche\",\"Opel\",\"Renault\",\"Opel\",\"Citroen\",\"Fiat\",\"Porsche\",\"CUPRA\",\"BMW\",\"Citroen\",\"Polestar\",\"Audi\",\"Fiat\",\"Audi\",\"Volkswagen\",\"Porsche\",\"Mercedes\",\"Mercedes\",\"Ford\",\"Mini\",\"Tesla\",\"Mercedes\",\"Citroen\",\"Hongqi\",\"Ford\",\"BMW\",\"Opel\",\"Subaru\",\"Ford\",\"Honda\",\"Porsche\",\"Volkswagen\",\"Porsche\",\"Volkswagen\",\"Citroen\",\"Audi\",\"Peugeot\"],\"xaxis\":\"x\",\"y\":[5.038759689922481,4.734576757532281,4.443254817987151,5.601907032181168,5.487804878048781,5.0,5.32258064516129,4.282655246252676,4.878048780487805,4.3361884368308345,5.121951219512195,4.721030042918454,4.487179487179487,5.672268907563025,5.303030303030303,5.038759689922481,4.0,4.0,4.8,4.550321199143469,4.909560723514211,4.6038543897216275,4.939024390243903,3.6,4.358974358974359,5.181818181818182,4.8125,5.064102564102564,4.933333333333334,5.363636363636363,5.588235294117647,5.2,5.041666666666667,3.6,4.792560801144492,3.5,5.0,4.855072463768116,5.645161290322581,5.1,5.0215208034433285,5.3,3.5,4.7803617571059425,5.074424898511501,3.6,4.305977710233029,5.168986083499006,5.0215208034433285,4.715762273901809,4.708333333333333,5.851851851851852,4.521963824289405,5.703125,5.075757575757576,4.609929078014185,5.086206896551724,3.473684210526316,3.05,4.788732394366197,3.5,4.817987152034261,3.6,4.695121951219512,5.0,5.09325681492109,3.466666666666667,5.220588235294118,5.041666666666667,5.181818181818182,5.9523809523809526,5.595238095238095,3.5,5.172413793103448,5.483870967741935,5.403225806451613,5.319148936170213,4.024390243902439,4.349775784753363,4.352941176470588,3.533333333333333,5.027548209366391,4.782608695652174,4.987373737373737,5.0,6.083333333333333,3.5,3.3684210526315788,5.882352941176471,5.283757338551859,5.167958656330749,5.297157622739018,5.7,4.041666666666667,4.125,3.533333333333333,5.181818181818182,5.2439024390243905,6.25,5.15,3.943661971830986,5.476190476190476,3.466666666666667,3.466666666666667,5.258620689655173,4.407294832826747,4.5291479820627805,4.3361884368308345,5.25,3.585858585858586,3.5,5.0,5.487804878048781,4.797979797979798,4.327808471454881,5.7586837294332724,4.550321199143469,5.1767676767676765,4.974160206718346,3.9,3.05,5.7835820895522385,4.122055674518201,3.466666666666667,5.426829268292683,4.85,4.788732394366197,5.595238095238095,5.1923076923076925,5.914634146341464,3.8421052631578947,4.229122055674518,4.878048780487805,4.699738903394256,4.49678800856531,3.5,4.939024390243903,3.5,5.304878048780488,3.533333333333333,4.764453961456103,4.939024390243903,5.476190476190476,4.695121951219512,5.645161290322581,5.15,5.1,6.0,4.222222222222222,4.4579533941236065,3.466666666666667,5.060975609756097,3.466666666666667,5.0,4.154929577464789,5.333333333333333,3.466666666666667,4.925053533190578,3.6,5.667276051188299,5.7,3.6,3.466666666666667,4.550321199143469,5.564516129032258,4.857142857142857,3.533333333333333,5.448717948717949,4.0,3.533333333333333,5.182926829268292,4.878048780487805,4.671717171717171,4.734576757532281,4.949784791965566,4.305977710233029,5.521472392638037,5.609756097560975,5.125,3.533333333333333,3.630952380952381,4.6895640686922055,5.184743742550655,3.466666666666667,4.733333333333333,4.557463672391017,4.788732394366197,5.085653104925053,5.2439024390243905,4.282655246252676,5.487804878048781,3.9,4.878048780487805,3.533333333333333],\"yaxis\":\"y\",\"type\":\"scatter\"}],                        {\"template\":{\"data\":{\"bar\":[{\"error_x\":{\"color\":\"#2a3f5f\"},\"error_y\":{\"color\":\"#2a3f5f\"},\"marker\":{\"line\":{\"color\":\"#E5ECF6\",\"width\":0.5},\"pattern\":{\"fillmode\":\"overlay\",\"size\":10,\"solidity\":0.2}},\"type\":\"bar\"}],\"barpolar\":[{\"marker\":{\"line\":{\"color\":\"#E5ECF6\",\"width\":0.5},\"pattern\":{\"fillmode\":\"overlay\",\"size\":10,\"solidity\":0.2}},\"type\":\"barpolar\"}],\"carpet\":[{\"aaxis\":{\"endlinecolor\":\"#2a3f5f\",\"gridcolor\":\"white\",\"linecolor\":\"white\",\"minorgridcolor\":\"white\",\"startlinecolor\":\"#2a3f5f\"},\"baxis\":{\"endlinecolor\":\"#2a3f5f\",\"gridcolor\":\"white\",\"linecolor\":\"white\",\"minorgridcolor\":\"white\",\"startlinecolor\":\"#2a3f5f\"},\"type\":\"carpet\"}],\"choropleth\":[{\"colorbar\":{\"outlinewidth\":0,\"ticks\":\"\"},\"type\":\"choropleth\"}],\"contour\":[{\"colorbar\":{\"outlinewidth\":0,\"ticks\":\"\"},\"colorscale\":[[0.0,\"#0d0887\"],[0.1111111111111111,\"#46039f\"],[0.2222222222222222,\"#7201a8\"],[0.3333333333333333,\"#9c179e\"],[0.4444444444444444,\"#bd3786\"],[0.5555555555555556,\"#d8576b\"],[0.6666666666666666,\"#ed7953\"],[0.7777777777777778,\"#fb9f3a\"],[0.8888888888888888,\"#fdca26\"],[1.0,\"#f0f921\"]],\"type\":\"contour\"}],\"contourcarpet\":[{\"colorbar\":{\"outlinewidth\":0,\"ticks\":\"\"},\"type\":\"contourcarpet\"}],\"heatmap\":[{\"colorbar\":{\"outlinewidth\":0,\"ticks\":\"\"},\"colorscale\":[[0.0,\"#0d0887\"],[0.1111111111111111,\"#46039f\"],[0.2222222222222222,\"#7201a8\"],[0.3333333333333333,\"#9c179e\"],[0.4444444444444444,\"#bd3786\"],[0.5555555555555556,\"#d8576b\"],[0.6666666666666666,\"#ed7953\"],[0.7777777777777778,\"#fb9f3a\"],[0.8888888888888888,\"#fdca26\"],[1.0,\"#f0f921\"]],\"type\":\"heatmap\"}],\"heatmapgl\":[{\"colorbar\":{\"outlinewidth\":0,\"ticks\":\"\"},\"colorscale\":[[0.0,\"#0d0887\"],[0.1111111111111111,\"#46039f\"],[0.2222222222222222,\"#7201a8\"],[0.3333333333333333,\"#9c179e\"],[0.4444444444444444,\"#bd3786\"],[0.5555555555555556,\"#d8576b\"],[0.6666666666666666,\"#ed7953\"],[0.7777777777777778,\"#fb9f3a\"],[0.8888888888888888,\"#fdca26\"],[1.0,\"#f0f921\"]],\"type\":\"heatmapgl\"}],\"histogram\":[{\"marker\":{\"pattern\":{\"fillmode\":\"overlay\",\"size\":10,\"solidity\":0.2}},\"type\":\"histogram\"}],\"histogram2d\":[{\"colorbar\":{\"outlinewidth\":0,\"ticks\":\"\"},\"colorscale\":[[0.0,\"#0d0887\"],[0.1111111111111111,\"#46039f\"],[0.2222222222222222,\"#7201a8\"],[0.3333333333333333,\"#9c179e\"],[0.4444444444444444,\"#bd3786\"],[0.5555555555555556,\"#d8576b\"],[0.6666666666666666,\"#ed7953\"],[0.7777777777777778,\"#fb9f3a\"],[0.8888888888888888,\"#fdca26\"],[1.0,\"#f0f921\"]],\"type\":\"histogram2d\"}],\"histogram2dcontour\":[{\"colorbar\":{\"outlinewidth\":0,\"ticks\":\"\"},\"colorscale\":[[0.0,\"#0d0887\"],[0.1111111111111111,\"#46039f\"],[0.2222222222222222,\"#7201a8\"],[0.3333333333333333,\"#9c179e\"],[0.4444444444444444,\"#bd3786\"],[0.5555555555555556,\"#d8576b\"],[0.6666666666666666,\"#ed7953\"],[0.7777777777777778,\"#fb9f3a\"],[0.8888888888888888,\"#fdca26\"],[1.0,\"#f0f921\"]],\"type\":\"histogram2dcontour\"}],\"mesh3d\":[{\"colorbar\":{\"outlinewidth\":0,\"ticks\":\"\"},\"type\":\"mesh3d\"}],\"parcoords\":[{\"line\":{\"colorbar\":{\"outlinewidth\":0,\"ticks\":\"\"}},\"type\":\"parcoords\"}],\"pie\":[{\"automargin\":true,\"type\":\"pie\"}],\"scatter\":[{\"marker\":{\"colorbar\":{\"outlinewidth\":0,\"ticks\":\"\"}},\"type\":\"scatter\"}],\"scatter3d\":[{\"line\":{\"colorbar\":{\"outlinewidth\":0,\"ticks\":\"\"}},\"marker\":{\"colorbar\":{\"outlinewidth\":0,\"ticks\":\"\"}},\"type\":\"scatter3d\"}],\"scattercarpet\":[{\"marker\":{\"colorbar\":{\"outlinewidth\":0,\"ticks\":\"\"}},\"type\":\"scattercarpet\"}],\"scattergeo\":[{\"marker\":{\"colorbar\":{\"outlinewidth\":0,\"ticks\":\"\"}},\"type\":\"scattergeo\"}],\"scattergl\":[{\"marker\":{\"colorbar\":{\"outlinewidth\":0,\"ticks\":\"\"}},\"type\":\"scattergl\"}],\"scattermapbox\":[{\"marker\":{\"colorbar\":{\"outlinewidth\":0,\"ticks\":\"\"}},\"type\":\"scattermapbox\"}],\"scatterpolar\":[{\"marker\":{\"colorbar\":{\"outlinewidth\":0,\"ticks\":\"\"}},\"type\":\"scatterpolar\"}],\"scatterpolargl\":[{\"marker\":{\"colorbar\":{\"outlinewidth\":0,\"ticks\":\"\"}},\"type\":\"scatterpolargl\"}],\"scatterternary\":[{\"marker\":{\"colorbar\":{\"outlinewidth\":0,\"ticks\":\"\"}},\"type\":\"scatterternary\"}],\"surface\":[{\"colorbar\":{\"outlinewidth\":0,\"ticks\":\"\"},\"colorscale\":[[0.0,\"#0d0887\"],[0.1111111111111111,\"#46039f\"],[0.2222222222222222,\"#7201a8\"],[0.3333333333333333,\"#9c179e\"],[0.4444444444444444,\"#bd3786\"],[0.5555555555555556,\"#d8576b\"],[0.6666666666666666,\"#ed7953\"],[0.7777777777777778,\"#fb9f3a\"],[0.8888888888888888,\"#fdca26\"],[1.0,\"#f0f921\"]],\"type\":\"surface\"}],\"table\":[{\"cells\":{\"fill\":{\"color\":\"#EBF0F8\"},\"line\":{\"color\":\"white\"}},\"header\":{\"fill\":{\"color\":\"#C8D4E3\"},\"line\":{\"color\":\"white\"}},\"type\":\"table\"}]},\"layout\":{\"annotationdefaults\":{\"arrowcolor\":\"#2a3f5f\",\"arrowhead\":0,\"arrowwidth\":1},\"autotypenumbers\":\"strict\",\"coloraxis\":{\"colorbar\":{\"outlinewidth\":0,\"ticks\":\"\"}},\"colorscale\":{\"diverging\":[[0,\"#8e0152\"],[0.1,\"#c51b7d\"],[0.2,\"#de77ae\"],[0.3,\"#f1b6da\"],[0.4,\"#fde0ef\"],[0.5,\"#f7f7f7\"],[0.6,\"#e6f5d0\"],[0.7,\"#b8e186\"],[0.8,\"#7fbc41\"],[0.9,\"#4d9221\"],[1,\"#276419\"]],\"sequential\":[[0.0,\"#0d0887\"],[0.1111111111111111,\"#46039f\"],[0.2222222222222222,\"#7201a8\"],[0.3333333333333333,\"#9c179e\"],[0.4444444444444444,\"#bd3786\"],[0.5555555555555556,\"#d8576b\"],[0.6666666666666666,\"#ed7953\"],[0.7777777777777778,\"#fb9f3a\"],[0.8888888888888888,\"#fdca26\"],[1.0,\"#f0f921\"]],\"sequentialminus\":[[0.0,\"#0d0887\"],[0.1111111111111111,\"#46039f\"],[0.2222222222222222,\"#7201a8\"],[0.3333333333333333,\"#9c179e\"],[0.4444444444444444,\"#bd3786\"],[0.5555555555555556,\"#d8576b\"],[0.6666666666666666,\"#ed7953\"],[0.7777777777777778,\"#fb9f3a\"],[0.8888888888888888,\"#fdca26\"],[1.0,\"#f0f921\"]]},\"colorway\":[\"#636efa\",\"#EF553B\",\"#00cc96\",\"#ab63fa\",\"#FFA15A\",\"#19d3f3\",\"#FF6692\",\"#B6E880\",\"#FF97FF\",\"#FECB52\"],\"font\":{\"color\":\"#2a3f5f\"},\"geo\":{\"bgcolor\":\"white\",\"lakecolor\":\"white\",\"landcolor\":\"#E5ECF6\",\"showlakes\":true,\"showland\":true,\"subunitcolor\":\"white\"},\"hoverlabel\":{\"align\":\"left\"},\"hovermode\":\"closest\",\"mapbox\":{\"style\":\"light\"},\"paper_bgcolor\":\"white\",\"plot_bgcolor\":\"#E5ECF6\",\"polar\":{\"angularaxis\":{\"gridcolor\":\"white\",\"linecolor\":\"white\",\"ticks\":\"\"},\"bgcolor\":\"#E5ECF6\",\"radialaxis\":{\"gridcolor\":\"white\",\"linecolor\":\"white\",\"ticks\":\"\"}},\"scene\":{\"xaxis\":{\"backgroundcolor\":\"#E5ECF6\",\"gridcolor\":\"white\",\"gridwidth\":2,\"linecolor\":\"white\",\"showbackground\":true,\"ticks\":\"\",\"zerolinecolor\":\"white\"},\"yaxis\":{\"backgroundcolor\":\"#E5ECF6\",\"gridcolor\":\"white\",\"gridwidth\":2,\"linecolor\":\"white\",\"showbackground\":true,\"ticks\":\"\",\"zerolinecolor\":\"white\"},\"zaxis\":{\"backgroundcolor\":\"#E5ECF6\",\"gridcolor\":\"white\",\"gridwidth\":2,\"linecolor\":\"white\",\"showbackground\":true,\"ticks\":\"\",\"zerolinecolor\":\"white\"}},\"shapedefaults\":{\"line\":{\"color\":\"#2a3f5f\"}},\"ternary\":{\"aaxis\":{\"gridcolor\":\"white\",\"linecolor\":\"white\",\"ticks\":\"\"},\"baxis\":{\"gridcolor\":\"white\",\"linecolor\":\"white\",\"ticks\":\"\"},\"bgcolor\":\"#E5ECF6\",\"caxis\":{\"gridcolor\":\"white\",\"linecolor\":\"white\",\"ticks\":\"\"}},\"title\":{\"x\":0.05},\"xaxis\":{\"automargin\":true,\"gridcolor\":\"white\",\"linecolor\":\"white\",\"ticks\":\"\",\"title\":{\"standoff\":15},\"zerolinecolor\":\"white\",\"zerolinewidth\":2},\"yaxis\":{\"automargin\":true,\"gridcolor\":\"white\",\"linecolor\":\"white\",\"ticks\":\"\",\"title\":{\"standoff\":15},\"zerolinecolor\":\"white\",\"zerolinewidth\":2}}},\"xaxis\":{\"anchor\":\"y\",\"domain\":[0.0,1.0],\"title\":{\"text\":\"Make\"}},\"yaxis\":{\"anchor\":\"x\",\"domain\":[0.0,1.0],\"title\":{\"text\":\"KWH Per Gallon\"}},\"coloraxis\":{\"colorbar\":{\"title\":{\"text\":\"Charge Speed\"}},\"colorscale\":[[0.0,\"#0d0887\"],[0.1111111111111111,\"#46039f\"],[0.2222222222222222,\"#7201a8\"],[0.3333333333333333,\"#9c179e\"],[0.4444444444444444,\"#bd3786\"],[0.5555555555555556,\"#d8576b\"],[0.6666666666666666,\"#ed7953\"],[0.7777777777777778,\"#fb9f3a\"],[0.8888888888888888,\"#fdca26\"],[1.0,\"#f0f921\"]]},\"legend\":{\"tracegroupgap\":0},\"title\":{\"text\":\"KWH v. Charge Speed by Make\"}},                        {\"responsive\": true}                    ).then(function(){\n",
       "                            \n",
       "var gd = document.getElementById('13a6469a-5130-47d7-b934-cd6e18c4fdfe');\n",
       "var x = new MutationObserver(function (mutations, observer) {{\n",
       "        var display = window.getComputedStyle(gd).display;\n",
       "        if (!display || display === 'none') {{\n",
       "            console.log([gd, 'removed!']);\n",
       "            Plotly.purge(gd);\n",
       "            observer.disconnect();\n",
       "        }}\n",
       "}});\n",
       "\n",
       "// Listen for the removal of the full notebook cells\n",
       "var notebookContainer = gd.closest('#notebook-container');\n",
       "if (notebookContainer) {{\n",
       "    x.observe(notebookContainer, {childList: true});\n",
       "}}\n",
       "\n",
       "// Listen for the clearing of the current output cell\n",
       "var outputEl = gd.closest('.output');\n",
       "if (outputEl) {{\n",
       "    x.observe(outputEl, {childList: true});\n",
       "}}\n",
       "\n",
       "                        })                };                });            </script>        </div>"
      ]
     },
     "metadata": {},
     "output_type": "display_data"
    }
   ],
   "source": [
    "fig = px.scatter(df, title='KWH v. Charge Speed by Make',y= 'KWH Per Gallon', x='Make', color='Charge Speed', hover_data=['Make'])\n",
    "fig.show()"
   ]
  },
  {
   "cell_type": "code",
   "execution_count": 5,
   "id": "46afc57c",
   "metadata": {
    "scrolled": false
   },
   "outputs": [
    {
     "data": {
      "application/vnd.plotly.v1+json": {
       "config": {
        "plotlyServerURL": "https://plot.ly"
       },
       "data": [
        {
         "alignmentgroup": "True",
         "hovertemplate": "Make=%{x}<br>Total Power=%{y}<extra></extra>",
         "legendgroup": "",
         "marker": {
          "color": "#636efa",
          "pattern": {
           "shape": ""
          }
         },
         "name": "",
         "offsetgroup": "",
         "orientation": "v",
         "showlegend": false,
         "textposition": "auto",
         "type": "bar",
         "x": [
          "Genesis",
          "Mercedes",
          "Porsche",
          "BMW",
          "Volkswagen",
          "CUPRA",
          "Skoda",
          "Porsche",
          "Skoda",
          "Porsche",
          "Skoda",
          "MG",
          "Volvo",
          "Fiat",
          "Smart",
          "Hyundai",
          "Peugeot",
          "Citroen",
          "Mercedes",
          "Porsche",
          "Genesis",
          "Porsche",
          "Audi",
          "Fiat",
          "Volvo",
          "Volkswagen",
          "BMW",
          "Polestar",
          "Toyota",
          "Audi",
          "Kia",
          "DS",
          "Mercedes",
          "Citroen",
          "MG",
          "Citroen",
          "Volkswagen",
          "Volvo",
          "CUPRA",
          "Peugeot",
          "Mercedes",
          "Citroen",
          "Toyota",
          "Kia",
          "Mercedes",
          "Peugeot",
          "Ford",
          "MG",
          "Mercedes",
          "Genesis",
          "Mercedes",
          "Hyundai",
          "Genesis",
          "MG",
          "Smart",
          "Ford",
          "Hyundai",
          "Audi",
          "Mercedes",
          "Honda",
          "Citroen",
          "Porsche",
          "Peugeot",
          "Audi",
          "Mercedes",
          "Mercedes",
          "Peugeot",
          "BMW",
          "Mercedes",
          "Volkswagen",
          "Hyundai",
          "Fiat",
          "Peugeot",
          "JAC",
          "Nissan",
          "Skoda",
          "MG",
          "Volkswagen",
          "BMW",
          "Mercedes",
          "Toyota",
          "MG",
          "Volvo",
          "Porsche",
          "Mercedes",
          "Renault",
          "Fiat",
          "Audi",
          "MG",
          "MG",
          "Kia",
          "Kia",
          "Peugeot",
          "Mercedes",
          "Mercedes",
          "Opel",
          "Audi",
          "Volkswagen",
          "Renault",
          "Mercedes",
          "Audi",
          "Kia",
          "Toyota",
          "Toyota",
          "Kia",
          "Ford",
          "BMW",
          "Audi",
          "Mercedes",
          "Hongqi",
          "Toyota",
          "Volkswagen",
          "CUPRA",
          "Porsche",
          "Lexus",
          "Renault",
          "Porsche",
          "Porsche",
          "Hyundai",
          "Peugeot",
          "Mercedes",
          "Dacia",
          "Porsche",
          "Toyota",
          "Skoda",
          "Mercedes",
          "Mazda",
          "Fiat",
          "Seres",
          "Tesla",
          "Audi",
          "Porsche",
          "Audi",
          "BMW",
          "Audi",
          "Peugeot",
          "Volkswagen",
          "Opel",
          "Tesla",
          "Peugeot",
          "Porsche",
          "Volkswagen",
          "Fiat",
          "Audi",
          "Volkswagen",
          "Mercedes",
          "Opel",
          "Renault",
          "Jaguar",
          "Ford",
          "Citroen",
          "Tesla",
          "Citroen",
          "Toyota",
          "Audi",
          "Mercedes",
          "Peugeot",
          "Porsche",
          "Opel",
          "Renault",
          "Opel",
          "Citroen",
          "Fiat",
          "Porsche",
          "CUPRA",
          "BMW",
          "Citroen",
          "Polestar",
          "Audi",
          "Fiat",
          "Audi",
          "Volkswagen",
          "Porsche",
          "Mercedes",
          "Mercedes",
          "Ford",
          "Mini",
          "Tesla",
          "Mercedes",
          "Citroen",
          "Hongqi",
          "Ford",
          "BMW",
          "Opel",
          "Subaru",
          "Ford",
          "Honda",
          "Porsche",
          "Volkswagen",
          "Porsche",
          "Volkswagen",
          "Citroen",
          "Audi",
          "Peugeot"
         ],
         "xaxis": "x",
         "y": [
          168,
          215,
          500,
          250,
          150,
          110,
          132,
          500,
          195,
          500,
          150,
          212,
          300,
          70,
          200,
          168,
          100,
          100,
          460,
          350,
          234,
          420,
          150,
          100,
          300,
          109,
          210,
          300,
          160,
          125,
          150,
          100,
          385,
          100,
          132,
          100,
          150,
          170,
          150,
          100,
          215,
          100,
          100,
          430,
          140,
          100,
          358,
          130,
          168,
          360,
          560,
          150,
          360,
          150,
          315,
          216,
          125,
          370,
          150,
          113,
          100,
          440,
          100,
          195,
          215,
          140,
          100,
          230,
          330,
          125,
          100,
          87,
          100,
          85,
          160,
          132,
          115,
          150,
          455,
          300,
          100,
          115,
          170,
          390,
          300,
          96,
          100,
          370,
          125,
          130,
          239,
          168,
          100,
          265,
          265,
          100,
          125,
          128,
          96,
          180,
          230,
          100,
          100,
          100,
          125,
          258,
          385,
          475,
          215,
          405,
          100,
          128,
          170,
          300,
          150,
          80,
          420,
          300,
          239,
          100,
          150,
          33,
          560,
          100,
          150,
          350,
          107,
          87,
          120,
          366,
          300,
          560,
          195,
          240,
          390,
          100,
          220,
          100,
          378,
          100,
          350,
          195,
          87,
          220,
          150,
          215,
          100,
          160,
          294,
          258,
          100,
          393,
          100,
          150,
          230,
          245,
          100,
          420,
          100,
          100,
          100,
          100,
          100,
          440,
          170,
          400,
          100,
          170,
          300,
          100,
          150,
          220,
          390,
          168,
          140,
          358,
          135,
          377,
          265,
          100,
          320,
          198,
          400,
          100,
          160,
          198,
          100,
          350,
          150,
          560,
          150,
          100,
          220,
          100
         ],
         "yaxis": "y"
        }
       ],
       "layout": {
        "barmode": "relative",
        "legend": {
         "tracegroupgap": 0
        },
        "template": {
         "data": {
          "bar": [
           {
            "error_x": {
             "color": "#2a3f5f"
            },
            "error_y": {
             "color": "#2a3f5f"
            },
            "marker": {
             "line": {
              "color": "#E5ECF6",
              "width": 0.5
             },
             "pattern": {
              "fillmode": "overlay",
              "size": 10,
              "solidity": 0.2
             }
            },
            "type": "bar"
           }
          ],
          "barpolar": [
           {
            "marker": {
             "line": {
              "color": "#E5ECF6",
              "width": 0.5
             },
             "pattern": {
              "fillmode": "overlay",
              "size": 10,
              "solidity": 0.2
             }
            },
            "type": "barpolar"
           }
          ],
          "carpet": [
           {
            "aaxis": {
             "endlinecolor": "#2a3f5f",
             "gridcolor": "white",
             "linecolor": "white",
             "minorgridcolor": "white",
             "startlinecolor": "#2a3f5f"
            },
            "baxis": {
             "endlinecolor": "#2a3f5f",
             "gridcolor": "white",
             "linecolor": "white",
             "minorgridcolor": "white",
             "startlinecolor": "#2a3f5f"
            },
            "type": "carpet"
           }
          ],
          "choropleth": [
           {
            "colorbar": {
             "outlinewidth": 0,
             "ticks": ""
            },
            "type": "choropleth"
           }
          ],
          "contour": [
           {
            "colorbar": {
             "outlinewidth": 0,
             "ticks": ""
            },
            "colorscale": [
             [
              0,
              "#0d0887"
             ],
             [
              0.1111111111111111,
              "#46039f"
             ],
             [
              0.2222222222222222,
              "#7201a8"
             ],
             [
              0.3333333333333333,
              "#9c179e"
             ],
             [
              0.4444444444444444,
              "#bd3786"
             ],
             [
              0.5555555555555556,
              "#d8576b"
             ],
             [
              0.6666666666666666,
              "#ed7953"
             ],
             [
              0.7777777777777778,
              "#fb9f3a"
             ],
             [
              0.8888888888888888,
              "#fdca26"
             ],
             [
              1,
              "#f0f921"
             ]
            ],
            "type": "contour"
           }
          ],
          "contourcarpet": [
           {
            "colorbar": {
             "outlinewidth": 0,
             "ticks": ""
            },
            "type": "contourcarpet"
           }
          ],
          "heatmap": [
           {
            "colorbar": {
             "outlinewidth": 0,
             "ticks": ""
            },
            "colorscale": [
             [
              0,
              "#0d0887"
             ],
             [
              0.1111111111111111,
              "#46039f"
             ],
             [
              0.2222222222222222,
              "#7201a8"
             ],
             [
              0.3333333333333333,
              "#9c179e"
             ],
             [
              0.4444444444444444,
              "#bd3786"
             ],
             [
              0.5555555555555556,
              "#d8576b"
             ],
             [
              0.6666666666666666,
              "#ed7953"
             ],
             [
              0.7777777777777778,
              "#fb9f3a"
             ],
             [
              0.8888888888888888,
              "#fdca26"
             ],
             [
              1,
              "#f0f921"
             ]
            ],
            "type": "heatmap"
           }
          ],
          "heatmapgl": [
           {
            "colorbar": {
             "outlinewidth": 0,
             "ticks": ""
            },
            "colorscale": [
             [
              0,
              "#0d0887"
             ],
             [
              0.1111111111111111,
              "#46039f"
             ],
             [
              0.2222222222222222,
              "#7201a8"
             ],
             [
              0.3333333333333333,
              "#9c179e"
             ],
             [
              0.4444444444444444,
              "#bd3786"
             ],
             [
              0.5555555555555556,
              "#d8576b"
             ],
             [
              0.6666666666666666,
              "#ed7953"
             ],
             [
              0.7777777777777778,
              "#fb9f3a"
             ],
             [
              0.8888888888888888,
              "#fdca26"
             ],
             [
              1,
              "#f0f921"
             ]
            ],
            "type": "heatmapgl"
           }
          ],
          "histogram": [
           {
            "marker": {
             "pattern": {
              "fillmode": "overlay",
              "size": 10,
              "solidity": 0.2
             }
            },
            "type": "histogram"
           }
          ],
          "histogram2d": [
           {
            "colorbar": {
             "outlinewidth": 0,
             "ticks": ""
            },
            "colorscale": [
             [
              0,
              "#0d0887"
             ],
             [
              0.1111111111111111,
              "#46039f"
             ],
             [
              0.2222222222222222,
              "#7201a8"
             ],
             [
              0.3333333333333333,
              "#9c179e"
             ],
             [
              0.4444444444444444,
              "#bd3786"
             ],
             [
              0.5555555555555556,
              "#d8576b"
             ],
             [
              0.6666666666666666,
              "#ed7953"
             ],
             [
              0.7777777777777778,
              "#fb9f3a"
             ],
             [
              0.8888888888888888,
              "#fdca26"
             ],
             [
              1,
              "#f0f921"
             ]
            ],
            "type": "histogram2d"
           }
          ],
          "histogram2dcontour": [
           {
            "colorbar": {
             "outlinewidth": 0,
             "ticks": ""
            },
            "colorscale": [
             [
              0,
              "#0d0887"
             ],
             [
              0.1111111111111111,
              "#46039f"
             ],
             [
              0.2222222222222222,
              "#7201a8"
             ],
             [
              0.3333333333333333,
              "#9c179e"
             ],
             [
              0.4444444444444444,
              "#bd3786"
             ],
             [
              0.5555555555555556,
              "#d8576b"
             ],
             [
              0.6666666666666666,
              "#ed7953"
             ],
             [
              0.7777777777777778,
              "#fb9f3a"
             ],
             [
              0.8888888888888888,
              "#fdca26"
             ],
             [
              1,
              "#f0f921"
             ]
            ],
            "type": "histogram2dcontour"
           }
          ],
          "mesh3d": [
           {
            "colorbar": {
             "outlinewidth": 0,
             "ticks": ""
            },
            "type": "mesh3d"
           }
          ],
          "parcoords": [
           {
            "line": {
             "colorbar": {
              "outlinewidth": 0,
              "ticks": ""
             }
            },
            "type": "parcoords"
           }
          ],
          "pie": [
           {
            "automargin": true,
            "type": "pie"
           }
          ],
          "scatter": [
           {
            "marker": {
             "colorbar": {
              "outlinewidth": 0,
              "ticks": ""
             }
            },
            "type": "scatter"
           }
          ],
          "scatter3d": [
           {
            "line": {
             "colorbar": {
              "outlinewidth": 0,
              "ticks": ""
             }
            },
            "marker": {
             "colorbar": {
              "outlinewidth": 0,
              "ticks": ""
             }
            },
            "type": "scatter3d"
           }
          ],
          "scattercarpet": [
           {
            "marker": {
             "colorbar": {
              "outlinewidth": 0,
              "ticks": ""
             }
            },
            "type": "scattercarpet"
           }
          ],
          "scattergeo": [
           {
            "marker": {
             "colorbar": {
              "outlinewidth": 0,
              "ticks": ""
             }
            },
            "type": "scattergeo"
           }
          ],
          "scattergl": [
           {
            "marker": {
             "colorbar": {
              "outlinewidth": 0,
              "ticks": ""
             }
            },
            "type": "scattergl"
           }
          ],
          "scattermapbox": [
           {
            "marker": {
             "colorbar": {
              "outlinewidth": 0,
              "ticks": ""
             }
            },
            "type": "scattermapbox"
           }
          ],
          "scatterpolar": [
           {
            "marker": {
             "colorbar": {
              "outlinewidth": 0,
              "ticks": ""
             }
            },
            "type": "scatterpolar"
           }
          ],
          "scatterpolargl": [
           {
            "marker": {
             "colorbar": {
              "outlinewidth": 0,
              "ticks": ""
             }
            },
            "type": "scatterpolargl"
           }
          ],
          "scatterternary": [
           {
            "marker": {
             "colorbar": {
              "outlinewidth": 0,
              "ticks": ""
             }
            },
            "type": "scatterternary"
           }
          ],
          "surface": [
           {
            "colorbar": {
             "outlinewidth": 0,
             "ticks": ""
            },
            "colorscale": [
             [
              0,
              "#0d0887"
             ],
             [
              0.1111111111111111,
              "#46039f"
             ],
             [
              0.2222222222222222,
              "#7201a8"
             ],
             [
              0.3333333333333333,
              "#9c179e"
             ],
             [
              0.4444444444444444,
              "#bd3786"
             ],
             [
              0.5555555555555556,
              "#d8576b"
             ],
             [
              0.6666666666666666,
              "#ed7953"
             ],
             [
              0.7777777777777778,
              "#fb9f3a"
             ],
             [
              0.8888888888888888,
              "#fdca26"
             ],
             [
              1,
              "#f0f921"
             ]
            ],
            "type": "surface"
           }
          ],
          "table": [
           {
            "cells": {
             "fill": {
              "color": "#EBF0F8"
             },
             "line": {
              "color": "white"
             }
            },
            "header": {
             "fill": {
              "color": "#C8D4E3"
             },
             "line": {
              "color": "white"
             }
            },
            "type": "table"
           }
          ]
         },
         "layout": {
          "annotationdefaults": {
           "arrowcolor": "#2a3f5f",
           "arrowhead": 0,
           "arrowwidth": 1
          },
          "autotypenumbers": "strict",
          "coloraxis": {
           "colorbar": {
            "outlinewidth": 0,
            "ticks": ""
           }
          },
          "colorscale": {
           "diverging": [
            [
             0,
             "#8e0152"
            ],
            [
             0.1,
             "#c51b7d"
            ],
            [
             0.2,
             "#de77ae"
            ],
            [
             0.3,
             "#f1b6da"
            ],
            [
             0.4,
             "#fde0ef"
            ],
            [
             0.5,
             "#f7f7f7"
            ],
            [
             0.6,
             "#e6f5d0"
            ],
            [
             0.7,
             "#b8e186"
            ],
            [
             0.8,
             "#7fbc41"
            ],
            [
             0.9,
             "#4d9221"
            ],
            [
             1,
             "#276419"
            ]
           ],
           "sequential": [
            [
             0,
             "#0d0887"
            ],
            [
             0.1111111111111111,
             "#46039f"
            ],
            [
             0.2222222222222222,
             "#7201a8"
            ],
            [
             0.3333333333333333,
             "#9c179e"
            ],
            [
             0.4444444444444444,
             "#bd3786"
            ],
            [
             0.5555555555555556,
             "#d8576b"
            ],
            [
             0.6666666666666666,
             "#ed7953"
            ],
            [
             0.7777777777777778,
             "#fb9f3a"
            ],
            [
             0.8888888888888888,
             "#fdca26"
            ],
            [
             1,
             "#f0f921"
            ]
           ],
           "sequentialminus": [
            [
             0,
             "#0d0887"
            ],
            [
             0.1111111111111111,
             "#46039f"
            ],
            [
             0.2222222222222222,
             "#7201a8"
            ],
            [
             0.3333333333333333,
             "#9c179e"
            ],
            [
             0.4444444444444444,
             "#bd3786"
            ],
            [
             0.5555555555555556,
             "#d8576b"
            ],
            [
             0.6666666666666666,
             "#ed7953"
            ],
            [
             0.7777777777777778,
             "#fb9f3a"
            ],
            [
             0.8888888888888888,
             "#fdca26"
            ],
            [
             1,
             "#f0f921"
            ]
           ]
          },
          "colorway": [
           "#636efa",
           "#EF553B",
           "#00cc96",
           "#ab63fa",
           "#FFA15A",
           "#19d3f3",
           "#FF6692",
           "#B6E880",
           "#FF97FF",
           "#FECB52"
          ],
          "font": {
           "color": "#2a3f5f"
          },
          "geo": {
           "bgcolor": "white",
           "lakecolor": "white",
           "landcolor": "#E5ECF6",
           "showlakes": true,
           "showland": true,
           "subunitcolor": "white"
          },
          "hoverlabel": {
           "align": "left"
          },
          "hovermode": "closest",
          "mapbox": {
           "style": "light"
          },
          "paper_bgcolor": "white",
          "plot_bgcolor": "#E5ECF6",
          "polar": {
           "angularaxis": {
            "gridcolor": "white",
            "linecolor": "white",
            "ticks": ""
           },
           "bgcolor": "#E5ECF6",
           "radialaxis": {
            "gridcolor": "white",
            "linecolor": "white",
            "ticks": ""
           }
          },
          "scene": {
           "xaxis": {
            "backgroundcolor": "#E5ECF6",
            "gridcolor": "white",
            "gridwidth": 2,
            "linecolor": "white",
            "showbackground": true,
            "ticks": "",
            "zerolinecolor": "white"
           },
           "yaxis": {
            "backgroundcolor": "#E5ECF6",
            "gridcolor": "white",
            "gridwidth": 2,
            "linecolor": "white",
            "showbackground": true,
            "ticks": "",
            "zerolinecolor": "white"
           },
           "zaxis": {
            "backgroundcolor": "#E5ECF6",
            "gridcolor": "white",
            "gridwidth": 2,
            "linecolor": "white",
            "showbackground": true,
            "ticks": "",
            "zerolinecolor": "white"
           }
          },
          "shapedefaults": {
           "line": {
            "color": "#2a3f5f"
           }
          },
          "ternary": {
           "aaxis": {
            "gridcolor": "white",
            "linecolor": "white",
            "ticks": ""
           },
           "baxis": {
            "gridcolor": "white",
            "linecolor": "white",
            "ticks": ""
           },
           "bgcolor": "#E5ECF6",
           "caxis": {
            "gridcolor": "white",
            "linecolor": "white",
            "ticks": ""
           }
          },
          "title": {
           "x": 0.05
          },
          "xaxis": {
           "automargin": true,
           "gridcolor": "white",
           "linecolor": "white",
           "ticks": "",
           "title": {
            "standoff": 15
           },
           "zerolinecolor": "white",
           "zerolinewidth": 2
          },
          "yaxis": {
           "automargin": true,
           "gridcolor": "white",
           "linecolor": "white",
           "ticks": "",
           "title": {
            "standoff": 15
           },
           "zerolinecolor": "white",
           "zerolinewidth": 2
          }
         }
        },
        "title": {
         "text": "Total Fleet Power by Make"
        },
        "xaxis": {
         "anchor": "y",
         "domain": [
          0,
          1
         ],
         "title": {
          "text": "Make"
         }
        },
        "yaxis": {
         "anchor": "x",
         "domain": [
          0,
          1
         ],
         "title": {
          "text": "Total Power"
         }
        }
       }
      },
      "text/html": [
       "<div>                            <div id=\"1ea6211d-44f7-4321-975a-3dc374e19888\" class=\"plotly-graph-div\" style=\"height:525px; width:100%;\"></div>            <script type=\"text/javascript\">                require([\"plotly\"], function(Plotly) {                    window.PLOTLYENV=window.PLOTLYENV || {};                                    if (document.getElementById(\"1ea6211d-44f7-4321-975a-3dc374e19888\")) {                    Plotly.newPlot(                        \"1ea6211d-44f7-4321-975a-3dc374e19888\",                        [{\"alignmentgroup\":\"True\",\"hovertemplate\":\"Make=%{x}<br>Total Power=%{y}<extra></extra>\",\"legendgroup\":\"\",\"marker\":{\"color\":\"#636efa\",\"pattern\":{\"shape\":\"\"}},\"name\":\"\",\"offsetgroup\":\"\",\"orientation\":\"v\",\"showlegend\":false,\"textposition\":\"auto\",\"x\":[\"Genesis\",\"Mercedes\",\"Porsche\",\"BMW\",\"Volkswagen\",\"CUPRA\",\"Skoda\",\"Porsche\",\"Skoda\",\"Porsche\",\"Skoda\",\"MG\",\"Volvo\",\"Fiat\",\"Smart\",\"Hyundai\",\"Peugeot\",\"Citroen\",\"Mercedes\",\"Porsche\",\"Genesis\",\"Porsche\",\"Audi\",\"Fiat\",\"Volvo\",\"Volkswagen\",\"BMW\",\"Polestar\",\"Toyota\",\"Audi\",\"Kia\",\"DS\",\"Mercedes\",\"Citroen\",\"MG\",\"Citroen\",\"Volkswagen\",\"Volvo\",\"CUPRA\",\"Peugeot\",\"Mercedes\",\"Citroen\",\"Toyota\",\"Kia\",\"Mercedes\",\"Peugeot\",\"Ford\",\"MG\",\"Mercedes\",\"Genesis\",\"Mercedes\",\"Hyundai\",\"Genesis\",\"MG\",\"Smart\",\"Ford\",\"Hyundai\",\"Audi\",\"Mercedes\",\"Honda\",\"Citroen\",\"Porsche\",\"Peugeot\",\"Audi\",\"Mercedes\",\"Mercedes\",\"Peugeot\",\"BMW\",\"Mercedes\",\"Volkswagen\",\"Hyundai\",\"Fiat\",\"Peugeot\",\"JAC\",\"Nissan\",\"Skoda\",\"MG\",\"Volkswagen\",\"BMW\",\"Mercedes\",\"Toyota\",\"MG\",\"Volvo\",\"Porsche\",\"Mercedes\",\"Renault\",\"Fiat\",\"Audi\",\"MG\",\"MG\",\"Kia\",\"Kia\",\"Peugeot\",\"Mercedes\",\"Mercedes\",\"Opel\",\"Audi\",\"Volkswagen\",\"Renault\",\"Mercedes\",\"Audi\",\"Kia\",\"Toyota\",\"Toyota\",\"Kia\",\"Ford\",\"BMW\",\"Audi\",\"Mercedes\",\"Hongqi\",\"Toyota\",\"Volkswagen\",\"CUPRA\",\"Porsche\",\"Lexus\",\"Renault\",\"Porsche\",\"Porsche\",\"Hyundai\",\"Peugeot\",\"Mercedes\",\"Dacia\",\"Porsche\",\"Toyota\",\"Skoda\",\"Mercedes\",\"Mazda\",\"Fiat\",\"Seres\",\"Tesla\",\"Audi\",\"Porsche\",\"Audi\",\"BMW\",\"Audi\",\"Peugeot\",\"Volkswagen\",\"Opel\",\"Tesla\",\"Peugeot\",\"Porsche\",\"Volkswagen\",\"Fiat\",\"Audi\",\"Volkswagen\",\"Mercedes\",\"Opel\",\"Renault\",\"Jaguar\",\"Ford\",\"Citroen\",\"Tesla\",\"Citroen\",\"Toyota\",\"Audi\",\"Mercedes\",\"Peugeot\",\"Porsche\",\"Opel\",\"Renault\",\"Opel\",\"Citroen\",\"Fiat\",\"Porsche\",\"CUPRA\",\"BMW\",\"Citroen\",\"Polestar\",\"Audi\",\"Fiat\",\"Audi\",\"Volkswagen\",\"Porsche\",\"Mercedes\",\"Mercedes\",\"Ford\",\"Mini\",\"Tesla\",\"Mercedes\",\"Citroen\",\"Hongqi\",\"Ford\",\"BMW\",\"Opel\",\"Subaru\",\"Ford\",\"Honda\",\"Porsche\",\"Volkswagen\",\"Porsche\",\"Volkswagen\",\"Citroen\",\"Audi\",\"Peugeot\"],\"xaxis\":\"x\",\"y\":[168,215,500,250,150,110,132,500,195,500,150,212,300,70,200,168,100,100,460,350,234,420,150,100,300,109,210,300,160,125,150,100,385,100,132,100,150,170,150,100,215,100,100,430,140,100,358,130,168,360,560,150,360,150,315,216,125,370,150,113,100,440,100,195,215,140,100,230,330,125,100,87,100,85,160,132,115,150,455,300,100,115,170,390,300,96,100,370,125,130,239,168,100,265,265,100,125,128,96,180,230,100,100,100,125,258,385,475,215,405,100,128,170,300,150,80,420,300,239,100,150,33,560,100,150,350,107,87,120,366,300,560,195,240,390,100,220,100,378,100,350,195,87,220,150,215,100,160,294,258,100,393,100,150,230,245,100,420,100,100,100,100,100,440,170,400,100,170,300,100,150,220,390,168,140,358,135,377,265,100,320,198,400,100,160,198,100,350,150,560,150,100,220,100],\"yaxis\":\"y\",\"type\":\"bar\"}],                        {\"template\":{\"data\":{\"bar\":[{\"error_x\":{\"color\":\"#2a3f5f\"},\"error_y\":{\"color\":\"#2a3f5f\"},\"marker\":{\"line\":{\"color\":\"#E5ECF6\",\"width\":0.5},\"pattern\":{\"fillmode\":\"overlay\",\"size\":10,\"solidity\":0.2}},\"type\":\"bar\"}],\"barpolar\":[{\"marker\":{\"line\":{\"color\":\"#E5ECF6\",\"width\":0.5},\"pattern\":{\"fillmode\":\"overlay\",\"size\":10,\"solidity\":0.2}},\"type\":\"barpolar\"}],\"carpet\":[{\"aaxis\":{\"endlinecolor\":\"#2a3f5f\",\"gridcolor\":\"white\",\"linecolor\":\"white\",\"minorgridcolor\":\"white\",\"startlinecolor\":\"#2a3f5f\"},\"baxis\":{\"endlinecolor\":\"#2a3f5f\",\"gridcolor\":\"white\",\"linecolor\":\"white\",\"minorgridcolor\":\"white\",\"startlinecolor\":\"#2a3f5f\"},\"type\":\"carpet\"}],\"choropleth\":[{\"colorbar\":{\"outlinewidth\":0,\"ticks\":\"\"},\"type\":\"choropleth\"}],\"contour\":[{\"colorbar\":{\"outlinewidth\":0,\"ticks\":\"\"},\"colorscale\":[[0.0,\"#0d0887\"],[0.1111111111111111,\"#46039f\"],[0.2222222222222222,\"#7201a8\"],[0.3333333333333333,\"#9c179e\"],[0.4444444444444444,\"#bd3786\"],[0.5555555555555556,\"#d8576b\"],[0.6666666666666666,\"#ed7953\"],[0.7777777777777778,\"#fb9f3a\"],[0.8888888888888888,\"#fdca26\"],[1.0,\"#f0f921\"]],\"type\":\"contour\"}],\"contourcarpet\":[{\"colorbar\":{\"outlinewidth\":0,\"ticks\":\"\"},\"type\":\"contourcarpet\"}],\"heatmap\":[{\"colorbar\":{\"outlinewidth\":0,\"ticks\":\"\"},\"colorscale\":[[0.0,\"#0d0887\"],[0.1111111111111111,\"#46039f\"],[0.2222222222222222,\"#7201a8\"],[0.3333333333333333,\"#9c179e\"],[0.4444444444444444,\"#bd3786\"],[0.5555555555555556,\"#d8576b\"],[0.6666666666666666,\"#ed7953\"],[0.7777777777777778,\"#fb9f3a\"],[0.8888888888888888,\"#fdca26\"],[1.0,\"#f0f921\"]],\"type\":\"heatmap\"}],\"heatmapgl\":[{\"colorbar\":{\"outlinewidth\":0,\"ticks\":\"\"},\"colorscale\":[[0.0,\"#0d0887\"],[0.1111111111111111,\"#46039f\"],[0.2222222222222222,\"#7201a8\"],[0.3333333333333333,\"#9c179e\"],[0.4444444444444444,\"#bd3786\"],[0.5555555555555556,\"#d8576b\"],[0.6666666666666666,\"#ed7953\"],[0.7777777777777778,\"#fb9f3a\"],[0.8888888888888888,\"#fdca26\"],[1.0,\"#f0f921\"]],\"type\":\"heatmapgl\"}],\"histogram\":[{\"marker\":{\"pattern\":{\"fillmode\":\"overlay\",\"size\":10,\"solidity\":0.2}},\"type\":\"histogram\"}],\"histogram2d\":[{\"colorbar\":{\"outlinewidth\":0,\"ticks\":\"\"},\"colorscale\":[[0.0,\"#0d0887\"],[0.1111111111111111,\"#46039f\"],[0.2222222222222222,\"#7201a8\"],[0.3333333333333333,\"#9c179e\"],[0.4444444444444444,\"#bd3786\"],[0.5555555555555556,\"#d8576b\"],[0.6666666666666666,\"#ed7953\"],[0.7777777777777778,\"#fb9f3a\"],[0.8888888888888888,\"#fdca26\"],[1.0,\"#f0f921\"]],\"type\":\"histogram2d\"}],\"histogram2dcontour\":[{\"colorbar\":{\"outlinewidth\":0,\"ticks\":\"\"},\"colorscale\":[[0.0,\"#0d0887\"],[0.1111111111111111,\"#46039f\"],[0.2222222222222222,\"#7201a8\"],[0.3333333333333333,\"#9c179e\"],[0.4444444444444444,\"#bd3786\"],[0.5555555555555556,\"#d8576b\"],[0.6666666666666666,\"#ed7953\"],[0.7777777777777778,\"#fb9f3a\"],[0.8888888888888888,\"#fdca26\"],[1.0,\"#f0f921\"]],\"type\":\"histogram2dcontour\"}],\"mesh3d\":[{\"colorbar\":{\"outlinewidth\":0,\"ticks\":\"\"},\"type\":\"mesh3d\"}],\"parcoords\":[{\"line\":{\"colorbar\":{\"outlinewidth\":0,\"ticks\":\"\"}},\"type\":\"parcoords\"}],\"pie\":[{\"automargin\":true,\"type\":\"pie\"}],\"scatter\":[{\"marker\":{\"colorbar\":{\"outlinewidth\":0,\"ticks\":\"\"}},\"type\":\"scatter\"}],\"scatter3d\":[{\"line\":{\"colorbar\":{\"outlinewidth\":0,\"ticks\":\"\"}},\"marker\":{\"colorbar\":{\"outlinewidth\":0,\"ticks\":\"\"}},\"type\":\"scatter3d\"}],\"scattercarpet\":[{\"marker\":{\"colorbar\":{\"outlinewidth\":0,\"ticks\":\"\"}},\"type\":\"scattercarpet\"}],\"scattergeo\":[{\"marker\":{\"colorbar\":{\"outlinewidth\":0,\"ticks\":\"\"}},\"type\":\"scattergeo\"}],\"scattergl\":[{\"marker\":{\"colorbar\":{\"outlinewidth\":0,\"ticks\":\"\"}},\"type\":\"scattergl\"}],\"scattermapbox\":[{\"marker\":{\"colorbar\":{\"outlinewidth\":0,\"ticks\":\"\"}},\"type\":\"scattermapbox\"}],\"scatterpolar\":[{\"marker\":{\"colorbar\":{\"outlinewidth\":0,\"ticks\":\"\"}},\"type\":\"scatterpolar\"}],\"scatterpolargl\":[{\"marker\":{\"colorbar\":{\"outlinewidth\":0,\"ticks\":\"\"}},\"type\":\"scatterpolargl\"}],\"scatterternary\":[{\"marker\":{\"colorbar\":{\"outlinewidth\":0,\"ticks\":\"\"}},\"type\":\"scatterternary\"}],\"surface\":[{\"colorbar\":{\"outlinewidth\":0,\"ticks\":\"\"},\"colorscale\":[[0.0,\"#0d0887\"],[0.1111111111111111,\"#46039f\"],[0.2222222222222222,\"#7201a8\"],[0.3333333333333333,\"#9c179e\"],[0.4444444444444444,\"#bd3786\"],[0.5555555555555556,\"#d8576b\"],[0.6666666666666666,\"#ed7953\"],[0.7777777777777778,\"#fb9f3a\"],[0.8888888888888888,\"#fdca26\"],[1.0,\"#f0f921\"]],\"type\":\"surface\"}],\"table\":[{\"cells\":{\"fill\":{\"color\":\"#EBF0F8\"},\"line\":{\"color\":\"white\"}},\"header\":{\"fill\":{\"color\":\"#C8D4E3\"},\"line\":{\"color\":\"white\"}},\"type\":\"table\"}]},\"layout\":{\"annotationdefaults\":{\"arrowcolor\":\"#2a3f5f\",\"arrowhead\":0,\"arrowwidth\":1},\"autotypenumbers\":\"strict\",\"coloraxis\":{\"colorbar\":{\"outlinewidth\":0,\"ticks\":\"\"}},\"colorscale\":{\"diverging\":[[0,\"#8e0152\"],[0.1,\"#c51b7d\"],[0.2,\"#de77ae\"],[0.3,\"#f1b6da\"],[0.4,\"#fde0ef\"],[0.5,\"#f7f7f7\"],[0.6,\"#e6f5d0\"],[0.7,\"#b8e186\"],[0.8,\"#7fbc41\"],[0.9,\"#4d9221\"],[1,\"#276419\"]],\"sequential\":[[0.0,\"#0d0887\"],[0.1111111111111111,\"#46039f\"],[0.2222222222222222,\"#7201a8\"],[0.3333333333333333,\"#9c179e\"],[0.4444444444444444,\"#bd3786\"],[0.5555555555555556,\"#d8576b\"],[0.6666666666666666,\"#ed7953\"],[0.7777777777777778,\"#fb9f3a\"],[0.8888888888888888,\"#fdca26\"],[1.0,\"#f0f921\"]],\"sequentialminus\":[[0.0,\"#0d0887\"],[0.1111111111111111,\"#46039f\"],[0.2222222222222222,\"#7201a8\"],[0.3333333333333333,\"#9c179e\"],[0.4444444444444444,\"#bd3786\"],[0.5555555555555556,\"#d8576b\"],[0.6666666666666666,\"#ed7953\"],[0.7777777777777778,\"#fb9f3a\"],[0.8888888888888888,\"#fdca26\"],[1.0,\"#f0f921\"]]},\"colorway\":[\"#636efa\",\"#EF553B\",\"#00cc96\",\"#ab63fa\",\"#FFA15A\",\"#19d3f3\",\"#FF6692\",\"#B6E880\",\"#FF97FF\",\"#FECB52\"],\"font\":{\"color\":\"#2a3f5f\"},\"geo\":{\"bgcolor\":\"white\",\"lakecolor\":\"white\",\"landcolor\":\"#E5ECF6\",\"showlakes\":true,\"showland\":true,\"subunitcolor\":\"white\"},\"hoverlabel\":{\"align\":\"left\"},\"hovermode\":\"closest\",\"mapbox\":{\"style\":\"light\"},\"paper_bgcolor\":\"white\",\"plot_bgcolor\":\"#E5ECF6\",\"polar\":{\"angularaxis\":{\"gridcolor\":\"white\",\"linecolor\":\"white\",\"ticks\":\"\"},\"bgcolor\":\"#E5ECF6\",\"radialaxis\":{\"gridcolor\":\"white\",\"linecolor\":\"white\",\"ticks\":\"\"}},\"scene\":{\"xaxis\":{\"backgroundcolor\":\"#E5ECF6\",\"gridcolor\":\"white\",\"gridwidth\":2,\"linecolor\":\"white\",\"showbackground\":true,\"ticks\":\"\",\"zerolinecolor\":\"white\"},\"yaxis\":{\"backgroundcolor\":\"#E5ECF6\",\"gridcolor\":\"white\",\"gridwidth\":2,\"linecolor\":\"white\",\"showbackground\":true,\"ticks\":\"\",\"zerolinecolor\":\"white\"},\"zaxis\":{\"backgroundcolor\":\"#E5ECF6\",\"gridcolor\":\"white\",\"gridwidth\":2,\"linecolor\":\"white\",\"showbackground\":true,\"ticks\":\"\",\"zerolinecolor\":\"white\"}},\"shapedefaults\":{\"line\":{\"color\":\"#2a3f5f\"}},\"ternary\":{\"aaxis\":{\"gridcolor\":\"white\",\"linecolor\":\"white\",\"ticks\":\"\"},\"baxis\":{\"gridcolor\":\"white\",\"linecolor\":\"white\",\"ticks\":\"\"},\"bgcolor\":\"#E5ECF6\",\"caxis\":{\"gridcolor\":\"white\",\"linecolor\":\"white\",\"ticks\":\"\"}},\"title\":{\"x\":0.05},\"xaxis\":{\"automargin\":true,\"gridcolor\":\"white\",\"linecolor\":\"white\",\"ticks\":\"\",\"title\":{\"standoff\":15},\"zerolinecolor\":\"white\",\"zerolinewidth\":2},\"yaxis\":{\"automargin\":true,\"gridcolor\":\"white\",\"linecolor\":\"white\",\"ticks\":\"\",\"title\":{\"standoff\":15},\"zerolinecolor\":\"white\",\"zerolinewidth\":2}}},\"xaxis\":{\"anchor\":\"y\",\"domain\":[0.0,1.0],\"title\":{\"text\":\"Make\"}},\"yaxis\":{\"anchor\":\"x\",\"domain\":[0.0,1.0],\"title\":{\"text\":\"Total Power\"}},\"legend\":{\"tracegroupgap\":0},\"title\":{\"text\":\"Total Fleet Power by Make\"},\"barmode\":\"relative\"},                        {\"responsive\": true}                    ).then(function(){\n",
       "                            \n",
       "var gd = document.getElementById('1ea6211d-44f7-4321-975a-3dc374e19888');\n",
       "var x = new MutationObserver(function (mutations, observer) {{\n",
       "        var display = window.getComputedStyle(gd).display;\n",
       "        if (!display || display === 'none') {{\n",
       "            console.log([gd, 'removed!']);\n",
       "            Plotly.purge(gd);\n",
       "            observer.disconnect();\n",
       "        }}\n",
       "}});\n",
       "\n",
       "// Listen for the removal of the full notebook cells\n",
       "var notebookContainer = gd.closest('#notebook-container');\n",
       "if (notebookContainer) {{\n",
       "    x.observe(notebookContainer, {childList: true});\n",
       "}}\n",
       "\n",
       "// Listen for the clearing of the current output cell\n",
       "var outputEl = gd.closest('.output');\n",
       "if (outputEl) {{\n",
       "    x.observe(outputEl, {childList: true});\n",
       "}}\n",
       "\n",
       "                        })                };                });            </script>        </div>"
      ]
     },
     "metadata": {},
     "output_type": "display_data"
    }
   ],
   "source": [
    "fig = px.bar(df, y='Total Power', x='Make', title='Total Fleet Power by Make')\n",
    "fig.show()"
   ]
  },
  {
   "cell_type": "code",
   "execution_count": null,
   "id": "1f42e81f",
   "metadata": {},
   "outputs": [],
   "source": [
    "#df[df['Battery Capacity']>=100]"
   ]
  }
 ],
 "metadata": {
  "kernelspec": {
   "display_name": "Python 3 (ipykernel)",
   "language": "python",
   "name": "python3"
  },
  "language_info": {
   "codemirror_mode": {
    "name": "ipython",
    "version": 3
   },
   "file_extension": ".py",
   "mimetype": "text/x-python",
   "name": "python",
   "nbconvert_exporter": "python",
   "pygments_lexer": "ipython3",
   "version": "3.9.12"
  }
 },
 "nbformat": 4,
 "nbformat_minor": 5
}
